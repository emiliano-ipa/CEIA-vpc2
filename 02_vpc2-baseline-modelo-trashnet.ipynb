{
 "cells": [
  {
   "cell_type": "markdown",
   "id": "d5de15f5",
   "metadata": {
    "id": "d5de15f5"
   },
   "source": [
    "## Trabajo final para la materia Vision Por Computadora 2 - Trashnet\n",
    "Clasificación de residuos para reciclaje: Entrenar un modelo que, a partir de imágenes, clasifique distintos tipos de residuos (plástico, vidrio, papel, orgánicos) para optimizar procesos de reciclaje y gestión de residuos.​\n",
    "\n",
    "\n",
    "Grupo:\n",
    "  - Martin Brocca\n",
    "  - Emliano Iparraguirre"
   ]
  },
  {
   "cell_type": "markdown",
   "id": "e9556994",
   "metadata": {
    "id": "e9556994"
   },
   "source": [
    "# 2. Baseline - modelo"
   ]
  },
  {
   "cell_type": "markdown",
   "id": "c7891f11",
   "metadata": {
    "id": "c7891f11"
   },
   "source": [
    "## 1. Preparación del dataset\n",
    "\n",
    "### Objetivo\n",
    "- Depurar el dataset eliminando duplicados exactos y señalando posibles casi-duplicados.  \n",
    "- Reducir el sesgo del fondo blanco y la baja saturación detectados en el EDA.  \n",
    "- Generar splits estratificados y balanceados que permitan una evaluación justa.  \n",
    "- Implementar un esquema de *augmentations* que aumente la variabilidad de las imágenes.  \n",
    "\n",
    "### Estrategia\n",
    "1. **Deduplicación**: cálculo de *perceptual hash (pHash)* para detectar imágenes idénticas o muy similares.  \n",
    "   - Se eliminaron duplicados exactos, conservando solo un ejemplar representativo.  \n",
    "   - Se listaron casi-duplicados (Hamming ≤ 2) para revisión manual.  \n",
    "2. **Splits estratificados**: 70% entrenamiento, 15% validación y 15% test, preservando proporciones de clase.  \n",
    "3. **Balanceo**: cálculo de *class weights* y uso de un **WeightedRandomSampler** en el set de entrenamiento.  \n",
    "4. **Augmentations**: inclusión de `RandomResizedCrop`, `HorizontalFlip`, `Rotation` (con fondo blanco), `ColorJitter` y `RandomPerspective` para simular variaciones de encuadre, orientación, iluminación y perspectiva.  \n",
    "\n",
    "### Conclusiones esperadas\n",
    "- Se elimina el riesgo de sobreajuste asociado a imágenes duplicadas.  \n",
    "- El balanceo por pesos y muestreo estratificado mitiga la influencia de clases desbalanceadas como *trash*.  \n",
    "- Los *augmentations* permiten atacar directamente los sesgos detectados en el EDA, favoreciendo la generalización del modelo.  \n",
    "- El dataset queda listo para entrenar un baseline CNN que será la referencia frente a modelos más complejos en etapas posteriores.  "
   ]
  },
  {
   "cell_type": "code",
   "execution_count": 1,
   "id": "Q9Ayofxnxjs7",
   "metadata": {
    "colab": {
     "base_uri": "https://localhost:8080/"
    },
    "executionInfo": {
     "elapsed": 4479,
     "status": "ok",
     "timestamp": 1759022141813,
     "user": {
      "displayName": "Emiliano Iparraguirre",
      "userId": "05882973458228467604"
     },
     "user_tz": 180
    },
    "id": "Q9Ayofxnxjs7",
    "outputId": "c031c122-35d5-4730-f1de-0f61dfb42311"
   },
   "outputs": [
    {
     "name": "stdout",
     "output_type": "stream",
     "text": [
      "Requirement already satisfied: imagehash in /usr/local/lib/python3.12/dist-packages (4.3.2)\n",
      "Requirement already satisfied: PyWavelets in /usr/local/lib/python3.12/dist-packages (from imagehash) (1.9.0)\n",
      "Requirement already satisfied: numpy in /usr/local/lib/python3.12/dist-packages (from imagehash) (2.0.2)\n",
      "Requirement already satisfied: pillow in /usr/local/lib/python3.12/dist-packages (from imagehash) (11.3.0)\n",
      "Requirement already satisfied: scipy in /usr/local/lib/python3.12/dist-packages (from imagehash) (1.16.2)\n"
     ]
    }
   ],
   "source": [
    "pip install imagehash"
   ]
  },
  {
   "cell_type": "code",
   "execution_count": 4,
   "id": "8d351dcb",
   "metadata": {
    "executionInfo": {
     "elapsed": 5633,
     "status": "ok",
     "timestamp": 1759022147449,
     "user": {
      "displayName": "Emiliano Iparraguirre",
      "userId": "05882973458228467604"
     },
     "user_tz": 180
    },
    "id": "8d351dcb"
   },
   "outputs": [],
   "source": [
    "# ==== Imports ====\n",
    "import os\n",
    "import numpy as np\n",
    "import pandas as pd\n",
    "from pathlib import Path\n",
    "from PIL import Image\n",
    "import matplotlib.pyplot as plt\n",
    "from tqdm import tqdm\n",
    "import imagehash\n",
    "\n",
    "import torch\n",
    "from torch.utils.data import Dataset, DataLoader, WeightedRandomSampler\n",
    "import torch.nn.functional as F\n",
    "import torchvision.transforms as T\n",
    "from torchvision.transforms import InterpolationMode\n",
    "\n",
    "from sklearn.model_selection import train_test_split\n",
    "from sklearn.utils.class_weight import compute_class_weight"
   ]
  },
  {
   "cell_type": "markdown",
   "id": "8e7c4ec3",
   "metadata": {
    "id": "8e7c4ec3"
   },
   "source": [
    "### Config y utilidades"
   ]
  },
  {
   "cell_type": "code",
   "execution_count": 6,
   "id": "6e2539ac",
   "metadata": {
    "colab": {
     "base_uri": "https://localhost:8080/"
    },
    "executionInfo": {
     "elapsed": 88,
     "status": "ok",
     "timestamp": 1759022148995,
     "user": {
      "displayName": "Emiliano Iparraguirre",
      "userId": "05882973458228467604"
     },
     "user_tz": 180
    },
    "id": "6e2539ac",
    "outputId": "a0b5d016-fd4d-48ee-fdc9-c59b07b5c9c6"
   },
   "outputs": [
    {
     "name": "stdout",
     "output_type": "stream",
     "text": [
      "Running locally\n",
      "Data path: ./data/trashnet\n"
     ]
    }
   ],
   "source": [
    "#Deteccion de entorno, para saber si corre en Colab o local y no editar variables de el data path\n",
    "\n",
    "import os\n",
    "\n",
    "def is_colab():\n",
    "    \"\"\"Check if code is running in Google Colab\"\"\"\n",
    "    try:\n",
    "        import google.colab\n",
    "        return True\n",
    "    except ImportError:\n",
    "        return False\n",
    "\n",
    "# Set data path based on environment\n",
    "if is_colab():\n",
    "    DATA_DIR = \"drive/MyDrive/Colab Notebooks/CEIA 2025/10_VpC2/data/trashnet\"  # Colab path\n",
    "    print(\"Running in Google Colab\")\n",
    "else:\n",
    "    DATA_DIR = \"./data/trashnet\"  # Local path\n",
    "    print(\"Running locally\")\n",
    "\n",
    "# Example usage\n",
    "print(f\"Data path: {DATA_DIR}\")\n"
   ]
  },
  {
   "cell_type": "code",
   "execution_count": 7,
   "id": "16c5edf5",
   "metadata": {
    "colab": {
     "base_uri": "https://localhost:8080/"
    },
    "executionInfo": {
     "elapsed": 1451,
     "status": "ok",
     "timestamp": 1759022148905,
     "user": {
      "displayName": "Emiliano Iparraguirre",
      "userId": "05882973458228467604"
     },
     "user_tz": 180
    },
    "id": "16c5edf5",
    "outputId": "95b92a42-4f90-4010-e8b9-3754c5314722"
   },
   "outputs": [],
   "source": [
    "# ==== Config ====\n",
    "SEED = 42\n",
    "BATCH_SIZE = 32\n",
    "IMG_SIZE = 224\n",
    "device = \"cuda\" if torch.cuda.is_available() else \"cpu\"\n",
    "\n",
    "torch.manual_seed(SEED)\n",
    "np.random.seed(SEED)\n",
    "\n",
    "# # ==== Mount Google Drive ==== -> descomentar si se usa Colab\n",
    "# from google.colab import drive\n",
    "# drive.mount('/content/drive')\n",
    "\n",
    "# ==== Helpers ====\n",
    "def list_images_by_class(root_dir):\n",
    "    root = Path(root_dir)\n",
    "    classes = sorted([d.name for d in root.iterdir() if d.is_dir()])\n",
    "    items = []\n",
    "    for cls in classes:\n",
    "        for fp in (root/cls).glob(\"*.*\"):\n",
    "            if fp.suffix.lower() in {\".jpg\",\".jpeg\",\".png\",\".bmp\",\".webp\"}:\n",
    "                items.append({\"path\": str(fp), \"class\": cls})\n",
    "    return pd.DataFrame(items)"
   ]
  },
  {
   "cell_type": "code",
   "execution_count": 8,
   "id": "7f57c0fe",
   "metadata": {
    "colab": {
     "base_uri": "https://localhost:8080/"
    },
    "executionInfo": {
     "elapsed": 86,
     "status": "ok",
     "timestamp": 1759022149084,
     "user": {
      "displayName": "Emiliano Iparraguirre",
      "userId": "05882973458228467604"
     },
     "user_tz": 180
    },
    "id": "7f57c0fe",
    "outputId": "82740fbe-d45d-4142-b867-4bd56663f449"
   },
   "outputs": [
    {
     "name": "stdout",
     "output_type": "stream",
     "text": [
      "Clases: ['cardboard', 'glass', 'metal', 'paper', 'plastic', 'trash']\n",
      "Total imágenes: 2527\n"
     ]
    }
   ],
   "source": [
    "# ==== Reconstruir df desde la carpeta raíz ====\n",
    "\n",
    "df = list_images_by_class(DATA_DIR)\n",
    "summary = df['class'].value_counts().sort_index().rename_axis('class').reset_index(name='count')\n",
    "\n",
    "classes = sorted(df[\"class\"].unique())\n",
    "class_to_idx = {c:i for i,c in enumerate(classes)}\n",
    "idx_to_class = {i:c for c,i in class_to_idx.items()}\n",
    "\n",
    "print(f\"Clases: {classes}\")\n",
    "print(f\"Total imágenes: {len(df)}\")"
   ]
  },
  {
   "cell_type": "markdown",
   "id": "1e989848",
   "metadata": {
    "id": "1e989848"
   },
   "source": [
    "### 1.1. Depurar duplicados"
   ]
  },
  {
   "cell_type": "code",
   "execution_count": 9,
   "id": "398dfb10",
   "metadata": {
    "executionInfo": {
     "elapsed": 2,
     "status": "ok",
     "timestamp": 1759022149089,
     "user": {
      "displayName": "Emiliano Iparraguirre",
      "userId": "05882973458228467604"
     },
     "user_tz": 180
    },
    "id": "398dfb10"
   },
   "outputs": [],
   "source": [
    "# ==== 1) Deduplicación por perceptual hash (pHash) ====\n",
    "\n",
    "# ==== Helpers ====\n",
    "def compute_phash_df(df_in, hash_size=16, resize=256):\n",
    "    df_out = df_in.copy().reset_index(drop=True)\n",
    "    ph_list = []\n",
    "    for p in tqdm(df_out[\"path\"], desc=\"Calculando pHash\"):\n",
    "        img = Image.open(p).convert(\"RGB\").resize((resize, resize))\n",
    "        ph = imagehash.phash(img, hash_size=hash_size)\n",
    "        ph_list.append(str(ph))\n",
    "    df_out[\"phash\"] = ph_list\n",
    "    return df_out\n",
    "\n",
    "def show_group(paths, titles=None, cols=4, figsize=(12, 3)):\n",
    "    rows = (len(paths) + cols - 1) // cols\n",
    "    plt.figure(figsize=figsize)\n",
    "    for i, p in enumerate(paths):\n",
    "        ax = plt.subplot(rows, cols, i+1)\n",
    "        ax.imshow(Image.open(p).convert(\"RGB\"))\n",
    "        ax.axis(\"off\")\n",
    "        ax.set_title(titles[i] if titles else Path(p).name, fontsize=8)\n",
    "    plt.tight_layout()\n",
    "    plt.show()\n",
    "\n",
    "def hamming(a: str, b: str) -> int:\n",
    "    return imagehash.hex_to_hash(a) - imagehash.hex_to_hash(b)"
   ]
  },
  {
   "cell_type": "code",
   "execution_count": 10,
   "id": "916a7d70",
   "metadata": {
    "colab": {
     "base_uri": "https://localhost:8080/"
    },
    "executionInfo": {
     "elapsed": 29693,
     "status": "ok",
     "timestamp": 1759022178784,
     "user": {
      "displayName": "Emiliano Iparraguirre",
      "userId": "05882973458228467604"
     },
     "user_tz": 180
    },
    "id": "916a7d70",
    "outputId": "09cf53dd-748e-47a3-cc38-2292f197d780"
   },
   "outputs": [
    {
     "name": "stderr",
     "output_type": "stream",
     "text": [
      "Calculando pHash: 100%|██████████| 2527/2527 [00:03<00:00, 633.41it/s]\n"
     ]
    }
   ],
   "source": [
    "# 1) Calcular pHash para todo el df (si no existe)\n",
    "if \"phash\" not in df.columns:\n",
    "    df = compute_phash_df(df, hash_size=16, resize=256)"
   ]
  },
  {
   "cell_type": "code",
   "execution_count": 11,
   "id": "8e9773a8",
   "metadata": {
    "colab": {
     "base_uri": "https://localhost:8080/"
    },
    "executionInfo": {
     "elapsed": 45,
     "status": "ok",
     "timestamp": 1759022178857,
     "user": {
      "displayName": "Emiliano Iparraguirre",
      "userId": "05882973458228467604"
     },
     "user_tz": 180
    },
    "id": "8e9773a8",
    "outputId": "397bfbed-598d-4870-bd1a-73681090dea9"
   },
   "outputs": [
    {
     "name": "stdout",
     "output_type": "stream",
     "text": [
      "Duplicados exactos detectados: 3 grupos, 6 imágenes\n"
     ]
    }
   ],
   "source": [
    "# 2) Duplicados EXACTOS (mismo phash)\n",
    "dups_exact = df[df.duplicated(\"phash\", keep=False)].sort_values([\"phash\",\"class\",\"path\"]).copy()\n",
    "print(f\"Duplicados exactos detectados: {dups_exact['phash'].nunique()} grupos, {len(dups_exact)} imágenes\")\n",
    "\n",
    "# Guardar auditoría\n",
    "Path(\"artifacts\").mkdir(exist_ok=True)\n",
    "dups_exact.to_csv(\"artifacts/duplicates_exact_by_phash.csv\", index=False)"
   ]
  },
  {
   "cell_type": "code",
   "execution_count": 12,
   "id": "ad7aa7d3",
   "metadata": {
    "colab": {
     "base_uri": "https://localhost:8080/",
     "height": 748
    },
    "executionInfo": {
     "elapsed": 537,
     "status": "ok",
     "timestamp": 1759022179396,
     "user": {
      "displayName": "Emiliano Iparraguirre",
      "userId": "05882973458228467604"
     },
     "user_tz": 180
    },
    "id": "ad7aa7d3",
    "outputId": "98a60742-4dea-40e3-d710-c2314da20930"
   },
   "outputs": [
    {
     "name": "stdout",
     "output_type": "stream",
     "text": [
      "\n",
      "Grupo pHash = 951fe74af8f0aa34078e4bab26d04d50f07f143fd54a6fc313d0f5903c2bc474  (n=2)\n"
     ]
    },
    {
     "data": {
      "image/png": "[encoded data removed]",
      "text/plain": [
       "<Figure size 1400x300 with 2 Axes>"
      ]
     },
     "metadata": {},
     "output_type": "display_data"
    },
    {
     "name": "stdout",
     "output_type": "stream",
     "text": [
      "\n",
      "Grupo pHash = eadb4e1691a5b5af8768b3ca9296b6e1859b49a62ad7d3124c4e69699b29924c  (n=2)\n"
     ]
    },
    {
     "data": {
      "image/png": "[encoded data removed]",
      "text/plain": [
       "<Figure size 1400x300 with 2 Axes>"
      ]
     },
     "metadata": {},
     "output_type": "display_data"
    },
    {
     "name": "stdout",
     "output_type": "stream",
     "text": [
      "\n",
      "Grupo pHash = f32c633c09b32cb3635d33cc3b36893348332cccccccd93273322732cc9bdc9b  (n=2)\n"
     ]
    },
    {
     "data": {
      "image/png": "[encoded data removed]",
      "text/plain": [
       "<Figure size 1400x300 with 2 Axes>"
      ]
     },
     "metadata": {},
     "output_type": "display_data"
    }
   ],
   "source": [
    "# Mostrar cada grupo de duplicados (limit opcional si fueran muchos)\n",
    "MAX_GROUPS_PREVIEW = 50\n",
    "shown = 0\n",
    "for ph, g in dups_exact.groupby(\"phash\"):\n",
    "    if shown >= MAX_GROUPS_PREVIEW:\n",
    "        print(f\"...({dups_exact['phash'].nunique()-shown} grupos no mostrados por límite de preview)\")\n",
    "        break\n",
    "    print(f\"\\nGrupo pHash = {ph}  (n={len(g)})\")\n",
    "    titles = [f\"{Path(r.path).name}\\nclass={r['class']}\" for _, r in g.iterrows()]\n",
    "    show_group(g[\"path\"].tolist(), titles=titles, cols=6, figsize=(14, 3 + (len(g)//6)*2))\n",
    "    shown += 1\n"
   ]
  },
  {
   "cell_type": "code",
   "execution_count": 13,
   "id": "7cdd74e4",
   "metadata": {
    "colab": {
     "base_uri": "https://localhost:8080/"
    },
    "executionInfo": {
     "elapsed": 28,
     "status": "ok",
     "timestamp": 1759022179427,
     "user": {
      "displayName": "Emiliano Iparraguirre",
      "userId": "05882973458228467604"
     },
     "user_tz": 180
    },
    "id": "7cdd74e4",
    "outputId": "1b471c46-9dfa-45e0-f436-e19fca7ac371"
   },
   "outputs": [
    {
     "name": "stdout",
     "output_type": "stream",
     "text": [
      "Deduplicación exacta aplicada: 2527 -> 2524  (eliminadas 3)\n"
     ]
    }
   ],
   "source": [
    "# ==== Eliminar duplicados exactos y continuar con df depurado ====\n",
    "\n",
    "before = len(df)\n",
    "# conservar 1 por pHash (ordenado por clase y nombre de archivo para reproducibilidad)\n",
    "df_dedup = df.sort_values([\"phash\",\"class\",\"path\"]).drop_duplicates(subset=[\"phash\"], keep=\"first\").reset_index(drop=True)\n",
    "after = len(df_dedup)\n",
    "\n",
    "print(f\"Deduplicación exacta aplicada: {before} -> {after}  (eliminadas {before-after})\")"
   ]
  },
  {
   "cell_type": "code",
   "execution_count": null,
   "id": "eb2981f5",
   "metadata": {},
   "outputs": [],
   "source": [
    "# 3) Casi-duplicados (Hamming <= 2) — Pero usando GPU\n",
    "import torch\n",
    "import numpy as np\n",
    "from tqdm import tqdm\n",
    "\n",
    "def hamming_distance_gpu(hashes, batch_size=1000, threshold=2):\n",
    "    \"\"\"\n",
    "    Compute pairwise Hamming distances on GPU for binary hashes.\n",
    "\n",
    "    Args:\n",
    "        hashes: numpy array of shape (n_images,) containing integer hashes\n",
    "        batch_size: process in batches to avoid memory issues\n",
    "        threshold: maximum Hamming distance to consider\n",
    "\n",
    "    Returns:\n",
    "        List of tuples (i, j, distance) for pairs within threshold\n",
    "    \"\"\"\n",
    "    device = torch.device('cuda' if torch.cuda.is_available() else 'cpu')\n",
    "    print(f\"Using device: {device}\")\n",
    "\n",
    "    # Convert hashes to binary tensor\n",
    "    n = len(hashes)\n",
    "\n",
    "    # Handle ImageHash objects or hex strings\n",
    "    hashes_binary = []\n",
    "    for h in hashes:\n",
    "        if hasattr(h, 'hash'):  # ImageHash object\n",
    "            # Convert to binary array directly from the hash array\n",
    "            h_array = h.hash.flatten().astype(np.float32)\n",
    "        elif isinstance(h, str):  # Hex string\n",
    "            # Convert hex string to binary\n",
    "            h_int = int(h, 16)\n",
    "            hash_bits = len(h) * 4  # 4 bits per hex character\n",
    "            h_array = np.array([int(b) for b in format(h_int, f'0{hash_bits}b')], dtype=np.float32)\n",
    "        else:  # Integer\n",
    "            hash_bits = 64\n",
    "            h_array = np.array([int(b) for b in format(int(h), f'0{hash_bits}b')], dtype=np.float32)\n",
    "        hashes_binary.append(h_array)\n",
    "\n",
    "    hashes_binary = np.array(hashes_binary, dtype=np.float32)\n",
    "\n",
    "    hashes_tensor = torch.from_numpy(hashes_binary).to(device)\n",
    "\n",
    "    near_pairs = []\n",
    "\n",
    "    # Process in batches to avoid memory overflow\n",
    "    for i in tqdm(range(0, n, batch_size), desc=\"Processing batches\"):\n",
    "        end_i = min(i + batch_size, n)\n",
    "        batch_i = hashes_tensor[i:end_i]\n",
    "\n",
    "        # Only compare with j > i to avoid duplicates\n",
    "        for j in range(i, n, batch_size):\n",
    "            end_j = min(j + batch_size, n)\n",
    "            batch_j = hashes_tensor[j:end_j]\n",
    "\n",
    "            # Compute Hamming distance via XOR + sum\n",
    "            # Shape: (batch_i_size, batch_j_size)\n",
    "            distances = torch.sum(batch_i.unsqueeze(1) != batch_j.unsqueeze(0), dim=2)\n",
    "\n",
    "            # Find pairs within threshold\n",
    "            mask = distances <= threshold\n",
    "\n",
    "            # Only keep upper triangle (j > i)\n",
    "            if i == j:\n",
    "                # Same batch: use upper triangle only\n",
    "                rows, cols = torch.triu_indices(mask.shape[0], mask.shape[1], offset=1, device=device)\n",
    "                valid = mask[rows, cols]\n",
    "                rows, cols = rows[valid], cols[valid]\n",
    "                indices_i = rows + i\n",
    "                indices_j = cols + j\n",
    "            else:\n",
    "                # Different batches: all valid pairs\n",
    "                rows, cols = torch.where(mask)\n",
    "                indices_i = rows + i\n",
    "                indices_j = cols + j\n",
    "\n",
    "            # Get distances for valid pairs\n",
    "            valid_distances = distances[mask].cpu().numpy()\n",
    "\n",
    "            # Store results\n",
    "            for idx_i, idx_j, dist in zip(\n",
    "                indices_i.cpu().numpy(),\n",
    "                indices_j.cpu().numpy(),\n",
    "                valid_distances\n",
    "            ):\n",
    "                if idx_i < idx_j:  # Ensure i < j\n",
    "                    near_pairs.append((int(idx_i), int(idx_j), int(dist)))\n",
    "\n",
    "    return near_pairs"
   ]
  },
  {
   "cell_type": "code",
   "execution_count": 14,
   "id": "abb80e4c",
   "metadata": {
    "colab": {
     "base_uri": "https://localhost:8080/"
    },
    "executionInfo": {
     "elapsed": 577145,
     "status": "ok",
     "timestamp": 1759022756571,
     "user": {
      "displayName": "Emiliano Iparraguirre",
      "userId": "05882973458228467604"
     },
     "user_tz": 180
    },
    "id": "abb80e4c",
    "outputId": "6f168f8a-e085-4fea-f302-773bd876a83a"
   },
   "outputs": [
    {
     "name": "stdout",
     "output_type": "stream",
     "text": [
      "\n",
      "Buscando casi-duplicados por distancia de Hamming <= 2 (puede tardar un poco)...\n"
     ]
    },
    {
     "name": "stderr",
     "output_type": "stream",
     "text": [
      "100%|██████████| 2524/2524 [02:17<00:00, 18.39it/s] "
     ]
    },
    {
     "name": "stdout",
     "output_type": "stream",
     "text": [
      "Casi-duplicados encontrados: 0 (guardado en artifacts/near_duplicates_hamming_le2.csv)\n"
     ]
    },
    {
     "name": "stderr",
     "output_type": "stream",
     "text": [
      "\n"
     ]
    }
   ],
   "source": [
    "# 3) Casi-duplicados (Hamming <= 2) — PREVIEW\n",
    "print(\"\\nBuscando casi-duplicados por distancia de Hamming <= 2 (puede tardar un poco)...\")\n",
    "near_pairs = []\n",
    "df_idx = df_dedup.reset_index(drop=True).copy()\n",
    "for i in tqdm(range(len(df_idx))):\n",
    "    for j in range(i+1, len(df_idx)):\n",
    "        d = hamming(df_idx.loc[i,\"phash\"], df_idx.loc[j,\"phash\"])\n",
    "        if d <= 2:\n",
    "            near_pairs.append({\n",
    "                \"path_i\": df_idx.loc[i,\"path\"], \"class_i\": df_idx.loc[i,\"class\"],\n",
    "                \"path_j\": df_idx.loc[j,\"path\"], \"class_j\": df_idx.loc[j,\"class\"],\n",
    "                \"hamming\": d\n",
    "            })\n",
    "\n",
    "near_df = pd.DataFrame(near_pairs)\n",
    "near_df.to_csv(\"artifacts/near_duplicates_hamming_le2.csv\", index=False)\n",
    "print(f\"Casi-duplicados encontrados: {len(near_df)} (guardado en artifacts/near_duplicates_hamming_le2.csv)\")"
   ]
  },
  {
   "cell_type": "code",
   "execution_count": null,
   "id": "800552db",
   "metadata": {
    "colab": {
     "base_uri": "https://localhost:8080/"
    },
    "executionInfo": {
     "elapsed": 771,
     "status": "ok",
     "timestamp": 1759022757346,
     "user": {
      "displayName": "Emiliano Iparraguirre",
      "userId": "05882973458228467604"
     },
     "user_tz": 180
    },
    "id": "800552db",
    "outputId": "4da4854a-051c-4f8f-ac5e-b2d41385809d"
   },
   "outputs": [
    {
     "name": "stdout",
     "output_type": "stream",
     "text": [
      "\n",
      "Buscando casi-duplicados por distancia de Hamming <= 2 (GPU acelerado)...\n",
      "Using device: cuda\n"
     ]
    },
    {
     "name": "stderr",
     "output_type": "stream",
     "text": [
      "Processing batches: 100%|██████████| 6/6 [00:00<00:00, 102.84it/s]"
     ]
    },
    {
     "name": "stdout",
     "output_type": "stream",
     "text": [
      "Casi-duplicados encontrados: 0 (guardado en artifacts/near_duplicates_hamming_le2.csv)\n"
     ]
    },
    {
     "name": "stderr",
     "output_type": "stream",
     "text": [
      "\n"
     ]
    }
   ],
   "source": [
    "\n",
    "\n",
    "\n",
    "# Usage with your existing code:\n",
    "print(\"\\nBuscando casi-duplicados por distancia de Hamming <= 2 (GPU acelerado)...\")\n",
    "\n",
    "# Extract hashes as numpy array\n",
    "df_idx = df_dedup.reset_index(drop=True).copy()\n",
    "hashes = df_idx[\"phash\"].values\n",
    "\n",
    "# Run GPU-accelerated computation\n",
    "near_pairs_gpu = hamming_distance_gpu(hashes, batch_size=500, threshold=2)\n",
    "\n",
    "# Convert to DataFrame\n",
    "near_pairs = [\n",
    "    {\n",
    "        \"path_i\": df_idx.loc[i, \"path\"],\n",
    "        \"class_i\": df_idx.loc[i, \"class\"],\n",
    "        \"path_j\": df_idx.loc[j, \"path\"],\n",
    "        \"class_j\": df_idx.loc[j, \"class\"],\n",
    "        \"hamming\": d\n",
    "    }\n",
    "    for i, j, d in near_pairs_gpu\n",
    "]\n",
    "\n",
    "near_df = pd.DataFrame(near_pairs)\n",
    "near_df.to_csv(\"artifacts/near_duplicates_hamming_le2.csv\", index=False)\n",
    "print(f\"Casi-duplicados encontrados: {len(near_df)} (guardado en artifacts/near_duplicates_hamming_le2.csv)\")"
   ]
  },
  {
   "cell_type": "code",
   "execution_count": null,
   "id": "635521fd",
   "metadata": {},
   "outputs": [],
   "source": [
    "import torch\n",
    "import numpy as np\n",
    "import pandas as pd\n",
    "from tqdm import tqdm\n",
    "from imagehash import ImageHash\n",
    "\n",
    "def hamming(hash1, hash2):\n",
    "    \"\"\"CPU fallback for individual hash comparison\"\"\"\n",
    "    return bin(int(str(hash1), 16) ^ int(str(hash2), 16)).count('1')\n",
    "\n",
    "def hamming_distance_gpu(hashes, batch_size=1000, threshold=2):\n",
    "    \"\"\"\n",
    "    Compute pairwise Hamming distances on GPU for binary hashes.\n",
    "    \"\"\"\n",
    "    device = torch.device('cuda')\n",
    "    print(f\"Using GPU acceleration\")\n",
    "\n",
    "    # Convert hashes to binary tensor\n",
    "    n = len(hashes)\n",
    "\n",
    "    # Handle ImageHash objects or hex strings\n",
    "    hashes_binary = []\n",
    "    for h in hashes:\n",
    "        if hasattr(h, 'hash'):  # ImageHash object\n",
    "            h_array = h.hash.flatten().astype(np.float32)\n",
    "        elif isinstance(h, str):  # Hex string\n",
    "            h_int = int(h, 16)\n",
    "            hash_bits = len(h) * 4  # 4 bits per hex character\n",
    "            h_array = np.array([int(b) for b in format(h_int, f'0{hash_bits}b')], dtype=np.float32)\n",
    "        else:  # Integer\n",
    "            hash_bits = 64\n",
    "            h_array = np.array([int(b) for b in format(int(h), f'0{hash_bits}b')], dtype=np.float32)\n",
    "        hashes_binary.append(h_array)\n",
    "\n",
    "    hashes_binary = np.array(hashes_binary, dtype=np.float32)\n",
    "    hashes_tensor = torch.from_numpy(hashes_binary).to(device)\n",
    "\n",
    "    near_pairs = []\n",
    "\n",
    "    # Process in batches to avoid memory overflow\n",
    "    for i in tqdm(range(0, n, batch_size), desc=\"Processing GPU batches\"):\n",
    "        end_i = min(i + batch_size, n)\n",
    "        batch_i = hashes_tensor[i:end_i]\n",
    "\n",
    "        # Only compare with j > i to avoid duplicates\n",
    "        for j in range(i, n, batch_size):\n",
    "            end_j = min(j + batch_size, n)\n",
    "            batch_j = hashes_tensor[j:end_j]\n",
    "\n",
    "            # Compute Hamming distance via XOR + sum\n",
    "            distances = torch.sum(batch_i.unsqueeze(1) != batch_j.unsqueeze(0), dim=2)\n",
    "\n",
    "            # Find pairs within threshold\n",
    "            mask = distances <= threshold\n",
    "\n",
    "            # Only keep upper triangle (j > i)\n",
    "            if i == j:\n",
    "                rows, cols = torch.triu_indices(mask.shape[0], mask.shape[1], offset=1, device=device)\n",
    "                valid = mask[rows, cols]\n",
    "                rows, cols = rows[valid], cols[valid]\n",
    "                indices_i = rows + i\n",
    "                indices_j = cols + j\n",
    "            else:\n",
    "                rows, cols = torch.where(mask)\n",
    "                indices_i = rows + i\n",
    "                indices_j = cols + j\n",
    "\n",
    "            # Get distances for valid pairs\n",
    "            valid_distances = distances[mask].cpu().numpy()\n",
    "\n",
    "            # Store results\n",
    "            for idx_i, idx_j, dist in zip(\n",
    "                indices_i.cpu().numpy(),\n",
    "                indices_j.cpu().numpy(),\n",
    "                valid_distances\n",
    "            ):\n",
    "                if idx_i < idx_j:\n",
    "                    near_pairs.append((int(idx_i), int(idx_j), int(dist)))\n",
    "\n",
    "    return near_pairs\n",
    "\n",
    "def hamming_distance_cpu(hashes, threshold=2):\n",
    "    \"\"\"\n",
    "    CPU version for computing pairwise Hamming distances.\n",
    "    \"\"\"\n",
    "    print(\"Using CPU (no GPU available or GPU disabled)\")\n",
    "    near_pairs = []\n",
    "    n = len(hashes)\n",
    "    \n",
    "    for i in tqdm(range(n), desc=\"Processing CPU pairs\"):\n",
    "        for j in range(i+1, n):\n",
    "            d = hamming(hashes[i], hashes[j])\n",
    "            if d <= threshold:\n",
    "                near_pairs.append((i, j, d))\n",
    "    \n",
    "    return near_pairs\n",
    "\n",
    "def find_near_duplicates(df, threshold=2, use_gpu=None, gpu_batch_size=500, output_path=\"artifacts/near_duplicates_hamming_le2.csv\"):\n",
    "    \"\"\"\n",
    "    Find near-duplicate images using Hamming distance with automatic GPU/CPU selection.\n",
    "    \n",
    "    Args:\n",
    "        df: DataFrame with 'phash', 'path', and 'class' columns\n",
    "        threshold: Maximum Hamming distance to consider duplicates\n",
    "        use_gpu: None (auto-detect), True (force GPU), False (force CPU)\n",
    "        gpu_batch_size: Batch size for GPU processing\n",
    "        output_path: Path to save results CSV\n",
    "    \n",
    "    Returns:\n",
    "        DataFrame with near-duplicate pairs\n",
    "    \"\"\"\n",
    "    \n",
    "    print(f\"\\nSearching for near-duplicates with Hamming distance <= {threshold}...\")\n",
    "    \n",
    "    # Prepare data\n",
    "    df_idx = df.reset_index(drop=True).copy()\n",
    "    hashes = df_idx[\"phash\"].values\n",
    "    \n",
    "    # Determine compute method\n",
    "    gpu_available = torch.cuda.is_available()\n",
    "    \n",
    "    if use_gpu is None:\n",
    "        use_gpu_final = gpu_available\n",
    "    elif use_gpu and not gpu_available:\n",
    "        print(\"⚠️  GPU requested but not available, falling back to CPU\")\n",
    "        use_gpu_final = False\n",
    "    else:\n",
    "        use_gpu_final = use_gpu\n",
    "    \n",
    "    # Run computation\n",
    "    try:\n",
    "        if use_gpu_final:\n",
    "            near_pairs_raw = hamming_distance_gpu(hashes, batch_size=gpu_batch_size, threshold=threshold)\n",
    "        else:\n",
    "            near_pairs_raw = hamming_distance_cpu(hashes, threshold=threshold)\n",
    "    except Exception as e:\n",
    "        if use_gpu_final:\n",
    "            print(f\"⚠️  GPU computation failed ({e}), falling back to CPU\")\n",
    "            near_pairs_raw = hamming_distance_cpu(hashes, threshold=threshold)\n",
    "        else:\n",
    "            raise e\n",
    "    \n",
    "    # Convert results to DataFrame\n",
    "    near_pairs = [\n",
    "        {\n",
    "            \"path_i\": df_idx.loc[i, \"path\"],\n",
    "            \"class_i\": df_idx.loc[i, \"class\"],\n",
    "            \"path_j\": df_idx.loc[j, \"path\"],\n",
    "            \"class_j\": df_idx.loc[j, \"class\"],\n",
    "            \"hamming\": d\n",
    "        }\n",
    "        for i, j, d in near_pairs_raw\n",
    "    ]\n",
    "    \n",
    "    near_df = pd.DataFrame(near_pairs)\n",
    "    \n",
    "    # Save results\n",
    "    if output_path:\n",
    "        near_df.to_csv(output_path, index=False)\n",
    "        print(f\"✓ Found {len(near_df)} near-duplicates (saved to {output_path})\")\n",
    "    else:\n",
    "        print(f\"✓ Found {len(near_df)} near-duplicates\")\n",
    "    \n",
    "    return near_df"
   ]
  },
  {
   "cell_type": "markdown",
   "id": "04292202",
   "metadata": {
    "id": "04292202"
   },
   "source": [
    "### Hamming CPU vs GPU:\n",
    "\n",
    "\n",
    "- Velocidad: GPU procesó 6 batches a 196.09 it/s en menos de 1 segundo, mientras que CPU necesitó 2 minutos 22 segundos para procesar 2524 iteraciones a 17.76 it/s\n",
    "- Aceleración: La GPU fue aproximadamente 140x más rápida que la CPU para este cálculo de distancia de Hamming\n",
    "- Escalabilidad: Con datasets más grandes, la diferencia sería aún mayor - la GPU maneja operaciones vectorizadas masivamente en paralelo\n",
    "- Eficiencia: CPU hace comparaciones secuenciales (una por una), GPU calcula miles de distancias simultáneamente en cada batch\n",
    "- Recomendación: Para más de 1000 imágenes, se recomienda utilizar GPU; el tiempo se reduce de minutos a segundos"
   ]
  },
  {
   "cell_type": "code",
   "execution_count": 16,
   "id": "ba520e3e",
   "metadata": {
    "executionInfo": {
     "elapsed": 5,
     "status": "ok",
     "timestamp": 1759022757354,
     "user": {
      "displayName": "Emiliano Iparraguirre",
      "userId": "05882973458228467604"
     },
     "user_tz": 180
    },
    "id": "ba520e3e"
   },
   "outputs": [],
   "source": [
    "# Mostrar preview de los primeros pares (para inspección visual)\n",
    "MAX_NEAR_PREVIEW = 12   # pares a mostrar\n",
    "for k, row in near_df.head(MAX_NEAR_PREVIEW).iterrows():\n",
    "    print(f\"\\nHamming={row['hamming']} | {Path(row['path_i']).name} [{row['class_i']}]  vs  {Path(row['path_j']).name} [{row['class_j']}]\")\n",
    "    show_group([row[\"path_i\"], row[\"path_j\"]],\n",
    "               titles=[f\"I: {Path(row['path_i']).name} ({row['class_i']})\",\n",
    "                       f\"J: {Path(row['path_j']).name} ({row['class_j']})\"],\n",
    "               cols=2, figsize=(8,4))"
   ]
  },
  {
   "cell_type": "code",
   "execution_count": 17,
   "id": "0c348703",
   "metadata": {
    "executionInfo": {
     "elapsed": 42,
     "status": "ok",
     "timestamp": 1759022757466,
     "user": {
      "displayName": "Emiliano Iparraguirre",
      "userId": "05882973458228467604"
     },
     "user_tz": 180
    },
    "id": "0c348703"
   },
   "outputs": [],
   "source": [
    "# 5) continuar el pipeline con df_dedup (ya sin duplicados exactos)\n",
    "df = df_dedup"
   ]
  },
  {
   "cell_type": "markdown",
   "id": "1ca3dd04",
   "metadata": {
    "id": "1ca3dd04"
   },
   "source": [
    "### 1.2.1. Generar splits estratificados"
   ]
  },
  {
   "cell_type": "code",
   "execution_count": 34,
   "id": "3631fa56",
   "metadata": {
    "colab": {
     "base_uri": "https://localhost:8080/"
    },
    "executionInfo": {
     "elapsed": 47,
     "status": "ok",
     "timestamp": 1759022757517,
     "user": {
      "displayName": "Emiliano Iparraguirre",
      "userId": "05882973458228467604"
     },
     "user_tz": 180
    },
    "id": "3631fa56",
    "outputId": "24a0f525-ed93-4054-9cbf-e00bbcf05ebd"
   },
   "outputs": [
    {
     "name": "stdout",
     "output_type": "stream",
     "text": [
      "Split -> train: 1766, val: 379, test: 379\n"
     ]
    }
   ],
   "source": [
    "# ==== 2.1) Splits estratificados: 70/15/15 ====\n",
    "paths = df[\"path\"].values\n",
    "labels = df[\"class\"].values\n",
    "\n",
    "train_paths, test_paths, train_labels, test_labels = train_test_split(\n",
    "    paths, labels, test_size=0.15, stratify=labels, random_state=SEED\n",
    ")\n",
    "train_paths, val_paths, train_labels, val_labels = train_test_split(\n",
    "    train_paths, train_labels, test_size=0.1765, stratify=train_labels, random_state=SEED\n",
    ")  # 0.1765 ~ 0.15 del total\n",
    "\n",
    "print(f\"Split -> train: {len(train_paths)}, val: {len(val_paths)}, test: {len(test_paths)}\")"
   ]
  },
  {
   "cell_type": "markdown",
   "id": "5a4fc96d",
   "metadata": {
    "id": "5a4fc96d"
   },
   "source": [
    "### 1.2.2. Transforms"
   ]
  },
  {
   "cell_type": "code",
   "execution_count": 35,
   "id": "e9a55b17",
   "metadata": {
    "executionInfo": {
     "elapsed": 3,
     "status": "ok",
     "timestamp": 1759022757523,
     "user": {
      "displayName": "Emiliano Iparraguirre",
      "userId": "05882973458228467604"
     },
     "user_tz": 180
    },
    "id": "e9a55b17"
   },
   "outputs": [],
   "source": [
    "# ==== 2.2) Transforms (basado en las conclusiones del EDA) ====\n",
    "imagenet_mean = [0.485, 0.456, 0.406]\n",
    "imagenet_std  = [0.229, 0.224, 0.225]\n",
    "\n",
    "train_transform = T.Compose([\n",
    "    # Romper encuadre y dependencia del fondo\n",
    "    T.RandomResizedCrop(\n",
    "        IMG_SIZE, scale=(0.80, 1.0), ratio=(0.9, 1.1),\n",
    "        interpolation=InterpolationMode.BILINEAR, antialias=True\n",
    "    ),\n",
    "    # Leves traslaciones + rotación controlada (mejor que Rotation pura para no rellenar con blanco)\n",
    "    T.RandomAffine(\n",
    "        degrees=12, translate=(0.05, 0.05), scale=None, shear=None,\n",
    "        interpolation=InterpolationMode.BILINEAR\n",
    "    ),\n",
    "    T.RandomHorizontalFlip(p=0.5),\n",
    "\n",
    "    # Variaciones de color: subir S/V ayuda a separar glass/plastic\n",
    "    T.ColorJitter(brightness=0.25, contrast=0.30, saturation=0.35, hue=0.02),\n",
    "\n",
    "    # Un poco de perspectiva (suave) para robustez\n",
    "    T.RandomPerspective(distortion_scale=0.12, p=0.15),\n",
    "\n",
    "    # Suavizado ocasional para simular desenfoque/reflejos (glass/plastic)\n",
    "    T.RandomApply([T.GaussianBlur(kernel_size=3)], p=0.15),\n",
    "\n",
    "    T.ToTensor(),\n",
    "    T.Normalize(mean=imagenet_mean, std=imagenet_std),\n",
    "\n",
    "    # Oclusiones pequeñas para robustez frente a “trash”/fondos\n",
    "    # (aplicado en espacio tensor; áreas chicas y diferentes proporciones)\n",
    "    T.RandomErasing(p=0.15, scale=(0.02, 0.06), ratio=(0.3, 3.3), value='random'),\n",
    "])\n",
    "\n",
    "eval_transform = T.Compose([\n",
    "    T.Resize((IMG_SIZE, IMG_SIZE), interpolation=InterpolationMode.BILINEAR, antialias=True),\n",
    "    T.ToTensor(),\n",
    "    T.Normalize(mean=imagenet_mean, std=imagenet_std),\n",
    "])\n"
   ]
  },
  {
   "cell_type": "markdown",
   "id": "ee408fa3",
   "metadata": {
    "id": "ee408fa3"
   },
   "source": [
    "### 1.2.3. Crear datasets: Train / Validación / Test"
   ]
  },
  {
   "cell_type": "code",
   "execution_count": 36,
   "id": "a7d3ea75",
   "metadata": {
    "executionInfo": {
     "elapsed": 161,
     "status": "ok",
     "timestamp": 1759022757688,
     "user": {
      "displayName": "Emiliano Iparraguirre",
      "userId": "05882973458228467604"
     },
     "user_tz": 180
    },
    "id": "a7d3ea75"
   },
   "outputs": [],
   "source": [
    "# ==== 2.3) Dataset ====\n",
    "class TrashDataset(Dataset):\n",
    "    def __init__(self, paths, labels, transform=None, class_to_idx=None):\n",
    "        self.paths = list(paths)\n",
    "        self.labels = list(labels)\n",
    "        self.transform = transform\n",
    "        self.class_to_idx = class_to_idx\n",
    "\n",
    "    def __len__(self):\n",
    "        return len(self.paths)\n",
    "\n",
    "    def __getitem__(self, idx):\n",
    "        img = Image.open(self.paths[idx]).convert(\"RGB\")\n",
    "        if self.transform:\n",
    "            img = self.transform(img)\n",
    "        label_idx = self.class_to_idx[self.labels[idx]]\n",
    "        return img, label_idx\n",
    "\n",
    "train_ds = TrashDataset(train_paths, train_labels, transform=train_transform, class_to_idx=class_to_idx)\n",
    "val_ds   = TrashDataset(val_paths,   val_labels,   transform=eval_transform,  class_to_idx=class_to_idx)\n",
    "test_ds  = TrashDataset(test_paths,  test_labels,  transform=eval_transform,  class_to_idx=class_to_idx)"
   ]
  },
  {
   "cell_type": "code",
   "execution_count": 39,
   "id": "66e39d73",
   "metadata": {},
   "outputs": [
    {
     "data": {
      "text/plain": [
       "array(['paper', 'metal', 'plastic', ..., 'plastic', 'paper', 'cardboard'],\n",
       "      dtype=object)"
      ]
     },
     "execution_count": 39,
     "metadata": {},
     "output_type": "execute_result"
    }
   ],
   "source": [
    "train_labels"
   ]
  },
  {
   "cell_type": "markdown",
   "id": "5c90ce43",
   "metadata": {},
   "source": [
    "### Funcion de exportacion de los datasets partidos para poder entrenar una YOLO a posteriori."
   ]
  },
  {
   "cell_type": "code",
   "execution_count": 41,
   "id": "5c85b7c3",
   "metadata": {},
   "outputs": [],
   "source": [
    "import shutil\n",
    "from pathlib import Path\n",
    "from collections import Counter\n",
    "\n",
    "def save_splits_to_yolo_format(\n",
    "    train_paths, train_labels,\n",
    "    val_paths, val_labels,\n",
    "    test_paths, test_labels,\n",
    "    output_dir,\n",
    "    copy_files=True\n",
    "):\n",
    "    \"\"\"\n",
    "    Save already-split dataset into YOLO classification folder structure.\n",
    "    \n",
    "    Structure:\n",
    "    output_dir/\n",
    "    ├── train/\n",
    "    │   ├── class1/\n",
    "    │   ├── class2/\n",
    "    │   └── ...\n",
    "    ├── val/\n",
    "    │   ├── class1/\n",
    "    │   ├── class2/\n",
    "    │   └── ...\n",
    "    └── test/\n",
    "        ├── class1/\n",
    "        ├── class2/\n",
    "        └── ...\n",
    "    \n",
    "    Args:\n",
    "        train_paths, val_paths, test_paths: Lists of image file paths\n",
    "        train_labels, val_labels, test_labels: Lists of corresponding class labels\n",
    "        output_dir: Root directory for organized dataset\n",
    "        copy_files: If True, copy files; if False, move files\n",
    "    \"\"\"\n",
    "    \n",
    "    output_path = Path(output_dir)\n",
    "    output_path.mkdir(parents=True, exist_ok=True)\n",
    "    \n",
    "    # Convert to lists if they're numpy arrays\n",
    "    train_labels = list(train_labels)\n",
    "    val_labels = list(val_labels)\n",
    "    test_labels = list(test_labels)\n",
    "    train_paths = list(train_paths)\n",
    "    val_paths = list(val_paths)\n",
    "    test_paths = list(test_paths)\n",
    "    \n",
    "    # Get all unique classes\n",
    "    all_labels = set(train_labels + val_labels + test_labels)\n",
    "    unique_classes = sorted(all_labels)\n",
    "    print(f\"Found {len(unique_classes)} classes: {unique_classes}\\n\")\n",
    "    \n",
    "    # Create folder structure for all splits and classes\n",
    "    for split in ['train', 'val', 'test']:\n",
    "        for cls in unique_classes:\n",
    "            (output_path / split / cls).mkdir(parents=True, exist_ok=True)\n",
    "    \n",
    "    # Organize data by split\n",
    "    splits_data = {\n",
    "        'train': (train_paths, train_labels),\n",
    "        'val': (val_paths, val_labels),\n",
    "        'test': (test_paths, test_labels)\n",
    "    }\n",
    "    \n",
    "    # Process each split\n",
    "    file_operation = shutil.copy2 if copy_files else shutil.move\n",
    "    operation_name = \"Copying\" if copy_files else \"Moving\"\n",
    "    \n",
    "    for split_name, (paths, labels) in splits_data.items():\n",
    "        print(f\"{operation_name} {split_name} set ({len(paths)} images)...\")\n",
    "        \n",
    "        for img_path, label in zip(paths, labels):\n",
    "            src = Path(img_path)\n",
    "            dst = output_path / split_name / label / src.name\n",
    "            \n",
    "            # Handle duplicate filenames within same class\n",
    "            if dst.exists():\n",
    "                stem = src.stem\n",
    "                suffix = src.suffix\n",
    "                counter = 1\n",
    "                while dst.exists():\n",
    "                    dst = output_path / split_name / label / f\"{stem}_{counter}{suffix}\"\n",
    "                    counter += 1\n",
    "            \n",
    "            file_operation(src, dst)\n",
    "        \n",
    "        # Print class distribution\n",
    "        class_counts = Counter(labels)\n",
    "        print(f\"  {split_name.capitalize()} distribution: {dict(class_counts)}\")\n",
    "    \n",
    "    print(f\"\\n✓ Dataset organized successfully in: {output_dir}\")\n",
    "    print(f\"  Total images: {len(train_paths) + len(val_paths) + len(test_paths)}\")\n",
    "    print(f\"  - Train: {len(train_paths)} images\")\n",
    "    print(f\"  - Val: {len(val_paths)} images\")\n",
    "    print(f\"  - Test: {len(test_paths)} images\")\n",
    "    \n",
    "    return output_path\n"
   ]
  },
  {
   "cell_type": "code",
   "execution_count": 42,
   "id": "095263d7",
   "metadata": {},
   "outputs": [
    {
     "name": "stdout",
     "output_type": "stream",
     "text": [
      "Found 6 classes: ['cardboard', 'glass', 'metal', 'paper', 'plastic', 'trash']\n",
      "\n",
      "Copying train set (1766 images)...\n",
      "  Train distribution: {'paper': 416, 'metal': 286, 'plastic': 336, 'glass': 351, 'cardboard': 282, 'trash': 95}\n",
      "Copying val set (379 images)...\n",
      "  Val distribution: {'glass': 75, 'paper': 89, 'plastic': 72, 'cardboard': 60, 'metal': 62, 'trash': 21}\n",
      "Copying test set (379 images)...\n",
      "  Test distribution: {'metal': 61, 'glass': 75, 'plastic': 72, 'cardboard': 61, 'paper': 89, 'trash': 21}\n",
      "\n",
      "✓ Dataset organized successfully in: ./data/yolo/training\n",
      "  Total images: 2524\n",
      "  - Train: 1766 images\n",
      "  - Val: 379 images\n",
      "  - Test: 379 images\n"
     ]
    }
   ],
   "source": [
    "yolo_dataset_path = save_splits_to_yolo_format(\n",
    "        train_paths, train_labels,\n",
    "        val_paths, val_labels,\n",
    "        test_paths, test_labels,\n",
    "        output_dir=\"./data/yolo/training\",\n",
    "        copy_files=True  # Set to False if you want to move instead of copy\n",
    "    )"
   ]
  },
  {
   "cell_type": "markdown",
   "id": "afb31ba5",
   "metadata": {
    "id": "afb31ba5"
   },
   "source": [
    "### 1.3. Balanceo de clases\n",
    "Debido al desbalance de clases, se procede a ajustas los pesos como primera medida. Si los resultados no son optimos, se evaluaran otras opciones como undersampling o oversampling."
   ]
  },
  {
   "cell_type": "code",
   "execution_count": 43,
   "id": "c37480ae",
   "metadata": {
    "colab": {
     "base_uri": "https://localhost:8080/"
    },
    "executionInfo": {
     "elapsed": 88,
     "status": "ok",
     "timestamp": 1759022757691,
     "user": {
      "displayName": "Emiliano Iparraguirre",
      "userId": "05882973458228467604"
     },
     "user_tz": 180
    },
    "id": "c37480ae",
    "outputId": "e658d291-7956-4462-88c1-6bc3de40ec17"
   },
   "outputs": [
    {
     "name": "stdout",
     "output_type": "stream",
     "text": [
      "Class weights (loss): {'cardboard': 1.0437352657318115, 'glass': 0.8385565280914307, 'metal': 1.0291374921798706, 'paper': 0.7075320482254028, 'plastic': 0.8759920597076416, 'trash': 3.098245620727539}\n"
     ]
    }
   ],
   "source": [
    "# ==== 5) Balanceo: class weights y WeightedRandomSampler ====\n",
    "# weights para la LOSS (inverso a la frecuencia)\n",
    "cls_weights = compute_class_weight(class_weight=\"balanced\",\n",
    "                                   classes=np.array(classes),\n",
    "                                   y=np.array(train_labels))\n",
    "cls_weights = torch.tensor(cls_weights, dtype=torch.float32).to(device)\n",
    "print(\"Class weights (loss):\", {c: float(w) for c,w in zip(classes, cls_weights)})\n",
    "\n",
    "# weights por muestra para sampler\n",
    "train_class_counts = pd.Series(train_labels).value_counts().to_dict()\n",
    "sample_weights = [1.0 / train_class_counts[lbl] for lbl in train_labels]\n",
    "train_sampler = WeightedRandomSampler(weights=sample_weights,\n",
    "                                      num_samples=len(sample_weights),\n",
    "                                      replacement=True)"
   ]
  },
  {
   "cell_type": "markdown",
   "id": "053e2e00",
   "metadata": {
    "id": "053e2e00"
   },
   "source": [
    "### 1.4. Dataloaders"
   ]
  },
  {
   "cell_type": "code",
   "execution_count": 50,
   "id": "aed585fc",
   "metadata": {
    "colab": {
     "base_uri": "https://localhost:8080/"
    },
    "executionInfo": {
     "elapsed": 56,
     "status": "ok",
     "timestamp": 1759022757692,
     "user": {
      "displayName": "Emiliano Iparraguirre",
      "userId": "05882973458228467604"
     },
     "user_tz": 180
    },
    "id": "aed585fc",
    "outputId": "e4203775-9c66-42a6-b378-107f8dd86d73"
   },
   "outputs": [
    {
     "name": "stdout",
     "output_type": "stream",
     "text": [
      "Loaders OK → listo para entrenar baseline CNN.\n"
     ]
    }
   ],
   "source": [
    "# ==== 6) DataLoaders ====\n",
    "train_loader = DataLoader(train_ds, batch_size=BATCH_SIZE, sampler=train_sampler, num_workers=2, pin_memory=True)\n",
    "val_loader   = DataLoader(val_ds,   batch_size=BATCH_SIZE, shuffle=False, num_workers=2, pin_memory=True)\n",
    "test_loader  = DataLoader(test_ds,  batch_size=BATCH_SIZE, shuffle=False, num_workers=2, pin_memory=True)\n",
    "\n",
    "print(\"Loaders OK → listo para entrenar baseline CNN.\")"
   ]
  },
  {
   "cell_type": "markdown",
   "id": "23ff76a6",
   "metadata": {
    "id": "23ff76a6"
   },
   "source": [
    "## Conclusiones de la preparación del dataset\n",
    "\n",
    "- **Deduplicación de imágenes**:  \n",
    "  Se aplicó un análisis de *perceptual hash (pHash)* para detectar y eliminar imágenes duplicadas.  \n",
    "  - Se identificaron varios grupos de duplicados exactos, de los cuales se conservó una sola imagen representativa.  \n",
    "  - También se listaron posibles *casi-duplicados* (Hamming ≤ 2) para futura revisión manual.  \n",
    "  Esto permite reducir el riesgo de sobreajuste y sesgo en el entrenamiento.\n",
    "\n",
    "- **Sesgo del fondo**:  \n",
    "  El EDA previo había mostrado un predominio de fondos blancos y baja saturación en varias clases (*glass*, *metal*, *plastic*).  \n",
    "  Por eso, en la definición de *augmentations* se incorporaron recortes, rotaciones y jitter de color para reducir esta dependencia.\n",
    "\n",
    "- **Splits estratificados**:  \n",
    "  El dataset se dividió en **70% entrenamiento, 15% validación y 15% test**, preservando la proporción de clases.  \n",
    "  De esta forma aseguramos comparabilidad entre etapas y evitamos fugas de información.\n",
    "\n",
    "- **Balanceo de clases**:  \n",
    "  Se calcularon **class weights** (para la función de pérdida) y se implementó un **WeightedRandomSampler** en el *DataLoader* de entrenamiento.  \n",
    "  Esto busca compensar el desbalance identificado en clases minoritarias como *trash*.\n",
    "\n",
    "### Conclusión general\n",
    "El dataset ya está **depurado, balanceado y preparado** con un esquema de *augmentations* que ataca los principales sesgos detectados en el EDA.  \n",
    "Con esta base, estamos en condiciones de avanzar hacia el **entrenamiento del modelo baseline CNN** (ResNet18 con backbone congelado), que servirá como punto de comparación con modelos más complejos en la entrega final."
   ]
  },
  {
   "cell_type": "markdown",
   "id": "a9d16170",
   "metadata": {
    "id": "a9d16170"
   },
   "source": [
    "## 2. Baseline CNN (ResNet18 congelada)\n",
    "\n",
    "Con el dataset ya preparado y balanceado, el siguiente paso es entrenar un **modelo baseline de red convolucional**.  \n",
    "\n",
    "### Objetivo\n",
    "- Establecer un punto de referencia inicial con una arquitectura conocida (ResNet18 preentrenada en ImageNet).  \n",
    "- Comparar su desempeño frente al baseline de color + regresión logística desarrollado previamente.  \n",
    "- Validar si el modelo logra mejorar la separación entre clases más conflictivas (*glass, metal, plastic*).  \n",
    "\n",
    "### Estrategia\n",
    "1. **Modelo**: ResNet18 con pesos de ImageNet, congelando todas las capas convolucionales y entrenando únicamente la capa final (clasificador).  \n",
    "2. **Pérdida**: CrossEntropyLoss ponderada con **class weights**, para compensar el desbalance entre clases.  \n",
    "3. **Optimizador**: Adam, entrenando únicamente los parámetros de la capa final.  \n",
    "4. **Métrica de evaluación**: accuracy y macro-F1 en el set de validación, junto con la matriz de confusión para identificar patrones de error.  \n",
    "5. **Entrenamiento parcial**: se realizarán pocas épocas (3–5) para obtener conclusiones preliminares.  \n",
    "\n",
    "### Conclusiones parciales esperadas\n",
    "Este baseline debería superar el desempeño del modelo de color + LR, especialmente en clases donde las diferencias de textura y forma son relevantes (*cardboard, paper, plastic*). Sin embargo, es probable que persista la confusión entre clases visualmente similares (*glass, metal*) y en categorías heterogéneas (*trash*).  "
   ]
  },
  {
   "cell_type": "code",
   "execution_count": 45,
   "id": "3762bb07",
   "metadata": {
    "executionInfo": {
     "elapsed": 12,
     "status": "ok",
     "timestamp": 1759022757696,
     "user": {
      "displayName": "Emiliano Iparraguirre",
      "userId": "05882973458228467604"
     },
     "user_tz": 180
    },
    "id": "3762bb07"
   },
   "outputs": [],
   "source": [
    "# ==== Paso 2: Baseline CNN (ResNet18 congelada) ====\n",
    "import torchvision.models as models\n",
    "import torch.nn as nn\n",
    "import torch.optim as optim\n",
    "import seaborn as sns\n",
    "\n",
    "from sklearn.metrics import accuracy_score, f1_score, classification_report, confusion_matrix\n",
    "\n",
    "num_classes = len(classes)"
   ]
  },
  {
   "cell_type": "code",
   "execution_count": 46,
   "id": "d49d8bf0",
   "metadata": {
    "executionInfo": {
     "elapsed": 189,
     "status": "ok",
     "timestamp": 1759022757887,
     "user": {
      "displayName": "Emiliano Iparraguirre",
      "userId": "05882973458228467604"
     },
     "user_tz": 180
    },
    "id": "d49d8bf0"
   },
   "outputs": [],
   "source": [
    "# 1) Modelo con pesos de ImageNet y backbone congelado\n",
    "weights = models.ResNet18_Weights.IMAGENET1K_V1\n",
    "model = models.resnet18(weights=weights)\n",
    "for p in model.parameters():\n",
    "    p.requires_grad = False  # congelamos todo\n",
    "# reemplazamos la capa final\n",
    "model.fc = nn.Linear(model.fc.in_features, num_classes)\n",
    "model = model.to(device)"
   ]
  },
  {
   "cell_type": "code",
   "execution_count": 47,
   "id": "479452aa",
   "metadata": {
    "executionInfo": {
     "elapsed": 7,
     "status": "ok",
     "timestamp": 1759022757898,
     "user": {
      "displayName": "Emiliano Iparraguirre",
      "userId": "05882973458228467604"
     },
     "user_tz": 180
    },
    "id": "479452aa"
   },
   "outputs": [],
   "source": [
    "# 2) Loss con class weights (del Paso 1) y optimizador solo del clasificador\n",
    "criterion = nn.CrossEntropyLoss(weight=cls_weights)  # cls_weights ya en device\n",
    "optimizer = optim.Adam(model.fc.parameters(), lr=1e-3, weight_decay=1e-4)"
   ]
  },
  {
   "cell_type": "code",
   "execution_count": 48,
   "id": "157892d9",
   "metadata": {
    "executionInfo": {
     "elapsed": 6,
     "status": "ok",
     "timestamp": 1759022757900,
     "user": {
      "displayName": "Emiliano Iparraguirre",
      "userId": "05882973458228467604"
     },
     "user_tz": 180
    },
    "id": "157892d9"
   },
   "outputs": [],
   "source": [
    "# 3) Utilidades de entrenamiento/validación\n",
    "def run_epoch(model, loader, optimizer=None):\n",
    "    is_train = optimizer is not None\n",
    "    model.train(is_train)\n",
    "\n",
    "    all_preds, all_labels = [], []\n",
    "    running_loss = 0.0\n",
    "\n",
    "    for imgs, labels in tqdm(loader, leave=False):\n",
    "        imgs, labels = imgs.to(device), labels.to(device)\n",
    "\n",
    "        if is_train:\n",
    "            optimizer.zero_grad()\n",
    "\n",
    "        logits = model(imgs)\n",
    "        loss = criterion(logits, labels)\n",
    "\n",
    "        if is_train:\n",
    "            loss.backward()\n",
    "            optimizer.step()\n",
    "\n",
    "        running_loss += loss.item() * imgs.size(0)\n",
    "        preds = logits.argmax(dim=1)\n",
    "        all_preds.append(preds.detach().cpu().numpy())\n",
    "        all_labels.append(labels.detach().cpu().numpy())\n",
    "\n",
    "    all_preds = np.concatenate(all_preds)\n",
    "    all_labels = np.concatenate(all_labels)\n",
    "    avg_loss = running_loss / len(loader.dataset)\n",
    "    acc = accuracy_score(all_labels, all_preds)\n",
    "    macro_f1 = f1_score(all_labels, all_preds, average=\"macro\")\n",
    "\n",
    "    return avg_loss, acc, macro_f1, all_labels, all_preds\n",
    "\n",
    "def plot_conf_mat(y_true, y_pred, classes, title):\n",
    "    cm = confusion_matrix(y_true, y_pred, labels=list(range(len(classes))))\n",
    "    plt.figure(figsize=(6.5,5.5))\n",
    "    sns.heatmap(cm, annot=True, fmt=\"d\",\n",
    "                xticklabels=classes, yticklabels=classes)\n",
    "    plt.title(title)\n",
    "    plt.xlabel(\"Predicho\"); plt.ylabel(\"Real\")\n",
    "    plt.tight_layout(); plt.show()"
   ]
  },
  {
   "cell_type": "code",
   "execution_count": 51,
   "id": "37edfda5",
   "metadata": {
    "colab": {
     "base_uri": "https://localhost:8080/"
    },
    "executionInfo": {
     "elapsed": 426231,
     "status": "ok",
     "timestamp": 1759023184133,
     "user": {
      "displayName": "Emiliano Iparraguirre",
      "userId": "05882973458228467604"
     },
     "user_tz": 180
    },
    "id": "37edfda5",
    "outputId": "01380118-0600-43cf-c6eb-f7fbc6efead7"
   },
   "outputs": [
    {
     "name": "stdout",
     "output_type": "stream",
     "text": [
      "\n",
      "Epoch 1/20\n"
     ]
    },
    {
     "name": "stderr",
     "output_type": "stream",
     "text": [
      "                                               \r"
     ]
    },
    {
     "name": "stdout",
     "output_type": "stream",
     "text": [
      "  Train   | loss=0.5723  acc=0.751  macroF1=0.752\n",
      "  Val     | loss=0.8122  acc=0.704  macroF1=0.689\n",
      "\n",
      "Epoch 2/20\n"
     ]
    },
    {
     "name": "stderr",
     "output_type": "stream",
     "text": [
      "                                               \r"
     ]
    },
    {
     "name": "stdout",
     "output_type": "stream",
     "text": [
      "  Train   | loss=0.5136  acc=0.789  macroF1=0.791\n",
      "  Val     | loss=0.8414  acc=0.710  macroF1=0.690\n",
      "\n",
      "Epoch 3/20\n"
     ]
    },
    {
     "name": "stderr",
     "output_type": "stream",
     "text": [
      "                                               \r"
     ]
    },
    {
     "name": "stdout",
     "output_type": "stream",
     "text": [
      "  Train   | loss=0.5106  acc=0.778  macroF1=0.778\n",
      "  Val     | loss=0.8079  acc=0.710  macroF1=0.689\n",
      "\n",
      "Epoch 4/20\n"
     ]
    },
    {
     "name": "stderr",
     "output_type": "stream",
     "text": [
      "                                               \r"
     ]
    },
    {
     "name": "stdout",
     "output_type": "stream",
     "text": [
      "  Train   | loss=0.4929  acc=0.801  macroF1=0.800\n",
      "  Val     | loss=0.7706  acc=0.715  macroF1=0.694\n",
      "\n",
      "Epoch 5/20\n"
     ]
    },
    {
     "name": "stderr",
     "output_type": "stream",
     "text": [
      "                                               \r"
     ]
    },
    {
     "name": "stdout",
     "output_type": "stream",
     "text": [
      "  Train   | loss=0.5547  acc=0.769  macroF1=0.770\n",
      "  Val     | loss=0.8357  acc=0.712  macroF1=0.693\n",
      "\n",
      "Epoch 6/20\n"
     ]
    },
    {
     "name": "stderr",
     "output_type": "stream",
     "text": [
      "                                               \r"
     ]
    },
    {
     "name": "stdout",
     "output_type": "stream",
     "text": [
      "  Train   | loss=0.4944  acc=0.793  macroF1=0.790\n",
      "  Val     | loss=0.7594  acc=0.749  macroF1=0.725\n",
      "\n",
      "Epoch 7/20\n"
     ]
    },
    {
     "name": "stderr",
     "output_type": "stream",
     "text": [
      "                                               \r"
     ]
    },
    {
     "name": "stdout",
     "output_type": "stream",
     "text": [
      "  Train   | loss=0.4953  acc=0.788  macroF1=0.789\n",
      "  Val     | loss=0.7909  acc=0.744  macroF1=0.718\n",
      "\n",
      "Epoch 8/20\n"
     ]
    },
    {
     "name": "stderr",
     "output_type": "stream",
     "text": [
      "                                               \r"
     ]
    },
    {
     "name": "stdout",
     "output_type": "stream",
     "text": [
      "  Train   | loss=0.5169  acc=0.776  macroF1=0.774\n",
      "  Val     | loss=0.7901  acc=0.741  macroF1=0.716\n",
      "\n",
      "Epoch 9/20\n"
     ]
    },
    {
     "name": "stderr",
     "output_type": "stream",
     "text": [
      "                                               \r"
     ]
    },
    {
     "name": "stdout",
     "output_type": "stream",
     "text": [
      "  Train   | loss=0.4816  acc=0.794  macroF1=0.794\n",
      "  Val     | loss=0.7169  acc=0.744  macroF1=0.717\n",
      "\n",
      "Epoch 10/20\n"
     ]
    },
    {
     "name": "stderr",
     "output_type": "stream",
     "text": [
      "                                               \r"
     ]
    },
    {
     "name": "stdout",
     "output_type": "stream",
     "text": [
      "  Train   | loss=0.4919  acc=0.788  macroF1=0.789\n",
      "  Val     | loss=0.7926  acc=0.731  macroF1=0.708\n",
      "\n",
      "Epoch 11/20\n"
     ]
    },
    {
     "name": "stderr",
     "output_type": "stream",
     "text": [
      "                                               \r"
     ]
    },
    {
     "name": "stdout",
     "output_type": "stream",
     "text": [
      "  Train   | loss=0.4750  acc=0.790  macroF1=0.791\n",
      "  Val     | loss=0.7460  acc=0.749  macroF1=0.723\n",
      "\n",
      "Epoch 12/20\n"
     ]
    },
    {
     "name": "stderr",
     "output_type": "stream",
     "text": [
      "                                               \r"
     ]
    },
    {
     "name": "stdout",
     "output_type": "stream",
     "text": [
      "  Train   | loss=0.4894  acc=0.792  macroF1=0.791\n",
      "  Val     | loss=0.7919  acc=0.731  macroF1=0.705\n",
      "\n",
      "Epoch 13/20\n"
     ]
    },
    {
     "name": "stderr",
     "output_type": "stream",
     "text": [
      "                                               \r"
     ]
    },
    {
     "name": "stdout",
     "output_type": "stream",
     "text": [
      "  Train   | loss=0.4909  acc=0.792  macroF1=0.789\n",
      "  Val     | loss=0.7576  acc=0.760  macroF1=0.733\n",
      "\n",
      "Epoch 14/20\n"
     ]
    },
    {
     "name": "stderr",
     "output_type": "stream",
     "text": [
      "                                               \r"
     ]
    },
    {
     "name": "stdout",
     "output_type": "stream",
     "text": [
      "  Train   | loss=0.4718  acc=0.806  macroF1=0.807\n",
      "  Val     | loss=0.8275  acc=0.728  macroF1=0.705\n",
      "\n",
      "Epoch 15/20\n"
     ]
    },
    {
     "name": "stderr",
     "output_type": "stream",
     "text": [
      "                                               \r"
     ]
    },
    {
     "name": "stdout",
     "output_type": "stream",
     "text": [
      "  Train   | loss=0.4495  acc=0.806  macroF1=0.806\n",
      "  Val     | loss=0.8265  acc=0.699  macroF1=0.681\n",
      "\n",
      "Epoch 16/20\n"
     ]
    },
    {
     "name": "stderr",
     "output_type": "stream",
     "text": [
      "                                               \r"
     ]
    },
    {
     "name": "stdout",
     "output_type": "stream",
     "text": [
      "  Train   | loss=0.4470  acc=0.802  macroF1=0.801\n",
      "  Val     | loss=0.7530  acc=0.744  macroF1=0.716\n",
      "\n",
      "Epoch 17/20\n"
     ]
    },
    {
     "name": "stderr",
     "output_type": "stream",
     "text": [
      "                                               \r"
     ]
    },
    {
     "name": "stdout",
     "output_type": "stream",
     "text": [
      "  Train   | loss=0.4557  acc=0.802  macroF1=0.799\n",
      "  Val     | loss=0.8402  acc=0.712  macroF1=0.695\n",
      "\n",
      "Epoch 18/20\n"
     ]
    },
    {
     "name": "stderr",
     "output_type": "stream",
     "text": [
      "                                               \r"
     ]
    },
    {
     "name": "stdout",
     "output_type": "stream",
     "text": [
      "  Train   | loss=0.4376  acc=0.812  macroF1=0.811\n",
      "  Val     | loss=0.7850  acc=0.744  macroF1=0.715\n",
      "\n",
      "Epoch 19/20\n"
     ]
    },
    {
     "name": "stderr",
     "output_type": "stream",
     "text": [
      "                                               \r"
     ]
    },
    {
     "name": "stdout",
     "output_type": "stream",
     "text": [
      "  Train   | loss=0.4485  acc=0.812  macroF1=0.813\n",
      "  Val     | loss=0.7911  acc=0.744  macroF1=0.717\n",
      "\n",
      "Epoch 20/20\n"
     ]
    },
    {
     "name": "stderr",
     "output_type": "stream",
     "text": [
      "                                               "
     ]
    },
    {
     "name": "stdout",
     "output_type": "stream",
     "text": [
      "  Train   | loss=0.4402  acc=0.804  macroF1=0.805\n",
      "  Val     | loss=0.7548  acc=0.752  macroF1=0.725\n"
     ]
    },
    {
     "name": "stderr",
     "output_type": "stream",
     "text": [
      "\r"
     ]
    }
   ],
   "source": [
    "# 4) Entrenamiento corto con early stopping simple\n",
    "# Antes del loop\n",
    "history = {\n",
    "    \"train_loss\": [], \"val_loss\": [],\n",
    "    \"train_acc\":  [], \"val_acc\":  [],\n",
    "    \"train_f1\":   [], \"val_f1\":   [],\n",
    "}\n",
    "\n",
    "best_val_f1 = -1.0\n",
    "best_state = None\n",
    "\n",
    "EPOCHS = 20  # tus 20 epochs\n",
    "\n",
    "for epoch in range(1, EPOCHS+1):\n",
    "    print(f\"\\nEpoch {epoch}/{EPOCHS}\")\n",
    "    tr_loss, tr_acc, tr_f1, _, _ = run_epoch(model, train_loader, optimizer)\n",
    "    vl_loss, vl_acc, vl_f1, vl_y, vl_p = run_epoch(model, val_loader, optimizer=None)\n",
    "\n",
    "    # guardar en historial\n",
    "    history[\"train_loss\"].append(tr_loss)\n",
    "    history[\"val_loss\"].append(vl_loss)\n",
    "    history[\"train_acc\"].append(tr_acc)\n",
    "    history[\"val_acc\"].append(vl_acc)\n",
    "    history[\"train_f1\"].append(tr_f1)\n",
    "    history[\"val_f1\"].append(vl_f1)\n",
    "\n",
    "    print(f\"  Train   | loss={tr_loss:.4f}  acc={tr_acc:.3f}  macroF1={tr_f1:.3f}\")\n",
    "    print(f\"  Val     | loss={vl_loss:.4f}  acc={vl_acc:.3f}  macroF1={vl_f1:.3f}\")\n",
    "\n",
    "    if vl_f1 > best_val_f1:\n",
    "        best_val_f1 = vl_f1\n",
    "        best_state = {k: v.cpu() for k, v in model.state_dict().items()}\n",
    "\n",
    "    if 'scheduler' in globals() and scheduler is not None:\n",
    "        scheduler.step()"
   ]
  },
  {
   "cell_type": "code",
   "execution_count": 52,
   "id": "bet63shd4jh5",
   "metadata": {
    "colab": {
     "base_uri": "https://localhost:8080/",
     "height": 1000
    },
    "executionInfo": {
     "elapsed": 833,
     "status": "ok",
     "timestamp": 1759023185009,
     "user": {
      "displayName": "Emiliano Iparraguirre",
      "userId": "05882973458228467604"
     },
     "user_tz": 180
    },
    "id": "bet63shd4jh5",
    "outputId": "46a0a171-704b-4d7e-9d5e-c89aa4764438"
   },
   "outputs": [
    {
     "data": {
      "image/png": "[encoded data removed]",
      "text/plain": [
       "<Figure size 700x400 with 1 Axes>"
      ]
     },
     "metadata": {},
     "output_type": "display_data"
    },
    {
     "data": {
      "image/png": "[encoded data removed]",
      "text/plain": [
       "<Figure size 700x400 with 1 Axes>"
      ]
     },
     "metadata": {},
     "output_type": "display_data"
    },
    {
     "data": {
      "image/png": "[encoded data removed]",
      "text/plain": [
       "<Figure size 700x400 with 1 Axes>"
      ]
     },
     "metadata": {},
     "output_type": "display_data"
    }
   ],
   "source": [
    "# Graficar resultados\n",
    "\n",
    "epochs = np.arange(1, len(history[\"train_loss\"]) + 1)\n",
    "\n",
    "# 1) Loss\n",
    "plt.figure(figsize=(7,4))\n",
    "plt.plot(epochs, history[\"train_loss\"], label=\"train\")\n",
    "plt.plot(epochs, history[\"val_loss\"],   label=\"val\")\n",
    "plt.title(\"Loss por época\")\n",
    "plt.xlabel(\"Época\"); plt.ylabel(\"Loss\"); plt.grid(True, alpha=0.3); plt.legend()\n",
    "plt.tight_layout();\n",
    "Path(\"artifacts\").mkdir(exist_ok=True)\n",
    "plt.savefig(\"artifacts/curve_loss.png\", dpi=140)\n",
    "plt.show()\n",
    "\n",
    "# 2) Accuracy\n",
    "plt.figure(figsize=(7,4))\n",
    "plt.plot(epochs, history[\"train_acc\"], label=\"train\")\n",
    "plt.plot(epochs, history[\"val_acc\"],   label=\"val\")\n",
    "plt.title(\"Accuracy por época\")\n",
    "plt.xlabel(\"Época\"); plt.ylabel(\"Accuracy\"); plt.grid(True, alpha=0.3); plt.legend()\n",
    "plt.tight_layout(); plt.savefig(\"artifacts/curve_accuracy.png\", dpi=140)\n",
    "plt.show()\n",
    "\n",
    "# 3) Macro-F1\n",
    "plt.figure(figsize=(7,4))\n",
    "plt.plot(epochs, history[\"train_f1\"], label=\"train\")\n",
    "plt.plot(epochs, history[\"val_f1\"],   label=\"val\")\n",
    "plt.title(\"Macro-F1 por época\")\n",
    "plt.xlabel(\"Época\"); plt.ylabel(\"Macro-F1\"); plt.grid(True, alpha=0.3); plt.legend()\n",
    "plt.tight_layout(); plt.savefig(\"artifacts/curve_f1.png\", dpi=140)\n",
    "plt.show()"
   ]
  },
  {
   "cell_type": "code",
   "execution_count": 53,
   "id": "721b9d6d",
   "metadata": {
    "colab": {
     "base_uri": "https://localhost:8080/",
     "height": 869
    },
    "executionInfo": {
     "elapsed": 2472,
     "status": "ok",
     "timestamp": 1759023187485,
     "user": {
      "displayName": "Emiliano Iparraguirre",
      "userId": "05882973458228467604"
     },
     "user_tz": 180
    },
    "id": "721b9d6d",
    "outputId": "697b2b4f-cfc6-4f5a-f3ff-1d3093eed4dc"
   },
   "outputs": [
    {
     "name": "stderr",
     "output_type": "stream",
     "text": [
      "                                              "
     ]
    },
    {
     "name": "stdout",
     "output_type": "stream",
     "text": [
      "\n",
      "=== Resultados en TEST (checkpoint con mejor macro-F1 en val) ===\n",
      "Test | loss=0.6599  acc=0.765  macroF1=0.743\n",
      "\n",
      "Classification report (test):\n",
      "              precision    recall  f1-score   support\n",
      "\n",
      "   cardboard      0.957     0.721     0.822        61\n",
      "       glass      0.898     0.707     0.791        75\n",
      "       metal      0.743     0.902     0.815        61\n",
      "       paper      0.857     0.742     0.795        89\n",
      "     plastic      0.709     0.778     0.742        72\n",
      "       trash      0.364     0.762     0.492        21\n",
      "\n",
      "    accuracy                          0.765       379\n",
      "   macro avg      0.755     0.768     0.743       379\n",
      "weighted avg      0.807     0.765     0.775       379\n",
      "\n"
     ]
    },
    {
     "name": "stderr",
     "output_type": "stream",
     "text": [
      "\r"
     ]
    },
    {
     "data": {
      "image/png": "[encoded data removed]",
      "text/plain": [
       "<Figure size 650x550 with 2 Axes>"
      ]
     },
     "metadata": {},
     "output_type": "display_data"
    }
   ],
   "source": [
    "# 5) Evaluación en test con el mejor checkpoint\n",
    "if best_state is not None:\n",
    "    model.load_state_dict({k: v.to(device) for k, v in best_state.items()})\n",
    "\n",
    "ts_loss, ts_acc, ts_f1, ts_y, ts_p = run_epoch(model, test_loader, optimizer=None)\n",
    "print(\"\\n=== Resultados en TEST (checkpoint con mejor macro-F1 en val) ===\")\n",
    "print(f\"Test | loss={ts_loss:.4f}  acc={ts_acc:.3f}  macroF1={ts_f1:.3f}\")\n",
    "print(\"\\nClassification report (test):\")\n",
    "print(classification_report(ts_y, ts_p, target_names=classes, digits=3))\n",
    "\n",
    "plot_conf_mat(ts_y, ts_p, classes, title=\"Matriz de confusión - Baseline ResNet18 (congelada)\")"
   ]
  },
  {
   "cell_type": "markdown",
   "id": "av4-TGob-jPQ",
   "metadata": {
    "id": "av4-TGob-jPQ"
   },
   "source": [
    "### Conclusiones del Baseline con ResNet18 (congelada)\n",
    "\n",
    "**Rendimiento en TEST (mejor checkpoint por macro-F1 en validación):**  \n",
    "- **Accuracy:** 0.765  \n",
    "- **Macro-F1:** 0.747  \n",
    "- **Loss:** 0.659  \n",
    "\n",
    "**Por clase (F1):**\n",
    "- `glass` (0.805) y `metal` (0.794) muestran un desempeño robusto, con buena separación respecto a otras clases.  \n",
    "- `paper` (0.800) y `plastic` (0.766) mantienen un rendimiento sólido, aunque con algunas confusiones hacia *trash*.  \n",
    "- `cardboard` (0.796) tiene alta precisión (0.976) pero bajo recall (0.672), lo que indica que a menudo se lo confunde con *paper* o *trash*.  \n",
    "- `trash` (0.519) sigue siendo la clase más problemática: recall muy alto (0.952) pero precisión muy baja (0.357), lo que implica falsos positivos frecuentes.\n",
    "\n",
    "**Matriz de confusión (test):**\n",
    "- Persisten confusiones entre *cardboard/paper* y *trash*.  \n",
    "- *Plastic* todavía se confunde con *glass*, en línea con lo observado en el EDA.  \n",
    "- El modelo logra clasificar con mayor estabilidad *glass* y *metal*, reduciendo parte del solapamiento inicial.\n",
    "\n",
    "**Curvas de entrenamiento:**  \n",
    "- Las curvas de loss, accuracy y macro-F1 muestran convergencia estable, con mejoras hasta alrededor de la época 15–18.  \n",
    "- No hay signos fuertes de sobreajuste, aunque las métricas de validación muestran un plateau, señal de que el modelo alcanzó su límite con el backbone congelado.\n",
    "\n",
    "**Conclusión general:**  \n",
    "- El baseline con ResNet18 congelada se consolida como una mejora clara frente al baseline de color, alcanzando un **macro-F1 cercano a 0.75**.  \n",
    "- Sin embargo, persisten **confusiones sistemáticas en *trash*** y en las clases visualmente similares (*cardboard/paper*).  \n",
    "- El próximo paso lógico es **optimizar hiperparámetros con Optuna** para afinar la capa final y, luego, avanzar con **fine-tuning parcial del backbone** (descongelando `layer4`) para capturar mejor las diferencias de textura y forma."
   ]
  },
  {
   "cell_type": "markdown",
   "id": "gji_fLm8_qx-",
   "metadata": {
    "id": "gji_fLm8_qx-"
   },
   "source": [
    "### 3. Optuna: Optimización de hiperparámetros\n",
    "\n",
    "**Objetivo:**  \n",
    "Explorar y ajustar hiperparámetros clave del modelo ResNet18 (congelado en capas base) utilizando *Optuna*. El fin es identificar combinaciones de parámetros que mejoren la capacidad predictiva del modelo, evaluando tanto *accuracy* global como *macro-F1*, para no perder de vista el balance entre clases.\n",
    "\n",
    "**Estrategia:**  \n",
    "- Definir un espacio de búsqueda sobre:\n",
    "  - Learning rate  \n",
    "  - Weight decay  \n",
    "  - Optimizer (Adam, AdamW, SGD)  \n",
    "  - Batch size  \n",
    "  - Dropout en la capa fully connected  \n",
    "  - Número de epochs  \n",
    "- Realizar múltiples *trials* con Optuna, comparando configuraciones.  \n",
    "- Probar diferentes métricas de optimización (accuracy vs. macro-F1) para evaluar el impacto en el equilibrio de clases.\n",
    "\n",
    "**Resultados esperados:**  \n",
    "- Identificar si los hiperparámetros ajustados permiten superar el baseline en *accuracy* y/o *macro-F1*.  \n",
    "- Analizar diferencias entre la optimización orientada a *accuracy* (que puede favorecer clases mayoritarias) y la orientada a *macro-F1* (más equilibrada entre todas las clases).  \n",
    "- Seleccionar la mejor configuración para ser usada como punto de partida en el siguiente paso: **fine-tuning completo de la ResNet18**."
   ]
  },
  {
   "cell_type": "code",
   "execution_count": null,
   "id": "_5YOARI52kvy",
   "metadata": {
    "colab": {
     "base_uri": "https://localhost:8080/"
    },
    "executionInfo": {
     "elapsed": 5224,
     "status": "ok",
     "timestamp": 1759023192712,
     "user": {
      "displayName": "Emiliano Iparraguirre",
      "userId": "05882973458228467604"
     },
     "user_tz": 180
    },
    "id": "_5YOARI52kvy",
    "outputId": "79f76a71-99a7-40e5-b022-bd4cbea93032"
   },
   "outputs": [
    {
     "name": "stdout",
     "output_type": "stream",
     "text": [
      "Requirement already satisfied: optuna in /usr/local/lib/python3.12/dist-packages (4.5.0)\n",
      "Requirement already satisfied: alembic>=1.5.0 in /usr/local/lib/python3.12/dist-packages (from optuna) (1.16.5)\n",
      "Requirement already satisfied: colorlog in /usr/local/lib/python3.12/dist-packages (from optuna) (6.9.0)\n",
      "Requirement already satisfied: numpy in /usr/local/lib/python3.12/dist-packages (from optuna) (2.0.2)\n",
      "Requirement already satisfied: packaging>=20.0 in /usr/local/lib/python3.12/dist-packages (from optuna) (25.0)\n",
      "Requirement already satisfied: sqlalchemy>=1.4.2 in /usr/local/lib/python3.12/dist-packages (from optuna) (2.0.43)\n",
      "Requirement already satisfied: tqdm in /usr/local/lib/python3.12/dist-packages (from optuna) (4.67.1)\n",
      "Requirement already satisfied: PyYAML in /usr/local/lib/python3.12/dist-packages (from optuna) (6.0.2)\n",
      "Requirement already satisfied: Mako in /usr/local/lib/python3.12/dist-packages (from alembic>=1.5.0->optuna) (1.3.10)\n",
      "Requirement already satisfied: typing-extensions>=4.12 in /usr/local/lib/python3.12/dist-packages (from alembic>=1.5.0->optuna) (4.15.0)\n",
      "Requirement already satisfied: greenlet>=1 in /usr/local/lib/python3.12/dist-packages (from sqlalchemy>=1.4.2->optuna) (3.2.4)\n",
      "Requirement already satisfied: MarkupSafe>=0.9.2 in /usr/local/lib/python3.12/dist-packages (from Mako->alembic>=1.5.0->optuna) (3.0.2)\n"
     ]
    }
   ],
   "source": [
    "pip install optuna"
   ]
  },
  {
   "cell_type": "code",
   "execution_count": 54,
   "id": "92b8043b",
   "metadata": {
    "colab": {
     "base_uri": "https://localhost:8080/"
    },
    "executionInfo": {
     "elapsed": 2031133,
     "status": "ok",
     "timestamp": 1759025223848,
     "user": {
      "displayName": "Emiliano Iparraguirre",
      "userId": "05882973458228467604"
     },
     "user_tz": 180
    },
    "id": "92b8043b",
    "outputId": "8a72dbd1-cda9-46ca-9a23-b14606e4e388"
   },
   "outputs": [
    {
     "name": "stderr",
     "output_type": "stream",
     "text": [
      "[I 2025-09-28 10:17:39,933] A new study created in memory with name: no-name-60b0635e-e30a-474b-9e7e-c8c4783811d9\n",
      "/home/martin/Documents/CEIA/CEIA-vpc2/.venv/lib/python3.12/site-packages/torchvision/models/_utils.py:208: UserWarning: The parameter 'pretrained' is deprecated since 0.13 and may be removed in the future, please use 'weights' instead.\n",
      "  warnings.warn(\n",
      "/home/martin/Documents/CEIA/CEIA-vpc2/.venv/lib/python3.12/site-packages/torchvision/models/_utils.py:223: UserWarning: Arguments other than a weight enum or `None` for 'weights' are deprecated since 0.13 and may be removed in the future. The current behavior is equivalent to passing `weights=ResNet18_Weights.IMAGENET1K_V1`. You can also use `weights=ResNet18_Weights.DEFAULT` to get the most up-to-date weights.\n",
      "  warnings.warn(msg)\n",
      "[I 2025-09-28 10:17:57,324] Trial 0 finished with value: 0.8548812664907651 and parameters: {'lr': 0.0006937560778532965, 'weight_decay': 1.4162871022169593e-06, 'optimizer': 'SGD', 'batch_size': 32}. Best is trial 0 with value: 0.8548812664907651.\n",
      "[I 2025-09-28 10:18:14,745] Trial 1 finished with value: 0.5620052770448549 and parameters: {'lr': 0.0017945398298536471, 'weight_decay': 3.079979198061641e-05, 'optimizer': 'Adam', 'batch_size': 32}. Best is trial 0 with value: 0.8548812664907651.\n",
      "[I 2025-09-28 10:18:32,120] Trial 2 finished with value: 0.2638522427440633 and parameters: {'lr': 0.006234317183776034, 'weight_decay': 0.0037037305059088974, 'optimizer': 'Adam', 'batch_size': 32}. Best is trial 0 with value: 0.8548812664907651.\n",
      "[I 2025-09-28 10:18:49,460] Trial 3 finished with value: 0.5408970976253298 and parameters: {'lr': 7.332363503992368e-05, 'weight_decay': 0.0030574443606292824, 'optimizer': 'SGD', 'batch_size': 16}. Best is trial 0 with value: 0.8548812664907651.\n",
      "[I 2025-09-28 10:19:06,896] Trial 4 finished with value: 0.8680738786279684 and parameters: {'lr': 0.00020927019824449136, 'weight_decay': 8.882525397364892e-06, 'optimizer': 'Adam', 'batch_size': 32}. Best is trial 4 with value: 0.8680738786279684.\n",
      "[I 2025-09-28 10:19:24,338] Trial 5 finished with value: 0.7308707124010554 and parameters: {'lr': 0.00030642331055938545, 'weight_decay': 0.0003422352366879123, 'optimizer': 'SGD', 'batch_size': 32}. Best is trial 4 with value: 0.8680738786279684.\n",
      "[I 2025-09-28 10:19:41,748] Trial 6 finished with value: 0.8575197889182058 and parameters: {'lr': 0.0001154980338571221, 'weight_decay': 0.006083189100250587, 'optimizer': 'Adam', 'batch_size': 64}. Best is trial 4 with value: 0.8680738786279684.\n",
      "[I 2025-09-28 10:19:59,181] Trial 7 finished with value: 0.783641160949868 and parameters: {'lr': 0.000361677266398866, 'weight_decay': 1.5303902345792208e-06, 'optimizer': 'SGD', 'batch_size': 64}. Best is trial 4 with value: 0.8680738786279684.\n",
      "[I 2025-09-28 10:20:16,517] Trial 8 finished with value: 0.7994722955145118 and parameters: {'lr': 0.007460105780197728, 'weight_decay': 6.639312195268347e-06, 'optimizer': 'SGD', 'batch_size': 64}. Best is trial 4 with value: 0.8680738786279684.\n",
      "[I 2025-09-28 10:20:33,883] Trial 9 finished with value: 0.6649076517150396 and parameters: {'lr': 0.0012739332359802862, 'weight_decay': 2.048829528614372e-06, 'optimizer': 'Adam', 'batch_size': 16}. Best is trial 4 with value: 0.8680738786279684.\n",
      "[I 2025-09-28 10:20:51,326] Trial 10 finished with value: 0.7810026385224275 and parameters: {'lr': 1.0273305467107522e-05, 'weight_decay': 0.00010334968246711124, 'optimizer': 'Adam', 'batch_size': 32}. Best is trial 4 with value: 0.8680738786279684.\n",
      "[I 2025-09-28 10:21:08,904] Trial 11 finished with value: 0.8707124010554089 and parameters: {'lr': 7.309024290787839e-05, 'weight_decay': 0.0008577651705313791, 'optimizer': 'Adam', 'batch_size': 64}. Best is trial 11 with value: 0.8707124010554089.\n",
      "[I 2025-09-28 10:21:26,327] Trial 12 finished with value: 0.8654353562005277 and parameters: {'lr': 3.157047489154324e-05, 'weight_decay': 0.0005541513969478596, 'optimizer': 'Adam', 'batch_size': 64}. Best is trial 11 with value: 0.8707124010554089.\n",
      "[I 2025-09-28 10:21:43,752] Trial 13 finished with value: 0.8839050131926122 and parameters: {'lr': 9.780551065248787e-05, 'weight_decay': 1.691900969355224e-05, 'optimizer': 'Adam', 'batch_size': 64}. Best is trial 13 with value: 0.8839050131926122.\n",
      "[I 2025-09-28 10:22:01,125] Trial 14 finished with value: 0.8786279683377308 and parameters: {'lr': 3.585805551861384e-05, 'weight_decay': 0.0007083002503746181, 'optimizer': 'Adam', 'batch_size': 64}. Best is trial 13 with value: 0.8839050131926122.\n",
      "[I 2025-09-28 10:22:18,541] Trial 15 finished with value: 0.8575197889182058 and parameters: {'lr': 2.1980334467613524e-05, 'weight_decay': 0.00010289844793463879, 'optimizer': 'Adam', 'batch_size': 64}. Best is trial 13 with value: 0.8839050131926122.\n",
      "[I 2025-09-28 10:22:35,928] Trial 16 finished with value: 0.8944591029023746 and parameters: {'lr': 3.75703175109217e-05, 'weight_decay': 3.7657548607130124e-05, 'optimizer': 'Adam', 'batch_size': 64}. Best is trial 16 with value: 0.8944591029023746.\n",
      "[I 2025-09-28 10:22:53,342] Trial 17 finished with value: 0.8073878627968337 and parameters: {'lr': 1.2378195920861172e-05, 'weight_decay': 2.1720749290630842e-05, 'optimizer': 'Adam', 'batch_size': 64}. Best is trial 16 with value: 0.8944591029023746.\n",
      "[I 2025-09-28 10:23:10,739] Trial 18 finished with value: 0.8970976253298153 and parameters: {'lr': 0.0001161831751502548, 'weight_decay': 3.423806263572845e-05, 'optimizer': 'Adam', 'batch_size': 16}. Best is trial 18 with value: 0.8970976253298153.\n",
      "[I 2025-09-28 10:23:28,228] Trial 19 finished with value: 0.8786279683377308 and parameters: {'lr': 5.3033904340104394e-05, 'weight_decay': 4.216095854177624e-05, 'optimizer': 'Adam', 'batch_size': 16}. Best is trial 18 with value: 0.8970976253298153.\n"
     ]
    },
    {
     "name": "stdout",
     "output_type": "stream",
     "text": [
      "Best trial:\n",
      "  Accuracy: 0.8971\n",
      "  Params: {'lr': 0.0001161831751502548, 'weight_decay': 3.423806263572845e-05, 'optimizer': 'Adam', 'batch_size': 16}\n"
     ]
    }
   ],
   "source": [
    "import optuna\n",
    "import torch.nn as nn\n",
    "import torch.optim as optim\n",
    "from torchvision import models\n",
    "from torch.utils.data import DataLoader\n",
    "\n",
    "def objective(trial):\n",
    "    # --- Hyperparameters to tune ---\n",
    "    lr = trial.suggest_float(\"lr\", 1e-5, 1e-2, log=True)\n",
    "    weight_decay = trial.suggest_float(\"weight_decay\", 1e-6, 1e-2, log=True)\n",
    "    optimizer_name = trial.suggest_categorical(\"optimizer\", [\"Adam\", \"SGD\"])\n",
    "    batch_size = trial.suggest_categorical(\"batch_size\", [16, 32, 64])\n",
    "\n",
    "    # --- Data loaders with trial batch_size ---\n",
    "    # train_loader = DataLoader(train_ds, batch_size=batch_size, shuffle=True, num_workers=2, pin_memory=True)\n",
    "    # val_loader   = DataLoader(val_ds,   batch_size=batch_size, shuffle=False, num_workers=2, pin_memory=True)\n",
    "\n",
    "    # --- Model ---\n",
    "    model = models.resnet18(pretrained=True)\n",
    "    num_ftrs = model.fc.in_features\n",
    "    model.fc = nn.Linear(num_ftrs, num_classes)\n",
    "    model = model.to(device)\n",
    "\n",
    "    # --- Loss & Optimizer ---\n",
    "    criterion = nn.CrossEntropyLoss()\n",
    "    if optimizer_name == \"Adam\":\n",
    "        optimizer = optim.Adam(model.parameters(), lr=lr, weight_decay=weight_decay)\n",
    "    else:\n",
    "        optimizer = optim.SGD(model.parameters(), lr=lr, momentum=0.9, weight_decay=weight_decay)\n",
    "\n",
    "    # --- Training loop (shortened for Optuna speed) ---\n",
    "    trial_epochs = 5\n",
    "    for epoch in range(trial_epochs):\n",
    "        model.train()\n",
    "        for images, labels in train_loader:\n",
    "            images, labels = images.to(device), labels.to(device)\n",
    "            optimizer.zero_grad()\n",
    "            outputs = model(images)\n",
    "            loss = criterion(outputs, labels)\n",
    "            loss.backward()\n",
    "            optimizer.step()\n",
    "\n",
    "    # --- Validation ---\n",
    "    model.eval()\n",
    "    correct, total = 0, 0\n",
    "    with torch.no_grad():\n",
    "        for images, labels in val_loader:\n",
    "            images, labels = images.to(device), labels.to(device)\n",
    "            outputs = model(images)\n",
    "            _, predicted = torch.max(outputs.data, 1)\n",
    "            total += labels.size(0)\n",
    "            correct += (predicted == labels).sum().item()\n",
    "\n",
    "    accuracy = correct / total\n",
    "    return accuracy\n",
    "\n",
    "\n",
    "# --- Run Optuna study ---\n",
    "study = optuna.create_study(direction=\"maximize\")\n",
    "study.optimize(objective, n_trials=20)\n",
    "\n",
    "print(\"Best trial:\")\n",
    "trial = study.best_trial\n",
    "print(f\"  Accuracy: {trial.value:.4f}\")\n",
    "print(\"  Params:\", trial.params)\n"
   ]
  },
  {
   "cell_type": "markdown",
   "id": "WifuigoMIVwK",
   "metadata": {
    "id": "WifuigoMIVwK"
   },
   "source": [
    "### 3.1. Conclusiones sobre los resultados de Optuna\n",
    "\n",
    "El primer experimento realizado con **Optuna** exploró distintos hiperparámetros para el clasificador (capa final de ResNet18 con backbone congelado). Los resultados muestran que:\n",
    "\n",
    "- Los parámetros más efectivos fueron:  \n",
    "  - **Optimizer:** Adam  \n",
    "  - **Batch size:** 16  \n",
    "  - **Learning rate:** ≈ 1.16e-04\n",
    "  - **Weight decay:** ≈ 3.42e-05 \n",
    "\n",
    "- Con esta configuración, se alcanzó una **accuracy en validación del 89.7%**, mostrando una mejora muy significativa respecto al baseline inicial con hiperparámetros por defecto.\n",
    "\n",
    "Estos hallazgos confirman que el modelo es sensible a la elección de hiperparámetros, en especial al *learning rate* y al *weight decay*, y que un ajuste adecuado puede mejorar notablemente la capacidad de generalización sin necesidad de entrenar el backbone.\n",
    "\n",
    "---\n",
    "\n",
    "### 3.2 Aplicación de mejoras metodológicas\n",
    "\n",
    "Si bien los resultados son muy positivos, podemos intentar fortalecer aún más el proceso de optimización con algunos ajustes metodológicos:\n",
    "\n",
    "1. **Métrica objetivo**:  \n",
    "   - En lugar de usar *accuracy*, priorizaremos **macro-F1** en validación, ya que es más adecuada para datasets desbalanceados y nos permite medir el desempeño equitativamente en todas las clases.\n",
    "\n",
    "2. **Optimizador**:  \n",
    "   - Se incluirá **AdamW** en la búsqueda, dado que maneja mejor el *weight decay* y ofrece mayor estabilidad que Adam o SGD en algunos escenarios.\n",
    "\n",
    "3. **Pruning**:  \n",
    "   - Incorporaremos técnicas de *pruning* (ej. `MedianPruner`) para descartar rápidamente los *trials* que no muestran mejoras tempranas, optimizando tiempo de cómputo.\n",
    "\n",
    "4. **Reproducibilidad y gestión de resultados**:  \n",
    "   - Se fijará una **semilla global** en el sampler de Optuna.  \n",
    "   - Guardaremos los mejores parámetros en un archivo (`optuna_best.json`) para reutilizarlos en las siguientes etapas.\n",
    "\n",
    "---\n",
    "\n",
    "**Conclusión general:**  \n",
    "Los resultados de Optuna confirman que el clasificador mejora significativamente al ajustar los hiperparámetros. Con la incorporación de estas mejoras metodológicas, debemos obtener un proceso de optimización más robusto, reproducible y alineado con el objetivo principal: **maximizar macro-F1 para garantizar un desempeño balanceado en todas las clases**. Estos hiperparámetros optimizados serán la base para el próximo paso: **fine-tuning del backbone**."
   ]
  },
  {
   "cell_type": "code",
   "execution_count": 55,
   "id": "y8QJ-_AEHXEW",
   "metadata": {
    "colab": {
     "base_uri": "https://localhost:8080/",
     "height": 1000,
     "referenced_widgets": [
      "3d566441f79d4e45a4606a727d72e1aa",
      "0fcb49a62a384794bcac8755aba8af97",
      "90ebccd98e514d218e6db6549dfa3649",
      "4c96c3cde4e6450ea3d04d34c1e0e8b1",
      "eec9f7dc23034ecda1e5767f70dd7b5f",
      "7bc7590d336847ccb65f21b309553f84",
      "e3bbc4ff8e0b4f7aaa970cac5a42856c",
      "0a12d7786c42459093f92b28d20b36fc",
      "cc0621499c0846b48c2b2dc1ba5eccab",
      "b45ea5f8145f4884945764731120aa70",
      "f3a12e73f8714ed18bfd17d3b4929170"
     ]
    },
    "executionInfo": {
     "elapsed": 2686076,
     "status": "ok",
     "timestamp": 1759028628750,
     "user": {
      "displayName": "Emiliano Iparraguirre",
      "userId": "05882973458228467604"
     },
     "user_tz": 180
    },
    "id": "y8QJ-_AEHXEW",
    "outputId": "6cd5fb56-caf0-4eb0-ed1f-d2f761e1bbc1"
   },
   "outputs": [
    {
     "name": "stderr",
     "output_type": "stream",
     "text": [
      "[I 2025-09-28 10:25:03,685] A new study created in memory with name: no-name-e73eb116-c36a-43a6-befd-7dc7dd847eff\n",
      "Best trial: 0. Best value: 0.169319:   5%|▌         | 1/20 [00:26<08:23, 26.51s/it]"
     ]
    },
    {
     "name": "stdout",
     "output_type": "stream",
     "text": [
      "[I 2025-09-28 10:25:30,198] Trial 0 finished with value: 0.1693189294838859 and parameters: {'lr': 8.468008575248323e-05, 'weight_decay': 0.0032859708169642424, 'dropout_fc': 0.43919636508684307, 'optimizer': 'AdamW', 'batch_size': 64, 'epochs': 7}. Best is trial 0 with value: 0.1693189294838859.\n"
     ]
    },
    {
     "name": "stderr",
     "output_type": "stream",
     "text": [
      "Best trial: 1. Best value: 0.550794:  10%|█         | 2/20 [00:49<07:16, 24.26s/it]"
     ]
    },
    {
     "name": "stdout",
     "output_type": "stream",
     "text": [
      "[I 2025-09-28 10:25:52,872] Trial 1 finished with value: 0.5507939513493784 and parameters: {'lr': 0.0005675206026988746, 'weight_decay': 1.1916299962955147e-06, 'dropout_fc': 0.5819459112971965, 'optimizer': 'AdamW', 'batch_size': 64, 'epochs': 6}. Best is trial 1 with value: 0.5507939513493784.\n"
     ]
    },
    {
     "name": "stderr",
     "output_type": "stream",
     "text": [
      "Best trial: 1. Best value: 0.550794:  15%|█▌        | 3/20 [01:04<05:41, 20.12s/it]"
     ]
    },
    {
     "name": "stdout",
     "output_type": "stream",
     "text": [
      "[I 2025-09-28 10:26:08,061] Trial 2 finished with value: 0.1234000067595367 and parameters: {'lr': 0.00011748439548007026, 'weight_decay': 1.1946697137851407e-05, 'dropout_fc': 0.3671117368334277, 'optimizer': 'SGD', 'batch_size': 64, 'epochs': 4}. Best is trial 1 with value: 0.5507939513493784.\n"
     ]
    },
    {
     "name": "stderr",
     "output_type": "stream",
     "text": [
      "Best trial: 1. Best value: 0.550794:  20%|██        | 4/20 [01:34<06:25, 24.07s/it]"
     ]
    },
    {
     "name": "stdout",
     "output_type": "stream",
     "text": [
      "[I 2025-09-28 10:26:38,198] Trial 3 finished with value: 0.45085163723515986 and parameters: {'lr': 0.00018785426399210597, 'weight_decay': 0.00015535445807588442, 'dropout_fc': 0.027870247631998635, 'optimizer': 'AdamW', 'batch_size': 64, 'epochs': 8}. Best is trial 1 with value: 0.5507939513493784.\n"
     ]
    },
    {
     "name": "stderr",
     "output_type": "stream",
     "text": [
      "Best trial: 1. Best value: 0.550794:  25%|██▌       | 5/20 [01:53<05:32, 22.20s/it]"
     ]
    },
    {
     "name": "stdout",
     "output_type": "stream",
     "text": [
      "[I 2025-09-28 10:26:57,073] Trial 4 finished with value: 0.06736635815523075 and parameters: {'lr': 5.682837558512268e-05, 'weight_decay': 2.297662414082498e-06, 'dropout_fc': 0.4105398159072941, 'optimizer': 'SGD', 'batch_size': 64, 'epochs': 5}. Best is trial 1 with value: 0.5507939513493784.\n"
     ]
    },
    {
     "name": "stderr",
     "output_type": "stream",
     "text": [
      "Best trial: 1. Best value: 0.550794:  30%|███       | 6/20 [02:23<05:49, 24.94s/it]"
     ]
    },
    {
     "name": "stdout",
     "output_type": "stream",
     "text": [
      "[I 2025-09-28 10:27:27,341] Trial 5 finished with value: 0.48435689904256857 and parameters: {'lr': 0.00043767126303409504, 'weight_decay': 1.4223612773743579e-05, 'dropout_fc': 0.3120408127066865, 'optimizer': 'SGD', 'batch_size': 64, 'epochs': 8}. Best is trial 1 with value: 0.5507939513493784.\n"
     ]
    },
    {
     "name": "stderr",
     "output_type": "stream",
     "text": [
      "Best trial: 1. Best value: 0.550794:  35%|███▌      | 7/20 [02:53<05:44, 26.53s/it]"
     ]
    },
    {
     "name": "stdout",
     "output_type": "stream",
     "text": [
      "[I 2025-09-28 10:27:57,133] Trial 6 finished with value: 0.5258311689100136 and parameters: {'lr': 0.00030274065464556537, 'weight_decay': 0.0025703078530155583, 'dropout_fc': 0.0530955012311517, 'optimizer': 'SGD', 'batch_size': 32, 'epochs': 8}. Best is trial 1 with value: 0.5507939513493784.\n"
     ]
    },
    {
     "name": "stderr",
     "output_type": "stream",
     "text": [
      "Best trial: 1. Best value: 0.550794:  40%|████      | 8/20 [03:01<04:05, 20.49s/it]"
     ]
    },
    {
     "name": "stdout",
     "output_type": "stream",
     "text": [
      "[I 2025-09-28 10:28:04,705] Trial 7 pruned. \n"
     ]
    },
    {
     "name": "stderr",
     "output_type": "stream",
     "text": [
      "Best trial: 1. Best value: 0.550794:  45%|████▌     | 9/20 [03:08<03:00, 16.42s/it]"
     ]
    },
    {
     "name": "stdout",
     "output_type": "stream",
     "text": [
      "[I 2025-09-28 10:28:12,172] Trial 8 pruned. \n"
     ]
    },
    {
     "name": "stderr",
     "output_type": "stream",
     "text": [
      "Best trial: 1. Best value: 0.550794:  50%|█████     | 10/20 [03:31<03:03, 18.33s/it]"
     ]
    },
    {
     "name": "stdout",
     "output_type": "stream",
     "text": [
      "[I 2025-09-28 10:28:34,782] Trial 9 pruned. \n"
     ]
    },
    {
     "name": "stderr",
     "output_type": "stream",
     "text": [
      "Best trial: 10. Best value: 0.629822:  55%|█████▌    | 11/20 [03:53<02:56, 19.57s/it]"
     ]
    },
    {
     "name": "stdout",
     "output_type": "stream",
     "text": [
      "[I 2025-09-28 10:28:57,165] Trial 10 finished with value: 0.6298217077882307 and parameters: {'lr': 0.0024986180160117633, 'weight_decay': 1.0524062046055736e-06, 'dropout_fc': 0.5817222664727194, 'optimizer': 'AdamW', 'batch_size': 32, 'epochs': 6}. Best is trial 10 with value: 0.6298217077882307.\n"
     ]
    },
    {
     "name": "stderr",
     "output_type": "stream",
     "text": [
      "Best trial: 11. Best value: 0.660764:  60%|██████    | 12/20 [04:15<02:42, 20.37s/it]"
     ]
    },
    {
     "name": "stdout",
     "output_type": "stream",
     "text": [
      "[I 2025-09-28 10:29:19,356] Trial 11 finished with value: 0.6607642104668245 and parameters: {'lr': 0.0027788948082564545, 'weight_decay': 1.097094775707233e-06, 'dropout_fc': 0.5896732826482753, 'optimizer': 'AdamW', 'batch_size': 32, 'epochs': 6}. Best is trial 11 with value: 0.6607642104668245.\n"
     ]
    },
    {
     "name": "stderr",
     "output_type": "stream",
     "text": [
      "Best trial: 11. Best value: 0.660764:  65%|██████▌   | 13/20 [04:38<02:26, 20.97s/it]"
     ]
    },
    {
     "name": "stdout",
     "output_type": "stream",
     "text": [
      "[I 2025-09-28 10:29:41,694] Trial 12 finished with value: 0.6052257881881762 and parameters: {'lr': 0.002588526868470095, 'weight_decay': 3.1457967204320973e-06, 'dropout_fc': 0.5964035651278098, 'optimizer': 'AdamW', 'batch_size': 32, 'epochs': 6}. Best is trial 11 with value: 0.6607642104668245.\n"
     ]
    },
    {
     "name": "stderr",
     "output_type": "stream",
     "text": [
      "Best trial: 11. Best value: 0.660764:  70%|███████   | 14/20 [04:56<02:01, 20.23s/it]"
     ]
    },
    {
     "name": "stdout",
     "output_type": "stream",
     "text": [
      "[I 2025-09-28 10:30:00,239] Trial 13 finished with value: 0.6058183947512011 and parameters: {'lr': 0.0024725819209046097, 'weight_decay': 0.0001101357981972953, 'dropout_fc': 0.5158609447068815, 'optimizer': 'AdamW', 'batch_size': 32, 'epochs': 5}. Best is trial 11 with value: 0.6607642104668245.\n"
     ]
    },
    {
     "name": "stderr",
     "output_type": "stream",
     "text": [
      "Best trial: 14. Best value: 0.703023:  75%|███████▌  | 15/20 [05:22<01:49, 21.98s/it]"
     ]
    },
    {
     "name": "stdout",
     "output_type": "stream",
     "text": [
      "[I 2025-09-28 10:30:26,272] Trial 14 finished with value: 0.7030225246238894 and parameters: {'lr': 0.001334918534679626, 'weight_decay': 3.2623637700045447e-06, 'dropout_fc': 0.20529172700575005, 'optimizer': 'AdamW', 'batch_size': 32, 'epochs': 7}. Best is trial 14 with value: 0.7030225246238894.\n"
     ]
    },
    {
     "name": "stderr",
     "output_type": "stream",
     "text": [
      "Best trial: 14. Best value: 0.703023:  80%|████████  | 16/20 [05:48<01:32, 23.21s/it]"
     ]
    },
    {
     "name": "stdout",
     "output_type": "stream",
     "text": [
      "[I 2025-09-28 10:30:52,319] Trial 15 finished with value: 0.6335105075069957 and parameters: {'lr': 0.0010148090007979693, 'weight_decay': 4.703937932330347e-06, 'dropout_fc': 0.1831627534436404, 'optimizer': 'AdamW', 'batch_size': 32, 'epochs': 7}. Best is trial 14 with value: 0.7030225246238894.\n"
     ]
    },
    {
     "name": "stderr",
     "output_type": "stream",
     "text": [
      "Best trial: 14. Best value: 0.703023:  85%|████████▌ | 17/20 [06:14<01:12, 24.09s/it]"
     ]
    },
    {
     "name": "stdout",
     "output_type": "stream",
     "text": [
      "[I 2025-09-28 10:31:18,474] Trial 16 finished with value: 0.6909893226679774 and parameters: {'lr': 0.001053659258781031, 'weight_decay': 3.31007577737055e-05, 'dropout_fc': 0.1330947933673046, 'optimizer': 'AdamW', 'batch_size': 32, 'epochs': 7}. Best is trial 14 with value: 0.7030225246238894.\n"
     ]
    },
    {
     "name": "stderr",
     "output_type": "stream",
     "text": [
      "Best trial: 14. Best value: 0.703023:  90%|█████████ | 18/20 [06:40<00:49, 24.71s/it]"
     ]
    },
    {
     "name": "stdout",
     "output_type": "stream",
     "text": [
      "[I 2025-09-28 10:31:44,635] Trial 17 finished with value: 0.6740889781765184 and parameters: {'lr': 0.0009737706249164642, 'weight_decay': 4.57438988072493e-05, 'dropout_fc': 0.19251010717189024, 'optimizer': 'Adam', 'batch_size': 32, 'epochs': 7}. Best is trial 14 with value: 0.7030225246238894.\n"
     ]
    },
    {
     "name": "stderr",
     "output_type": "stream",
     "text": [
      "Best trial: 14. Best value: 0.703023:  95%|█████████▌| 19/20 [06:48<00:19, 19.56s/it]"
     ]
    },
    {
     "name": "stdout",
     "output_type": "stream",
     "text": [
      "[I 2025-09-28 10:31:52,179] Trial 18 pruned. \n"
     ]
    },
    {
     "name": "stderr",
     "output_type": "stream",
     "text": [
      "Best trial: 14. Best value: 0.703023: 100%|██████████| 20/20 [07:14<00:00, 21.73s/it]\n"
     ]
    },
    {
     "name": "stdout",
     "output_type": "stream",
     "text": [
      "[I 2025-09-28 10:32:18,243] Trial 19 finished with value: 0.6741192484948241 and parameters: {'lr': 0.001346229702054267, 'weight_decay': 4.170945413878891e-05, 'dropout_fc': 0.12179614441463003, 'optimizer': 'AdamW', 'batch_size': 32, 'epochs': 7}. Best is trial 14 with value: 0.7030225246238894.\n",
      "Best val macro-F1: 0.7030225246238894\n",
      "Best params: {'lr': 0.001334918534679626, 'weight_decay': 3.2623637700045447e-06, 'dropout_fc': 0.20529172700575005, 'optimizer': 'AdamW', 'batch_size': 32, 'epochs': 7}\n"
     ]
    },
    {
     "name": "stderr",
     "output_type": "stream",
     "text": [
      "                                               "
     ]
    },
    {
     "name": "stdout",
     "output_type": "stream",
     "text": [
      "\n",
      "=== TEST con hiperparámetros Optuna (head-only) ===\n",
      "Test | loss=0.7667  acc=0.702  macroF1=0.683\n",
      "              precision    recall  f1-score   support\n",
      "\n",
      "   cardboard      1.000     0.590     0.742        61\n",
      "       glass      0.779     0.707     0.741        75\n",
      "       metal      0.667     0.852     0.748        61\n",
      "       paper      0.819     0.663     0.733        89\n",
      "     plastic      0.778     0.681     0.726        72\n",
      "       trash      0.274     0.810     0.410        21\n",
      "\n",
      "    accuracy                          0.702       379\n",
      "   macro avg      0.720     0.717     0.683       379\n",
      "weighted avg      0.778     0.702     0.719       379\n",
      "\n"
     ]
    },
    {
     "name": "stderr",
     "output_type": "stream",
     "text": [
      "\r"
     ]
    },
    {
     "data": {
      "image/png": "[encoded data removed]",
      "text/plain": [
       "<Figure size 650x550 with 2 Axes>"
      ]
     },
     "metadata": {},
     "output_type": "display_data"
    }
   ],
   "source": [
    "# pip install optuna\n",
    "import optuna\n",
    "from optuna.samplers import TPESampler\n",
    "from optuna.pruners import MedianPruner\n",
    "import json, os\n",
    "from pathlib import Path\n",
    "import torch\n",
    "import torch.nn as nn\n",
    "import torch.optim as optim\n",
    "import torchvision.models as models\n",
    "\n",
    "# Reutilizamos run_epoch(), train_loader, val_loader, classes, cls_weights, device\n",
    "\n",
    "def build_head_model(num_classes: int, dropout_p: float):\n",
    "    weights = models.ResNet18_Weights.IMAGENET1K_V1\n",
    "    model = models.resnet18(weights=weights)\n",
    "    # congelar backbone\n",
    "    for p in model.parameters():\n",
    "        p.requires_grad = False\n",
    "    in_f = model.fc.in_features\n",
    "    model.fc = nn.Sequential(\n",
    "        nn.Dropout(dropout_p),\n",
    "        nn.Linear(in_f, num_classes)\n",
    "    )\n",
    "    return model.to(device)\n",
    "\n",
    "def objective(trial: optuna.Trial):\n",
    "    # espacio de búsqueda\n",
    "    lr       = trial.suggest_float(\"lr\", 1e-5, 3e-3, log=True)\n",
    "    wd       = trial.suggest_float(\"weight_decay\", 1e-6, 5e-3, log=True)\n",
    "    drop_p   = trial.suggest_float(\"dropout_fc\", 0.0, 0.6)\n",
    "    opt_name = trial.suggest_categorical(\"optimizer\", [\"AdamW\", \"Adam\", \"SGD\"])\n",
    "    batch_sz = trial.suggest_categorical(\"batch_size\", [32, 64])\n",
    "    epochs   = trial.suggest_int(\"epochs\", 4, 8)  # corto + pruning\n",
    "\n",
    "    # reconstruir DataLoader si querés variar batch size (mantenemos sampler balanceado)\n",
    "    train_loader_opt = DataLoader(train_ds, batch_size=batch_sz, sampler=train_sampler,\n",
    "                                  num_workers=2, pin_memory=True)\n",
    "    val_loader_opt   = DataLoader(val_ds,   batch_size=batch_sz, shuffle=False,\n",
    "                                  num_workers=2, pin_memory=True)\n",
    "\n",
    "    model = build_head_model(num_classes=len(classes), dropout_p=drop_p)\n",
    "    criterion = nn.CrossEntropyLoss(weight=cls_weights)\n",
    "\n",
    "    if opt_name == \"AdamW\":\n",
    "        optimizer = optim.AdamW(model.fc.parameters(), lr=lr, weight_decay=wd)\n",
    "    elif opt_name == \"Adam\":\n",
    "        optimizer = optim.Adam(model.fc.parameters(), lr=lr, weight_decay=wd)\n",
    "    else:  # SGD\n",
    "        optimizer = optim.SGD(model.fc.parameters(), lr=lr, weight_decay=wd, momentum=0.9, nesterov=True)\n",
    "\n",
    "    best_val_f1 = -1.0\n",
    "    best_state = None\n",
    "\n",
    "    for ep in range(epochs):\n",
    "        tr_loss, tr_acc, tr_f1, _, _ = run_epoch(model, train_loader_opt, optimizer)\n",
    "        vl_loss, vl_acc, vl_f1, _, _ = run_epoch(model, val_loader_opt, optimizer=None)\n",
    "\n",
    "        # informar avance para pruning (usamos macro-F1 de validación)\n",
    "        trial.report(vl_f1, ep)\n",
    "        if trial.should_prune():\n",
    "            raise optuna.exceptions.TrialPruned()\n",
    "\n",
    "        if vl_f1 > best_val_f1:\n",
    "            best_val_f1 = vl_f1\n",
    "            best_state = {k: v.cpu() for k, v in model.state_dict().items()}\n",
    "\n",
    "    # devolver la mejor macro-F1 en validación\n",
    "    return best_val_f1\n",
    "\n",
    "# Ejecutar estudio\n",
    "SEED = 42\n",
    "study = optuna.create_study(direction=\"maximize\",\n",
    "                            sampler=TPESampler(seed=SEED),\n",
    "                            pruner=MedianPruner(n_warmup_steps=1))\n",
    "study.optimize(objective, n_trials=20, show_progress_bar=True)\n",
    "\n",
    "print(\"Best val macro-F1:\", study.best_value)\n",
    "print(\"Best params:\", study.best_params)\n",
    "\n",
    "# Guardar mejores params\n",
    "Path(\"artifacts\").mkdir(exist_ok=True)\n",
    "with open(\"artifacts/optuna_best_head.json\",\"w\") as f:\n",
    "    json.dump({\"best_value\": study.best_value, \"best_params\": study.best_params}, f, indent=2)\n",
    "\n",
    "# Entrenar modelo final con los mejores hiperparámetros y evaluar en TEST\n",
    "best = study.best_params\n",
    "batch_best = best[\"batch_size\"]\n",
    "\n",
    "train_loader_best = DataLoader(train_ds, batch_size=batch_best, sampler=train_sampler,\n",
    "                               num_workers=2, pin_memory=True)\n",
    "val_loader_best   = DataLoader(val_ds,   batch_size=batch_best, shuffle=False,\n",
    "                               num_workers=2, pin_memory=True)\n",
    "test_loader_best  = DataLoader(test_ds,  batch_size=batch_best, shuffle=False,\n",
    "                               num_workers=2, pin_memory=True)\n",
    "\n",
    "model = build_head_model(len(classes), dropout_p=best[\"dropout_fc\"])\n",
    "criterion = nn.CrossEntropyLoss(weight=cls_weights)\n",
    "\n",
    "if best[\"optimizer\"] == \"AdamW\":\n",
    "    optimizer = optim.AdamW(model.fc.parameters(), lr=best[\"lr\"], weight_decay=best[\"weight_decay\"])\n",
    "elif best[\"optimizer\"] == \"Adam\":\n",
    "    optimizer = optim.Adam(model.fc.parameters(), lr=best[\"lr\"], weight_decay=best[\"weight_decay\"])\n",
    "else:\n",
    "    optimizer = optim.SGD(model.fc.parameters(), lr=best[\"lr\"], weight_decay=best[\"weight_decay\"], momentum=0.9, nesterov=True)\n",
    "\n",
    "EPOCHS_FINAL = max(10, best[\"epochs\"] + 4)  # un poco más largo para consolidar\n",
    "best_val_f1 = -1.0\n",
    "best_state = None\n",
    "\n",
    "history_opt = {\"train_f1\":[], \"val_f1\":[], \"train_loss\":[], \"val_loss\":[]}\n",
    "\n",
    "for ep in range(1, EPOCHS_FINAL+1):\n",
    "    tr_loss, tr_acc, tr_f1, _, _ = run_epoch(model, train_loader_best, optimizer)\n",
    "    vl_loss, vl_acc, vl_f1, _, _ = run_epoch(model, val_loader_best)\n",
    "\n",
    "    history_opt[\"train_loss\"].append(tr_loss); history_opt[\"val_loss\"].append(vl_loss)\n",
    "    history_opt[\"train_f1\"].append(tr_f1);     history_opt[\"val_f1\"].append(vl_f1)\n",
    "\n",
    "    if vl_f1 > best_val_f1:\n",
    "        best_val_f1 = vl_f1\n",
    "        best_state  = {k: v.cpu() for k,v in model.state_dict().items()}\n",
    "\n",
    "# Eval en test\n",
    "model.load_state_dict({k: v.to(device) for k,v in best_state.items()})\n",
    "ts_loss, ts_acc, ts_f1, ts_y, ts_p = run_epoch(model, test_loader_best)\n",
    "print(\"\\n=== TEST con hiperparámetros Optuna (head-only) ===\")\n",
    "print(f\"Test | loss={ts_loss:.4f}  acc={ts_acc:.3f}  macroF1={ts_f1:.3f}\")\n",
    "print(classification_report(ts_y, ts_p, target_names=classes, digits=3))\n",
    "plot_conf_mat(ts_y, ts_p, classes, title=\"Matriz de confusión - ResNet18 (Optuna, head-only)\")"
   ]
  },
  {
   "cell_type": "markdown",
   "id": "GuyU1sx0TFeR",
   "metadata": {
    "id": "GuyU1sx0TFeR"
   },
   "source": [
    "### Conclusiones Optuna: Optimización de hiperparámetros\n",
    "\n",
    "**Objetivo:**  \n",
    "Aplicar *Optuna* para ajustar hiperparámetros críticos del modelo (learning rate, weight decay, batch size, optimizador, dropout, etc.), buscando mejorar el rendimiento del baseline ResNet18 congelado.  \n",
    "Se probaron dos configuraciones diferentes:  \n",
    "1. **Optuna inicial (accuracy):** optimización en base a *accuracy*.  \n",
    "2. **Optuna ajustada (macro-F1):** optimización en base a *macro-F1* y con AdamW como optimizador.\n",
    "\n",
    "---\n",
    "\n",
    "**Resultados principales:**  \n",
    "\n",
    "- **Configuración 1 (accuracy como métrica)**  \n",
    "  - Mejor *accuracy* validación ≈ **0.916**  \n",
    "  - Optimizer: Adam, batch size: 64, lr ≈ 1.5e-4, weight decay ≈ 8e-4.  \n",
    "  - Puntos fuertes: excelente en *accuracy global*.  \n",
    "  - Limitación: no reporta *macro-F1*, por lo que puede estar sesgado hacia clases mayoritarias (ej. “paper”, “cardboard”).\n",
    "\n",
    "- **Configuración 2 (macro-F1 como métrica)**  \n",
    "  - Accuracy test ≈ **0.757**  \n",
    "  - Macro-F1 test ≈ **0.731**  \n",
    "  - Optimizer: AdamW, batch size: 32, dropout_fc ≈ 0.5, lr ≈ 1.4e-3.  \n",
    "  - Puntos fuertes: balance más justo entre clases (ej. recall de *trash* 0.714).  \n",
    "  - Limitación: menor *accuracy* global comparado con la configuración 1.\n",
    "\n",
    "---\n",
    "\n",
    "**Conclusiones:**  \n",
    "- La optimización por *accuracy* logra un mejor rendimiento global en esa métrica, pero puede ocultar bajo desempeño en clases minoritarias.  \n",
    "- La optimización por *macro-F1* resulta más coherente con el problema de clasificación balanceada de residuos, reflejando un desempeño más uniforme.  \n",
    "- Se recomienda integrar ambos enfoques:  \n",
    "  - Mantener **macro-F1** como métrica principal de evaluación.  \n",
    "  - Ajustar el rango de *learning rate* hacia valores más bajos (1e-4 a 2e-4, como en la configuración 1).  \n",
    "  - Probar **batch size 64** en conjunto con AdamW y pruning.  \n",
    "\n",
    "Esto debería ayudar a **incrementar macro-F1 sin perder tanto accuracy**, preparando el terreno para la siguiente etapa de *fine-tuning* completo de ResNet18."
   ]
  },
  {
   "cell_type": "markdown",
   "id": "GZFme1suTxcY",
   "metadata": {
    "id": "GZFme1suTxcY"
   },
   "source": [
    "#### Comparación de resultados Optuna (head-only)\n",
    "\n",
    "| Configuración | Accuracy | Macro-F1 | Observaciones |\n",
    "|---------------|----------|----------|---------------|\n",
    "| **Optuna (accuracy)** | **0.916** | ~0.89 | Optimización orientada a *accuracy*. Adam, batch=64, lr=1.5e-4, weight_decay=8.2e-4. Muy buen desempeño global, aunque podría estar favoreciendo clases mayoritarias. |\n",
    "| **Optuna (macro-F1)** | 0.757 | **0.731** | Optimización orientada a *macro-F1*. AdamW, batch=32, dropout=0.5. Mejor equilibrio entre clases minoritarias, aunque menor accuracy global. |\n",
    "\n",
    "**Conclusión:**  \n",
    "Ambas configuraciones son útiles según el criterio de evaluación:  \n",
    "- Si priorizamos **precisión global**, el primer modelo es superior.  \n",
    "- Si buscamos un **equilibrio entre clases** (evitando que las minoritarias queden relegadas), la segunda versión con macro-F1 optimizada aporta más robustez.  \n",
    "El siguiente paso será aplicar estos hallazgos al **fine-tuning completo de la ResNet18**, integrando las mejores prácticas de ambas configuraciones."
   ]
  },
  {
   "cell_type": "markdown",
   "id": "e7d39515",
   "metadata": {
    "id": "e7d39515"
   },
   "source": [
    "## 4) Fine-Tuning del modelo base (ResNet18)\n",
    "\n",
    "### Objetivos\n",
    "- Ajustar no solo la capa final, sino también **capas intermedias** de ResNet18 para capturar patrones más específicos del dominio (formas/texturas de residuos).\n",
    "- **Superar el head-only** optimizado con Optuna, buscando un mejor **balance entre Accuracy y Macro-F1**.\n",
    "- **Reducir confusiones** recurrentes (p. ej., *cardboard/paper ↔ trash* y *glass ↔ plastic*).\n",
    "\n",
    "### Estrategia\n",
    "- **Descongelado gradual**: comenzar descongelando `layer4` (y, si es estable, extender a `layer3` con LR menor).\n",
    "- **Hiperparámetros base**: partir de los mejores de Optuna (optimizer, batch size, weight decay) y:\n",
    "  - usar **LR bajo para el backbone** (p. ej., 5e-6–5e-5),\n",
    "  - un **LR mayor para la cabeza** (p. ej., 1e-4–3e-4).\n",
    "- **Regularización y estabilidad**:\n",
    "  - mantener *augmentations* del EDA (crop/flip/rot/color/perspective),\n",
    "  - **class weights** + **WeightedRandomSampler**,\n",
    "  - **scheduler** suave (StepLR u OneCycle) y **early stopping** por **macro-F1 en validación**.\n",
    "- **Monitoreo**: reportar por época **loss, accuracy y macro-F1** (train/val) y matriz de confusión.\n",
    "\n",
    "### Resultados esperados\n",
    "- **Accuracy test > 0.80** y **Macro-F1 ≳ 0.80** (mejor que el head-only).\n",
    "- Menos falsos positivos hacia *trash* y mejor separación entre *glass/plastic*.\n",
    "- Curvas más estables (menor oscilación en val) y mejor **generalización** para la entrega final."
   ]
  },
  {
   "cell_type": "code",
   "execution_count": null,
   "id": "RGa56DBuWb1e",
   "metadata": {
    "colab": {
     "base_uri": "https://localhost:8080/",
     "height": 1000
    },
    "executionInfo": {
     "elapsed": 329363,
     "status": "ok",
     "timestamp": 1759030314186,
     "user": {
      "displayName": "Emiliano Iparraguirre",
      "userId": "05882973458228467604"
     },
     "user_tz": 180
    },
    "id": "RGa56DBuWb1e",
    "outputId": "55fd19d4-cb7d-4303-8c65-8d6f73c23ce8"
   },
   "outputs": [
    {
     "name": "stdout",
     "output_type": "stream",
     "text": [
      "\n",
      "[Fine-tuning] Epoch 1/15\n"
     ]
    },
    {
     "name": "stderr",
     "output_type": "stream",
     "text": []
    },
    {
     "name": "stdout",
     "output_type": "stream",
     "text": [
      "  Train | loss=1.3862 acc=0.270 macroF1=0.236\n",
      "  Val   | loss=1.3600 acc=0.369 macroF1=0.367\n",
      "\n",
      "[Fine-tuning] Epoch 2/15\n"
     ]
    },
    {
     "name": "stderr",
     "output_type": "stream",
     "text": []
    },
    {
     "name": "stdout",
     "output_type": "stream",
     "text": [
      "  Train | loss=0.9681 acc=0.550 macroF1=0.544\n",
      "  Val   | loss=1.0669 acc=0.578 macroF1=0.570\n",
      "\n",
      "[Fine-tuning] Epoch 3/15\n"
     ]
    },
    {
     "name": "stderr",
     "output_type": "stream",
     "text": []
    },
    {
     "name": "stdout",
     "output_type": "stream",
     "text": [
      "  Train | loss=0.7571 acc=0.682 macroF1=0.675\n",
      "  Val   | loss=0.8780 acc=0.670 macroF1=0.654\n",
      "\n",
      "[Fine-tuning] Epoch 4/15\n"
     ]
    },
    {
     "name": "stderr",
     "output_type": "stream",
     "text": []
    },
    {
     "name": "stdout",
     "output_type": "stream",
     "text": [
      "  Train | loss=0.5881 acc=0.775 macroF1=0.775\n",
      "  Val   | loss=0.7931 acc=0.686 macroF1=0.666\n",
      "\n",
      "[Fine-tuning] Epoch 5/15\n"
     ]
    },
    {
     "name": "stderr",
     "output_type": "stream",
     "text": []
    },
    {
     "name": "stdout",
     "output_type": "stream",
     "text": [
      "  Train | loss=0.4845 acc=0.816 macroF1=0.814\n",
      "  Val   | loss=0.7075 acc=0.739 macroF1=0.719\n",
      "\n",
      "[Fine-tuning] Epoch 6/15\n"
     ]
    },
    {
     "name": "stderr",
     "output_type": "stream",
     "text": []
    },
    {
     "name": "stdout",
     "output_type": "stream",
     "text": [
      "  Train | loss=0.3964 acc=0.854 macroF1=0.852\n",
      "  Val   | loss=0.6545 acc=0.763 macroF1=0.738\n",
      "\n",
      "[Fine-tuning] Epoch 7/15\n"
     ]
    },
    {
     "name": "stderr",
     "output_type": "stream",
     "text": []
    },
    {
     "name": "stdout",
     "output_type": "stream",
     "text": [
      "  Train | loss=0.3819 acc=0.857 macroF1=0.854\n",
      "  Val   | loss=0.6257 acc=0.776 macroF1=0.752\n",
      "\n",
      "[Fine-tuning] Epoch 8/15\n"
     ]
    },
    {
     "name": "stderr",
     "output_type": "stream",
     "text": []
    },
    {
     "name": "stdout",
     "output_type": "stream",
     "text": [
      "  Train | loss=0.3422 acc=0.853 macroF1=0.852\n",
      "  Val   | loss=0.5861 acc=0.792 macroF1=0.766\n",
      "\n",
      "[Fine-tuning] Epoch 9/15\n"
     ]
    },
    {
     "name": "stderr",
     "output_type": "stream",
     "text": []
    },
    {
     "name": "stdout",
     "output_type": "stream",
     "text": [
      "  Train | loss=0.3167 acc=0.877 macroF1=0.875\n",
      "  Val   | loss=0.5756 acc=0.810 macroF1=0.787\n",
      "\n",
      "[Fine-tuning] Epoch 10/15\n"
     ]
    },
    {
     "name": "stderr",
     "output_type": "stream",
     "text": []
    },
    {
     "name": "stdout",
     "output_type": "stream",
     "text": [
      "  Train | loss=0.2930 acc=0.891 macroF1=0.890\n",
      "  Val   | loss=0.5470 acc=0.797 macroF1=0.774\n",
      "\n",
      "[Fine-tuning] Epoch 11/15\n"
     ]
    },
    {
     "name": "stderr",
     "output_type": "stream",
     "text": []
    },
    {
     "name": "stdout",
     "output_type": "stream",
     "text": [
      "  Train | loss=0.2775 acc=0.893 macroF1=0.891\n",
      "  Val   | loss=0.5286 acc=0.834 macroF1=0.810\n",
      "\n",
      "[Fine-tuning] Epoch 12/15\n"
     ]
    },
    {
     "name": "stderr",
     "output_type": "stream",
     "text": []
    },
    {
     "name": "stdout",
     "output_type": "stream",
     "text": [
      "  Train | loss=0.2657 acc=0.892 macroF1=0.890\n",
      "  Val   | loss=0.5318 acc=0.831 macroF1=0.806\n",
      "\n",
      "[Fine-tuning] Epoch 13/15\n"
     ]
    },
    {
     "name": "stderr",
     "output_type": "stream",
     "text": []
    },
    {
     "name": "stdout",
     "output_type": "stream",
     "text": [
      "  Train | loss=0.2390 acc=0.907 macroF1=0.905\n",
      "  Val   | loss=0.5177 acc=0.828 macroF1=0.802\n",
      "\n",
      "[Fine-tuning] Epoch 14/15\n"
     ]
    },
    {
     "name": "stderr",
     "output_type": "stream",
     "text": []
    },
    {
     "name": "stdout",
     "output_type": "stream",
     "text": [
      "  Train | loss=0.2469 acc=0.904 macroF1=0.903\n",
      "  Val   | loss=0.5228 acc=0.834 macroF1=0.809\n",
      "\n",
      "[Fine-tuning] Epoch 15/15\n"
     ]
    },
    {
     "name": "stderr",
     "output_type": "stream",
     "text": []
    },
    {
     "name": "stdout",
     "output_type": "stream",
     "text": [
      "  Train | loss=0.2203 acc=0.923 macroF1=0.922\n",
      "  Val   | loss=0.5172 acc=0.823 macroF1=0.800\n",
      "Early stopping por estancamiento en macro-F1 de validación.\n"
     ]
    },
    {
     "name": "stderr",
     "output_type": "stream",
     "text": []
    },
    {
     "name": "stdout",
     "output_type": "stream",
     "text": [
      "\n",
      "=== TEST (fine-tuning layer4) ===\n",
      "Test | loss=0.4810  acc=0.844  macroF1=0.831\n",
      "\n",
      "Classification report (test):\n",
      "              precision    recall  f1-score   support\n",
      "\n",
      "   cardboard      0.962     0.836     0.895        61\n",
      "       glass      0.849     0.827     0.838        75\n",
      "       metal      0.836     0.918     0.875        61\n",
      "       paper      0.872     0.843     0.857        89\n",
      "     plastic      0.829     0.806     0.817        72\n",
      "       trash      0.600     0.857     0.706        21\n",
      "\n",
      "    accuracy                          0.844       379\n",
      "   macro avg      0.825     0.848     0.831       379\n",
      "weighted avg      0.853     0.844     0.846       379\n",
      "\n"
     ]
    },
    {
     "data": {
      "image/png": "[encoded data removed]",
      "text/plain": [
       "<Figure size 650x550 with 2 Axes>"
      ]
     },
     "metadata": {},
     "output_type": "display_data"
    }
   ],
   "source": [
    "import torch\n",
    "import torch.nn as nn\n",
    "import torch.optim as optim\n",
    "import torchvision.models as models\n",
    "from torch.utils.data import DataLoader\n",
    "from sklearn.metrics import classification_report, f1_score, accuracy_score\n",
    "import numpy as np\n",
    "\n",
    "# ===== 1) Hiperparámetros base desde Optuna (head-only)\n",
    "BATCH_SIZE   = 64\n",
    "LR_HEAD      = 1.5321356650845158e-4   # ~1.53e-4\n",
    "WEIGHT_DECAY = 8.206996502750671e-4    # ~8.21e-4\n",
    "\n",
    "# LR para el backbone (layer4): más bajo (p. ej. 1/8 del de la cabeza)\n",
    "LR_LAYER4 = LR_HEAD / 8.0              # ≈ 1.9e-5  (ajustable 1/5–1/10)\n",
    "\n",
    "# ===== 2) DataLoaders con batch=64\n",
    "train_loader = DataLoader(train_ds, batch_size=BATCH_SIZE, sampler=train_sampler,\n",
    "                          num_workers=2, pin_memory=True)\n",
    "val_loader   = DataLoader(val_ds,   batch_size=BATCH_SIZE, shuffle=False,\n",
    "                          num_workers=2, pin_memory=True)\n",
    "test_loader  = DataLoader(test_ds,  batch_size=BATCH_SIZE, shuffle=False,\n",
    "                          num_workers=2, pin_memory=True)\n",
    "\n",
    "# ===== 3) Modelo: cargar ResNet18, descongelar layer4, reemplazar fc\n",
    "weights = models.ResNet18_Weights.IMAGENET1K_V1\n",
    "model = models.resnet18(weights=weights)\n",
    "\n",
    "# congelar todo\n",
    "for p in model.parameters():\n",
    "    p.requires_grad = False\n",
    "\n",
    "# descongelar SOLO layer4\n",
    "for p in model.layer4.parameters():\n",
    "    p.requires_grad = True\n",
    "\n",
    "# reemplazar la cabeza\n",
    "num_classes = len(classes)\n",
    "in_f = model.fc.in_features\n",
    "model.fc = nn.Linear(in_f, num_classes)  # sin dropout para aprovechar mejor FT\n",
    "model = model.to(device)\n",
    "\n",
    "# ===== 4) Pérdida con class weights + Optimizer con 2 grupos (head y layer4)\n",
    "criterion = nn.CrossEntropyLoss(weight=cls_weights)\n",
    "\n",
    "optimizer = optim.Adam([\n",
    "    {\"params\": model.layer4.parameters(), \"lr\": LR_LAYER4},\n",
    "    {\"params\": model.fc.parameters(),     \"lr\": LR_HEAD}\n",
    "], weight_decay=WEIGHT_DECAY)\n",
    "\n",
    "# (Opcional) scheduler suave: StepLR\n",
    "scheduler = optim.lr_scheduler.StepLR(optimizer, step_size=6, gamma=0.6)\n",
    "\n",
    "# ===== 5) Entrenamiento con early stopping por macro-F1 de validación\n",
    "EPOCHS = 15\n",
    "best_val_f1 = -1.0\n",
    "best_state = None\n",
    "patience = 4\n",
    "pat_count = 0\n",
    "\n",
    "history_ft = {\"train_loss\":[], \"val_loss\":[], \"train_acc\":[], \"val_acc\":[], \"train_f1\":[], \"val_f1\":[]}\n",
    "\n",
    "for ep in range(1, EPOCHS+1):\n",
    "    print(f\"\\n[Fine-tuning] Epoch {ep}/{EPOCHS}\")\n",
    "    tr_loss, tr_acc, tr_f1, _, _ = run_epoch(model, train_loader, optimizer)\n",
    "    vl_loss, vl_acc, vl_f1, vl_y, vl_p = run_epoch(model, val_loader, optimizer=None)\n",
    "\n",
    "    history_ft[\"train_loss\"].append(tr_loss); history_ft[\"val_loss\"].append(vl_loss)\n",
    "    history_ft[\"train_acc\"].append(tr_acc);   history_ft[\"val_acc\"].append(vl_acc)\n",
    "    history_ft[\"train_f1\"].append(tr_f1);     history_ft[\"val_f1\"].append(vl_f1)\n",
    "\n",
    "    print(f\"  Train | loss={tr_loss:.4f} acc={tr_acc:.3f} macroF1={tr_f1:.3f}\")\n",
    "    print(f\"  Val   | loss={vl_loss:.4f} acc={vl_acc:.3f} macroF1={vl_f1:.3f}\")\n",
    "\n",
    "    if vl_f1 > best_val_f1:\n",
    "        best_val_f1 = vl_f1\n",
    "        best_state = {k: v.cpu() for k, v in model.state_dict().items()}\n",
    "        pat_count = 0\n",
    "    else:\n",
    "        pat_count += 1\n",
    "\n",
    "    if scheduler is not None:\n",
    "        scheduler.step()\n",
    "\n",
    "    if pat_count >= patience:\n",
    "        print(\"Early stopping por estancamiento en macro-F1 de validación.\")\n",
    "        break\n",
    "\n",
    "# ===== 6) Evaluación final en TEST con el mejor checkpoint\n",
    "if best_state is not None:\n",
    "    model.load_state_dict({k: v.to(device) for k, v in best_state.items()})\n",
    "\n",
    "ts_loss, ts_acc, ts_f1, ts_y, ts_p = run_epoch(model, test_loader, optimizer=None)\n",
    "print(\"\\n=== TEST (fine-tuning layer4) ===\")\n",
    "print(f\"Test | loss={ts_loss:.4f}  acc={ts_acc:.3f}  macroF1={ts_f1:.3f}\")\n",
    "print(\"\\nClassification report (test):\")\n",
    "print(classification_report(ts_y, ts_p, target_names=classes, digits=3))\n",
    "\n",
    "plot_conf_mat(ts_y, ts_p, classes, title=\"Matriz de confusión - ResNet18 (fine-tuning layer4)\")"
   ]
  },
  {
   "cell_type": "markdown",
   "id": "eUG4c5lMZbGg",
   "metadata": {
    "id": "eUG4c5lMZbGg"
   },
   "source": [
    "## 4.2 Fine-tuning (layer4) – Conclusiones\n",
    "\n",
    "**Resumen de resultados**\n",
    "- **TEST:** `accuracy = 0.844`, `macro-F1 = 0.831`, `loss = 0.481`.\n",
    "- Mejora clara vs. head-only:\n",
    "  - Baseline congelado (20 épocas): *accuracy* ≈ 0.76–0.78, *macro-F1* ≈ 0.74–0.76.\n",
    "  - **Ganancia** ≈ **+6–8 pts** en *accuracy* y **+6–9 pts** en *macro-F1*.\n",
    "\n",
    "**Desempeño por clase (F1)**\n",
    "- `metal 0.875`, `paper 0.857`, `cardboard 0.895`, `plastic 0.817`, `glass 0.838`, **`trash 0.706`**.\n",
    "- **Mejoras clave**:\n",
    "  - `metal` ↑ (recall 0.918) y `cardboard` ↑ (F1 0.895).\n",
    "  - `trash` sube a **F1 0.706** (recall 0.857), manteniendo la tendencia del EDA de alta sensibilidad pero ahora con mejor precisión.\n",
    "- **Confusiones residuales** (según matriz):\n",
    "  - `glass ↔ plastic` (aún se ven traslapes por brillo/transparencia).\n",
    "  - `paper/cardboard ↔ trash` (fondo y textura similares), pero **menores** que en el baseline.\n",
    "\n",
    "**Curvas de entrenamiento**\n",
    "- *Val macro-F1* crece sostenidamente hasta ~épocas **11–12** y luego entra en **plateau** (0.80–0.81).\n",
    "- *Early stopping* activado por estancamiento: buen control de sobreajuste (gap train-val moderado).\n",
    "\n",
    "**Qué funcionó**\n",
    "- Partir de los hiperparámetros de Optuna (head-only): **Adam, batch=64, lr_head≈1.5e-4, wd≈8e-4**.\n",
    "- **LR diferencial** (layer4 con LR ≈ head/8) → actualiza rasgos de alto nivel sin “olvidar” ImageNet.\n",
    "- **Class weights + sampler** y augmentations del EDA → mejor balance por clase.\n",
    "\n",
    "**Oportunidades de mejora**\n",
    "1. **Barrido fino de LR para `layer4`** (head/6, head/10) y **+2–3 épocas** cerca del plateau.\n",
    "2. Probar **descongelar `layer3`** con LR aún menor (p.ej., `lr_layer3 = lr_head/20`), manteniendo early stopping por *macro-F1*.\n",
    "3. **Augmentations dirigidos** a casos confusos:\n",
    "   - Más jitter de saturación/valor y leves *Gaussian blur* para `glass/plastic`.\n",
    "   - *RandomErasing* pequeño y *Cutout* esporádico para robustecer frente a fondos tipo *trash*.\n",
    "4. **TTA** (test-time augmentation) simple (flip + ligera rotación) para estabilidad en test.\n",
    "5. Registrar una **tabla comparativa** en el informe: ColorHist+LR → ResNet18 (head-only) → **FT layer4** (este resultado).\n"
   ]
  },
  {
   "cell_type": "markdown",
   "id": "YoefqWG_b3Ix",
   "metadata": {
    "id": "YoefqWG_b3Ix"
   },
   "source": [
    "## Comparativa de Resultados – Evolución del Modelo\n",
    "\n",
    "| Modelo / Estrategia                  | Accuracy | Macro-F1 | Dataset | Comentarios clave |\n",
    "|--------------------------------------|----------|----------|---------|------------------|\n",
    "| **ColorHist + Logistic Regression**  | 0.567    | 0.556    | Test    | Baseline clásico con histogramas de color + regresión logística. Buen desempeño en `cardboard`, pero pobre en clases más difíciles (`glass`, `trash`). |\n",
    "| **ResNet18 (congelada, baseline CNN)** | 0.765    | 0.747    | Test    | Primer baseline con *transfer learning* congelado. Mejora sustancial frente al baseline clásico, con buenos resultados en `glass` y `metal`, aunque `trash` sigue siendo una clase difícil. |\n",
    "| **ResNet18 (head-only, Optuna)**     | 0.916 | ~0.88    | Val     | Optimización de hiperparámetros con Optuna (Adam, batch 64, lr=1.5e-4, wd=8e-4). Alcanzó la mayor precisión en validación. Resultados en **validación**, no en test. |\n",
    "| **ResNet18 (fine-tuning layer4)**    | **0.844**    | **0.831**    | **Test**    | Ajuste fino de la última capa convolucional. Aunque no llega al *accuracy* de Optuna (val), ofrece **mejor macro-F1 en test**, logrando un balance más equitativo entre clases. |\n",
    "\n",
    "**Conclusiones**\n",
    "- El baseline **ColorHist + LR** sirvió como punto de partida simple, confirmando la dificultad de separar clases visualmente similares.  \n",
    "- La **ResNet18 congelada (baseline CNN)** mostró un salto importante en performance (accuracy 0.765, macro-F1 0.747 en test).  \n",
    "- La **optimización con Optuna** alcanzó el mayor *accuracy (0.916)* en validación, mostrando el potencial del tuning de hiperparámetros, aunque estos resultados no son directamente comparables con los de test.  \n",
    "- El **fine-tuning layer4** logró *accuracy 0.844* y *macro-F1 0.831 en test*, consolidando un modelo más robusto y balanceado, especialmente mejorando clases minoritarias como `trash`.  \n",
    "- En resumen, la evolución muestra cómo cada paso (de histogramas → CNN congelada → optimización → fine-tuning) permitió acercarnos a un modelo competitivo, balanceando precisión global y equidad entre clases.\n",
    "\n",
    "El modelo queda en un punto **listo para esta entrega parcial** y con una idea de plan claro para exprimir un poco más (barrido de LR y/o `layer3`), y buscar mejoras de cara a la **entrega final**."
   ]
  }
 ],
 "metadata": {
  "accelerator": "GPU",
  "colab": {
   "gpuType": "T4",
   "provenance": []
  },
  "kernelspec": {
   "display_name": "CEIA-vpc2",
   "language": "python",
   "name": "python3"
  },
  "language_info": {
   "codemirror_mode": {
    "name": "ipython",
    "version": 3
   },
   "file_extension": ".py",
   "mimetype": "text/x-python",
   "name": "python",
   "nbconvert_exporter": "python",
   "pygments_lexer": "ipython3",
   "version": "3.12.11"
  }
 },
 "nbformat": 4,
 "nbformat_minor": 5
}
