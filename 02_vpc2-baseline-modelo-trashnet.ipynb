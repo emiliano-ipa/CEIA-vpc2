{
 "cells": [
  {
   "cell_type": "markdown",
   "id": "d5de15f5",
   "metadata": {
    "id": "d5de15f5"
   },
   "source": [
    "## Trabajo final para la materia Vision Por Computadora 2 - Trashnet\n",
    "Clasificación de residuos para reciclaje: Entrenar un modelo que, a partir de imágenes, clasifique distintos tipos de residuos (plástico, vidrio, papel, orgánicos) para optimizar procesos de reciclaje y gestión de residuos.​\n",
    "\n",
    "\n",
    "Grupo:\n",
    "  - Martin Brocca\n",
    "  - Emliano Iparraguirre"
   ]
  },
  {
   "cell_type": "markdown",
   "id": "e9556994",
   "metadata": {
    "id": "e9556994"
   },
   "source": [
    "# 2. Baseline - modelo"
   ]
  },
  {
   "cell_type": "markdown",
   "id": "c7891f11",
   "metadata": {
    "id": "c7891f11"
   },
   "source": [
    "## 1. Preparación del dataset\n",
    "\n",
    "### Objetivo\n",
    "- Depurar el dataset eliminando duplicados exactos y señalando posibles casi-duplicados.  \n",
    "- Reducir el sesgo del fondo blanco y la baja saturación detectados en el EDA.  \n",
    "- Generar splits estratificados y balanceados que permitan una evaluación justa.  \n",
    "- Implementar un esquema de *augmentations* que aumente la variabilidad de las imágenes.  \n",
    "\n",
    "### Estrategia\n",
    "1. **Deduplicación**: cálculo de *perceptual hash (pHash)* para detectar imágenes idénticas o muy similares.  \n",
    "   - Se eliminaron duplicados exactos, conservando solo un ejemplar representativo.  \n",
    "   - Se listaron casi-duplicados (Hamming ≤ 2) para revisión manual.  \n",
    "2. **Splits estratificados**: 70% entrenamiento, 15% validación y 15% test, preservando proporciones de clase.  \n",
    "3. **Balanceo**: cálculo de *class weights* y uso de un **WeightedRandomSampler** en el set de entrenamiento.  \n",
    "4. **Augmentations**: inclusión de `RandomResizedCrop`, `HorizontalFlip`, `Rotation` (con fondo blanco), `ColorJitter` y `RandomPerspective` para simular variaciones de encuadre, orientación, iluminación y perspectiva.  \n",
    "\n",
    "### Conclusiones esperadas\n",
    "- Se elimina el riesgo de sobreajuste asociado a imágenes duplicadas.  \n",
    "- El balanceo por pesos y muestreo estratificado mitiga la influencia de clases desbalanceadas como *trash*.  \n",
    "- Los *augmentations* permiten atacar directamente los sesgos detectados en el EDA, favoreciendo la generalización del modelo.  \n",
    "- El dataset queda listo para entrenar un baseline CNN que será la referencia frente a modelos más complejos en etapas posteriores.  "
   ]
  },
  {
   "cell_type": "code",
   "execution_count": 1,
   "id": "8d351dcb",
   "metadata": {
    "executionInfo": {
     "elapsed": 19623,
     "status": "ok",
     "timestamp": 1758854078163,
     "user": {
      "displayName": "Emiliano Iparraguirre",
      "userId": "05882973458228467604"
     },
     "user_tz": 180
    },
    "id": "8d351dcb"
   },
   "outputs": [],
   "source": [
    "# ==== Imports ====\n",
    "import os\n",
    "import numpy as np\n",
    "import pandas as pd\n",
    "from pathlib import Path\n",
    "from PIL import Image\n",
    "import matplotlib.pyplot as plt\n",
    "from tqdm import tqdm\n",
    "import imagehash\n",
    "\n",
    "import torch\n",
    "from torch.utils.data import Dataset, DataLoader, WeightedRandomSampler\n",
    "import torch.nn.functional as F\n",
    "import torchvision.transforms as T\n",
    "from torchvision.transforms import InterpolationMode\n",
    "\n",
    "from sklearn.model_selection import train_test_split\n",
    "from sklearn.utils.class_weight import compute_class_weight"
   ]
  },
  {
   "cell_type": "markdown",
   "id": "8e7c4ec3",
   "metadata": {
    "id": "8e7c4ec3"
   },
   "source": [
    "### Config y utilidades"
   ]
  },
  {
   "cell_type": "code",
   "execution_count": 2,
   "id": "16c5edf5",
   "metadata": {
    "executionInfo": {
     "elapsed": 39,
     "status": "ok",
     "timestamp": 1758854082150,
     "user": {
      "displayName": "Emiliano Iparraguirre",
      "userId": "05882973458228467604"
     },
     "user_tz": 180
    },
    "id": "16c5edf5"
   },
   "outputs": [],
   "source": [
    "# ==== Config ====\n",
    "SEED = 42\n",
    "BATCH_SIZE = 32\n",
    "IMG_SIZE = 224\n",
    "device = \"cuda\" if torch.cuda.is_available() else \"cpu\"\n",
    "\n",
    "torch.manual_seed(SEED)\n",
    "np.random.seed(SEED)\n",
    "\n",
    "# ==== Mount Google Drive ==== -> descomentar si se usa Colab\n",
    "# from google.colab import drive\n",
    "# drive.mount('/content/drive')\n",
    "\n",
    "# ==== Helpers ====\n",
    "def list_images_by_class(root_dir):\n",
    "    root = Path(root_dir)\n",
    "    classes = sorted([d.name for d in root.iterdir() if d.is_dir()])\n",
    "    items = []\n",
    "    for cls in classes:\n",
    "        for fp in (root/cls).glob(\"*.*\"):\n",
    "            if fp.suffix.lower() in {\".jpg\",\".jpeg\",\".png\",\".bmp\",\".webp\"}:\n",
    "                items.append({\"path\": str(fp), \"class\": cls})\n",
    "    return pd.DataFrame(items)"
   ]
  },
  {
   "cell_type": "code",
   "execution_count": 5,
   "id": "6e2539ac",
   "metadata": {},
   "outputs": [
    {
     "name": "stdout",
     "output_type": "stream",
     "text": [
      "Running locally\n",
      "Data path: ./data/trashnet\n"
     ]
    }
   ],
   "source": [
    "#Deteccion de entorno, para saber si corre en Colab o local y no editar variables de el data path\n",
    "\n",
    "import os\n",
    "\n",
    "def is_colab():\n",
    "    \"\"\"Check if code is running in Google Colab\"\"\"\n",
    "    try:\n",
    "        import google.colab\n",
    "        return True\n",
    "    except ImportError:\n",
    "        return False\n",
    "\n",
    "# Set data path based on environment\n",
    "if is_colab():\n",
    "    DATA_DIR = \"drive/MyDrive/Colab Notebooks/CEIA 2025/10_VpC2/data/trashnet\"  # Colab path\n",
    "    print(\"Running in Google Colab\")\n",
    "else:\n",
    "    DATA_DIR = \"./data/trashnet\"  # Local path\n",
    "    print(\"Running locally\")\n",
    "\n",
    "# Example usage\n",
    "print(f\"Data path: {DATA_DIR}\")\n"
   ]
  },
  {
   "cell_type": "code",
   "execution_count": 6,
   "id": "7f57c0fe",
   "metadata": {
    "colab": {
     "base_uri": "https://localhost:8080/"
    },
    "executionInfo": {
     "elapsed": 4596,
     "status": "ok",
     "timestamp": 1758854090187,
     "user": {
      "displayName": "Emiliano Iparraguirre",
      "userId": "05882973458228467604"
     },
     "user_tz": 180
    },
    "id": "7f57c0fe",
    "outputId": "eda7d89f-5036-4f15-ede1-0ee7dc456791"
   },
   "outputs": [
    {
     "name": "stdout",
     "output_type": "stream",
     "text": [
      "Clases: ['cardboard', 'glass', 'metal', 'paper', 'plastic', 'trash']\n",
      "Total imágenes: 2527\n"
     ]
    }
   ],
   "source": [
    "# ==== Reconstruir df desde la carpeta raíz ====\n",
    "\n",
    "df = list_images_by_class(DATA_DIR)\n",
    "summary = df['class'].value_counts().sort_index().rename_axis('class').reset_index(name='count')\n",
    "\n",
    "classes = sorted(df[\"class\"].unique())\n",
    "class_to_idx = {c:i for i,c in enumerate(classes)}\n",
    "idx_to_class = {i:c for c,i in class_to_idx.items()}\n",
    "\n",
    "print(f\"Clases: {classes}\")\n",
    "print(f\"Total imágenes: {len(df)}\")"
   ]
  },
  {
   "cell_type": "markdown",
   "id": "1e989848",
   "metadata": {
    "id": "1e989848"
   },
   "source": [
    "### 1.1. Depurar duplicados"
   ]
  },
  {
   "cell_type": "code",
   "execution_count": 7,
   "id": "398dfb10",
   "metadata": {
    "executionInfo": {
     "elapsed": 17,
     "status": "ok",
     "timestamp": 1758854102413,
     "user": {
      "displayName": "Emiliano Iparraguirre",
      "userId": "05882973458228467604"
     },
     "user_tz": 180
    },
    "id": "398dfb10"
   },
   "outputs": [],
   "source": [
    "# ==== 1) Deduplicación por perceptual hash (pHash) ====\n",
    "\n",
    "# ==== Helpers ====\n",
    "def compute_phash_df(df_in, hash_size=16, resize=256):\n",
    "    df_out = df_in.copy().reset_index(drop=True)\n",
    "    ph_list = []\n",
    "    for p in tqdm(df_out[\"path\"], desc=\"Calculando pHash\"):\n",
    "        img = Image.open(p).convert(\"RGB\").resize((resize, resize))\n",
    "        ph = imagehash.phash(img, hash_size=hash_size)\n",
    "        ph_list.append(str(ph))\n",
    "    df_out[\"phash\"] = ph_list\n",
    "    return df_out\n",
    "\n",
    "def show_group(paths, titles=None, cols=4, figsize=(12, 3)):\n",
    "    rows = (len(paths) + cols - 1) // cols\n",
    "    plt.figure(figsize=figsize)\n",
    "    for i, p in enumerate(paths):\n",
    "        ax = plt.subplot(rows, cols, i+1)\n",
    "        ax.imshow(Image.open(p).convert(\"RGB\"))\n",
    "        ax.axis(\"off\")\n",
    "        ax.set_title(titles[i] if titles else Path(p).name, fontsize=8)\n",
    "    plt.tight_layout()\n",
    "    plt.show()\n",
    "\n",
    "def hamming(a: str, b: str) -> int:\n",
    "    return imagehash.hex_to_hash(a) - imagehash.hex_to_hash(b)"
   ]
  },
  {
   "cell_type": "code",
   "execution_count": 8,
   "id": "916a7d70",
   "metadata": {
    "colab": {
     "base_uri": "https://localhost:8080/"
    },
    "executionInfo": {
     "elapsed": 690885,
     "status": "ok",
     "timestamp": 1758854797815,
     "user": {
      "displayName": "Emiliano Iparraguirre",
      "userId": "05882973458228467604"
     },
     "user_tz": 180
    },
    "id": "916a7d70",
    "outputId": "bc45f555-cbf1-439d-8b71-852c4120d73a"
   },
   "outputs": [
    {
     "name": "stderr",
     "output_type": "stream",
     "text": [
      "Calculando pHash: 100%|██████████| 2527/2527 [00:04<00:00, 570.82it/s]\n"
     ]
    }
   ],
   "source": [
    "# 1) Calcular pHash para todo el df (si no existe)\n",
    "if \"phash\" not in df.columns:\n",
    "    df = compute_phash_df(df, hash_size=16, resize=256)"
   ]
  },
  {
   "cell_type": "code",
   "execution_count": 9,
   "id": "8e9773a8",
   "metadata": {
    "colab": {
     "base_uri": "https://localhost:8080/"
    },
    "executionInfo": {
     "elapsed": 259,
     "status": "ok",
     "timestamp": 1758854845565,
     "user": {
      "displayName": "Emiliano Iparraguirre",
      "userId": "05882973458228467604"
     },
     "user_tz": 180
    },
    "id": "8e9773a8",
    "outputId": "1afa1e1f-9601-458c-e5f3-e5f975c0e86b"
   },
   "outputs": [
    {
     "name": "stdout",
     "output_type": "stream",
     "text": [
      "Duplicados exactos detectados: 3 grupos, 6 imágenes\n"
     ]
    }
   ],
   "source": [
    "# 2) Duplicados EXACTOS (mismo phash)\n",
    "dups_exact = df[df.duplicated(\"phash\", keep=False)].sort_values([\"phash\",\"class\",\"path\"]).copy()\n",
    "print(f\"Duplicados exactos detectados: {dups_exact['phash'].nunique()} grupos, {len(dups_exact)} imágenes\")\n",
    "\n",
    "# Guardar auditoría\n",
    "Path(\"artifacts\").mkdir(exist_ok=True)\n",
    "dups_exact.to_csv(\"artifacts/duplicates_exact_by_phash.csv\", index=False)"
   ]
  },
  {
   "cell_type": "code",
   "execution_count": null,
   "id": "ad7aa7d3",
   "metadata": {
    "colab": {
     "base_uri": "https://localhost:8080/",
     "height": 748
    },
    "executionInfo": {
     "elapsed": 1089,
     "status": "ok",
     "timestamp": 1758854851806,
     "user": {
      "displayName": "Emiliano Iparraguirre",
      "userId": "05882973458228467604"
     },
     "user_tz": 180
    },
    "id": "ad7aa7d3",
    "outputId": "4755d150-3f70-4aa3-e9bf-9da99e176178"
   },
   "outputs": [
    {
     "name": "stdout",
     "output_type": "stream",
     "text": [
      "\n",
      "Grupo pHash = 951fe74af8f0aa34078e4bab26d04d50f07f143fd54a6fc313d0f5903c2bc474  (n=2)\n"
     ]
    },
    {
     "data": {
      "image/png": "[encoded data removed]",
      "text/plain": [
       "<Figure size 1400x300 with 2 Axes>"
      ]
     },
     "metadata": {},
     "output_type": "display_data"
    },
    {
     "name": "stdout",
     "output_type": "stream",
     "text": [
      "\n",
      "Grupo pHash = eadb4e1691a5b5af8768b3ca9296b6e1859b49a62ad7d3124c4e69699b29924c  (n=2)\n"
     ]
    },
    {
     "data": {
      "image/png": "[encoded data removed]",
      "text/plain": [
       "<Figure size 1400x300 with 2 Axes>"
      ]
     },
     "metadata": {},
     "output_type": "display_data"
    },
    {
     "name": "stdout",
     "output_type": "stream",
     "text": [
      "\n",
      "Grupo pHash = f32c633c09b32cb3635d33cc3b36893348332cccccccd93273322732cc9bdc9b  (n=2)\n"
     ]
    },
    {
     "data": {
      "image/png": "[encoded data removed]",
      "text/plain": [
       "<Figure size 1400x300 with 2 Axes>"
      ]
     },
     "metadata": {},
     "output_type": "display_data"
    }
   ],
   "source": [
    "# Mostrar cada grupo de duplicados (limit opcional si fueran muchos)\n",
    "MAX_GROUPS_PREVIEW = 50  \n",
    "shown = 0\n",
    "for ph, g in dups_exact.groupby(\"phash\"):\n",
    "    if shown >= MAX_GROUPS_PREVIEW:\n",
    "        print(f\"...({dups_exact['phash'].nunique()-shown} grupos no mostrados por límite de preview)\")\n",
    "        break\n",
    "    print(f\"\\nGrupo pHash = {ph}  (n={len(g)})\")\n",
    "    titles = [f\"{Path(r.path).name}\\nclass={r['class']}\" for _, r in g.iterrows()]\n",
    "    show_group(g[\"path\"].tolist(), titles=titles, cols=6, figsize=(14, 3 + (len(g)//6)*2))\n",
    "    shown += 1\n"
   ]
  },
  {
   "cell_type": "code",
   "execution_count": 11,
   "id": "7cdd74e4",
   "metadata": {
    "colab": {
     "base_uri": "https://localhost:8080/"
    },
    "executionInfo": {
     "elapsed": 70,
     "status": "ok",
     "timestamp": 1758854857844,
     "user": {
      "displayName": "Emiliano Iparraguirre",
      "userId": "05882973458228467604"
     },
     "user_tz": 180
    },
    "id": "7cdd74e4",
    "outputId": "4c802c3a-a58a-43b0-d478-864e8e04281c"
   },
   "outputs": [
    {
     "name": "stdout",
     "output_type": "stream",
     "text": [
      "Deduplicación exacta aplicada: 2527 -> 2524  (eliminadas 3)\n"
     ]
    }
   ],
   "source": [
    "# ==== Eliminar duplicados exactos y continuar con df depurado ====\n",
    "\n",
    "before = len(df)\n",
    "# conservar 1 por pHash (ordenado por clase y nombre de archivo para reproducibilidad)\n",
    "df_dedup = df.sort_values([\"phash\",\"class\",\"path\"]).drop_duplicates(subset=[\"phash\"], keep=\"first\").reset_index(drop=True)\n",
    "after = len(df_dedup)\n",
    "\n",
    "print(f\"Deduplicación exacta aplicada: {before} -> {after}  (eliminadas {before-after})\")"
   ]
  },
  {
   "cell_type": "code",
   "execution_count": 12,
   "id": "abb80e4c",
   "metadata": {
    "colab": {
     "base_uri": "https://localhost:8080/"
    },
    "executionInfo": {
     "elapsed": 575958,
     "status": "ok",
     "timestamp": 1758855438353,
     "user": {
      "displayName": "Emiliano Iparraguirre",
      "userId": "05882973458228467604"
     },
     "user_tz": 180
    },
    "id": "abb80e4c",
    "outputId": "02535d6b-b71a-4e75-e33a-c8357753524e"
   },
   "outputs": [
    {
     "name": "stdout",
     "output_type": "stream",
     "text": [
      "\n",
      "Buscando casi-duplicados por distancia de Hamming <= 2 (puede tardar un poco)...\n"
     ]
    },
    {
     "name": "stderr",
     "output_type": "stream",
     "text": [
      "100%|██████████| 2524/2524 [02:22<00:00, 17.76it/s] "
     ]
    },
    {
     "name": "stdout",
     "output_type": "stream",
     "text": [
      "Casi-duplicados encontrados: 0 (guardado en artifacts/near_duplicates_hamming_le2.csv)\n"
     ]
    },
    {
     "name": "stderr",
     "output_type": "stream",
     "text": [
      "\n"
     ]
    }
   ],
   "source": [
    "# 3) Casi-duplicados (Hamming <= 2) — PREVIEW\n",
    "print(\"\\nBuscando casi-duplicados por distancia de Hamming <= 2 (puede tardar un poco)...\")\n",
    "near_pairs = []\n",
    "df_idx = df_dedup.reset_index(drop=True).copy()\n",
    "for i in tqdm(range(len(df_idx))):\n",
    "    for j in range(i+1, len(df_idx)):\n",
    "        d = hamming(df_idx.loc[i,\"phash\"], df_idx.loc[j,\"phash\"])\n",
    "        if d <= 2:\n",
    "            near_pairs.append({\n",
    "                \"path_i\": df_idx.loc[i,\"path\"], \"class_i\": df_idx.loc[i,\"class\"],\n",
    "                \"path_j\": df_idx.loc[j,\"path\"], \"class_j\": df_idx.loc[j,\"class\"],\n",
    "                \"hamming\": d\n",
    "            })\n",
    "\n",
    "near_df = pd.DataFrame(near_pairs)\n",
    "near_df.to_csv(\"artifacts/near_duplicates_hamming_le2.csv\", index=False)\n",
    "print(f\"Casi-duplicados encontrados: {len(near_df)} (guardado en artifacts/near_duplicates_hamming_le2.csv)\")"
   ]
  },
  {
   "cell_type": "code",
   "execution_count": null,
   "id": "800552db",
   "metadata": {},
   "outputs": [
    {
     "name": "stdout",
     "output_type": "stream",
     "text": [
      "\n",
      "Buscando casi-duplicados por distancia de Hamming <= 2 (GPU acelerado)...\n",
      "Using device: cuda\n"
     ]
    },
    {
     "name": "stderr",
     "output_type": "stream",
     "text": [
      "Processing batches: 100%|██████████| 6/6 [00:00<00:00, 196.09it/s]"
     ]
    },
    {
     "name": "stdout",
     "output_type": "stream",
     "text": [
      "Casi-duplicados encontrados: 0 (guardado en artifacts/near_duplicates_hamming_le2.csv)\n"
     ]
    },
    {
     "name": "stderr",
     "output_type": "stream",
     "text": [
      "\n"
     ]
    }
   ],
   "source": [
    "# 3) Casi-duplicados (Hamming <= 2) — Pero usando GPU\n",
    "import torch\n",
    "import numpy as np\n",
    "from tqdm import tqdm\n",
    "\n",
    "def hamming_distance_gpu(hashes, batch_size=1000, threshold=2):\n",
    "    \"\"\"\n",
    "    Compute pairwise Hamming distances on GPU for binary hashes.\n",
    "    \n",
    "    Args:\n",
    "        hashes: numpy array of shape (n_images,) containing integer hashes\n",
    "        batch_size: process in batches to avoid memory issues\n",
    "        threshold: maximum Hamming distance to consider\n",
    "    \n",
    "    Returns:\n",
    "        List of tuples (i, j, distance) for pairs within threshold\n",
    "    \"\"\"\n",
    "    device = torch.device('cuda' if torch.cuda.is_available() else 'cpu')\n",
    "    print(f\"Using device: {device}\")\n",
    "    \n",
    "    # Convert hashes to binary tensor\n",
    "    n = len(hashes)\n",
    "    \n",
    "    # Handle ImageHash objects or hex strings\n",
    "    hashes_binary = []\n",
    "    for h in hashes:\n",
    "        if hasattr(h, 'hash'):  # ImageHash object\n",
    "            # Convert to binary array directly from the hash array\n",
    "            h_array = h.hash.flatten().astype(np.float32)\n",
    "        elif isinstance(h, str):  # Hex string\n",
    "            # Convert hex string to binary\n",
    "            h_int = int(h, 16)\n",
    "            hash_bits = len(h) * 4  # 4 bits per hex character\n",
    "            h_array = np.array([int(b) for b in format(h_int, f'0{hash_bits}b')], dtype=np.float32)\n",
    "        else:  # Integer\n",
    "            hash_bits = 64\n",
    "            h_array = np.array([int(b) for b in format(int(h), f'0{hash_bits}b')], dtype=np.float32)\n",
    "        hashes_binary.append(h_array)\n",
    "    \n",
    "    hashes_binary = np.array(hashes_binary, dtype=np.float32)\n",
    "    \n",
    "    hashes_tensor = torch.from_numpy(hashes_binary).to(device)\n",
    "    \n",
    "    near_pairs = []\n",
    "    \n",
    "    # Process in batches to avoid memory overflow\n",
    "    for i in tqdm(range(0, n, batch_size), desc=\"Processing batches\"):\n",
    "        end_i = min(i + batch_size, n)\n",
    "        batch_i = hashes_tensor[i:end_i]\n",
    "        \n",
    "        # Only compare with j > i to avoid duplicates\n",
    "        for j in range(i, n, batch_size):\n",
    "            end_j = min(j + batch_size, n)\n",
    "            batch_j = hashes_tensor[j:end_j]\n",
    "            \n",
    "            # Compute Hamming distance via XOR + sum\n",
    "            # Shape: (batch_i_size, batch_j_size)\n",
    "            distances = torch.sum(batch_i.unsqueeze(1) != batch_j.unsqueeze(0), dim=2)\n",
    "            \n",
    "            # Find pairs within threshold\n",
    "            mask = distances <= threshold\n",
    "            \n",
    "            # Only keep upper triangle (j > i)\n",
    "            if i == j:\n",
    "                # Same batch: use upper triangle only\n",
    "                rows, cols = torch.triu_indices(mask.shape[0], mask.shape[1], offset=1, device=device)\n",
    "                valid = mask[rows, cols]\n",
    "                rows, cols = rows[valid], cols[valid]\n",
    "                indices_i = rows + i\n",
    "                indices_j = cols + j\n",
    "            else:\n",
    "                # Different batches: all valid pairs\n",
    "                rows, cols = torch.where(mask)\n",
    "                indices_i = rows + i\n",
    "                indices_j = cols + j\n",
    "            \n",
    "            # Get distances for valid pairs\n",
    "            valid_distances = distances[mask].cpu().numpy()\n",
    "            \n",
    "            # Store results\n",
    "            for idx_i, idx_j, dist in zip(\n",
    "                indices_i.cpu().numpy(), \n",
    "                indices_j.cpu().numpy(), \n",
    "                valid_distances\n",
    "            ):\n",
    "                if idx_i < idx_j:  # Ensure i < j\n",
    "                    near_pairs.append((int(idx_i), int(idx_j), int(dist)))\n",
    "    \n",
    "    return near_pairs\n",
    "\n",
    "\n",
    "# Usage with your existing code:\n",
    "print(\"\\nBuscando casi-duplicados por distancia de Hamming <= 2 (GPU acelerado)...\")\n",
    "\n",
    "# Extract hashes as numpy array\n",
    "df_idx = df_dedup.reset_index(drop=True).copy()\n",
    "hashes = df_idx[\"phash\"].values\n",
    "\n",
    "# Run GPU-accelerated computation\n",
    "near_pairs_gpu = hamming_distance_gpu(hashes, batch_size=500, threshold=2)\n",
    "\n",
    "# Convert to DataFrame\n",
    "near_pairs = [\n",
    "    {\n",
    "        \"path_i\": df_idx.loc[i, \"path\"], \n",
    "        \"class_i\": df_idx.loc[i, \"class\"],\n",
    "        \"path_j\": df_idx.loc[j, \"path\"], \n",
    "        \"class_j\": df_idx.loc[j, \"class\"],\n",
    "        \"hamming\": d\n",
    "    }\n",
    "    for i, j, d in near_pairs_gpu\n",
    "]\n",
    "\n",
    "near_df = pd.DataFrame(near_pairs)\n",
    "near_df.to_csv(\"artifacts/near_duplicates_hamming_le2.csv\", index=False)\n",
    "print(f\"Casi-duplicados encontrados: {len(near_df)} (guardado en artifacts/near_duplicates_hamming_le2.csv)\")"
   ]
  },
  {
   "cell_type": "markdown",
   "id": "04292202",
   "metadata": {},
   "source": [
    "### Hamming CPU vs GPU:\n",
    "\n",
    "\n",
    "- Velocidad: GPU procesó 6 batches a 196.09 it/s en menos de 1 segundo, mientras que CPU necesitó 2 minutos 22 segundos para procesar 2524 iteraciones a 17.76 it/s\n",
    "- Aceleración: La GPU fue aproximadamente 140x más rápida que la CPU para este cálculo de distancia de Hamming\n",
    "- Escalabilidad: Con datasets más grandes, la diferencia sería aún mayor - la GPU maneja operaciones vectorizadas masivamente en paralelo\n",
    "- Eficiencia: CPU hace comparaciones secuenciales (una por una), GPU calcula miles de distancias simultáneamente en cada batch\n",
    "- Recomendación: Para más de 1000 imágenes, se recomienda utilizar GPU; el tiempo se reduce de minutos a segundos"
   ]
  },
  {
   "cell_type": "code",
   "execution_count": 16,
   "id": "ba520e3e",
   "metadata": {
    "executionInfo": {
     "elapsed": 85,
     "status": "ok",
     "timestamp": 1758855568181,
     "user": {
      "displayName": "Emiliano Iparraguirre",
      "userId": "05882973458228467604"
     },
     "user_tz": 180
    },
    "id": "ba520e3e"
   },
   "outputs": [],
   "source": [
    "# Mostrar preview de los primeros pares (para inspección visual)\n",
    "MAX_NEAR_PREVIEW = 12   # pares a mostrar\n",
    "for k, row in near_df.head(MAX_NEAR_PREVIEW).iterrows():\n",
    "    print(f\"\\nHamming={row['hamming']} | {Path(row['path_i']).name} [{row['class_i']}]  vs  {Path(row['path_j']).name} [{row['class_j']}]\")\n",
    "    show_group([row[\"path_i\"], row[\"path_j\"]],\n",
    "               titles=[f\"I: {Path(row['path_i']).name} ({row['class_i']})\",\n",
    "                       f\"J: {Path(row['path_j']).name} ({row['class_j']})\"],\n",
    "               cols=2, figsize=(8,4))"
   ]
  },
  {
   "cell_type": "code",
   "execution_count": 17,
   "id": "0c348703",
   "metadata": {
    "executionInfo": {
     "elapsed": 110,
     "status": "ok",
     "timestamp": 1758855574443,
     "user": {
      "displayName": "Emiliano Iparraguirre",
      "userId": "05882973458228467604"
     },
     "user_tz": 180
    },
    "id": "0c348703"
   },
   "outputs": [],
   "source": [
    "# 5) continuar el pipeline con df_dedup (ya sin duplicados exactos)\n",
    "df = df_dedup"
   ]
  },
  {
   "cell_type": "markdown",
   "id": "1ca3dd04",
   "metadata": {
    "id": "1ca3dd04"
   },
   "source": [
    "### 1.2.1. Generar splits estratificados"
   ]
  },
  {
   "cell_type": "code",
   "execution_count": 18,
   "id": "3631fa56",
   "metadata": {
    "colab": {
     "base_uri": "https://localhost:8080/"
    },
    "executionInfo": {
     "elapsed": 92,
     "status": "ok",
     "timestamp": 1758855578232,
     "user": {
      "displayName": "Emiliano Iparraguirre",
      "userId": "05882973458228467604"
     },
     "user_tz": 180
    },
    "id": "3631fa56",
    "outputId": "ae4bd463-154b-4e4b-f6d7-750fb6b84b41"
   },
   "outputs": [
    {
     "name": "stdout",
     "output_type": "stream",
     "text": [
      "Split -> train: 1766, val: 379, test: 379\n"
     ]
    }
   ],
   "source": [
    "# ==== 2.1) Splits estratificados: 70/15/15 ====\n",
    "paths = df[\"path\"].values\n",
    "labels = df[\"class\"].values\n",
    "\n",
    "train_paths, test_paths, train_labels, test_labels = train_test_split(\n",
    "    paths, labels, test_size=0.15, stratify=labels, random_state=SEED\n",
    ")\n",
    "train_paths, val_paths, train_labels, val_labels = train_test_split(\n",
    "    train_paths, train_labels, test_size=0.1765, stratify=train_labels, random_state=SEED\n",
    ")  # 0.1765 ~ 0.15 del total\n",
    "\n",
    "print(f\"Split -> train: {len(train_paths)}, val: {len(val_paths)}, test: {len(test_paths)}\")"
   ]
  },
  {
   "cell_type": "markdown",
   "id": "5a4fc96d",
   "metadata": {
    "id": "5a4fc96d"
   },
   "source": [
    "### 1.2.2. Transforms"
   ]
  },
  {
   "cell_type": "code",
   "execution_count": 19,
   "id": "e9a55b17",
   "metadata": {
    "executionInfo": {
     "elapsed": 81,
     "status": "ok",
     "timestamp": 1758855582339,
     "user": {
      "displayName": "Emiliano Iparraguirre",
      "userId": "05882973458228467604"
     },
     "user_tz": 180
    },
    "id": "e9a55b17"
   },
   "outputs": [],
   "source": [
    "# ==== 2.2) Transforms (basado en las conclusiones del EDA) ====\n",
    "imagenet_mean = [0.485, 0.456, 0.406]\n",
    "imagenet_std  = [0.229, 0.224, 0.225]\n",
    "\n",
    "train_transform = T.Compose([\n",
    "    # romper encuadre fijo y dependencia del fondo\n",
    "    T.RandomResizedCrop(IMG_SIZE, scale=(0.85, 1.0), ratio=(0.9, 1.1),\n",
    "                        interpolation=InterpolationMode.BILINEAR, antialias=True),\n",
    "    T.RandomHorizontalFlip(p=0.5),\n",
    "    T.RandomRotation(15, fill=(255,255,255)),\n",
    "    T.ColorJitter(brightness=0.25, contrast=0.25, saturation=0.25, hue=0.02),\n",
    "    T.RandomPerspective(distortion_scale=0.2, p=0.2),\n",
    "    T.ToTensor(),\n",
    "    T.Normalize(mean=imagenet_mean, std=imagenet_std),\n",
    "])\n",
    "\n",
    "eval_transform = T.Compose([\n",
    "    T.Resize((IMG_SIZE, IMG_SIZE), interpolation=InterpolationMode.BILINEAR, antialias=True),\n",
    "    T.ToTensor(),\n",
    "    T.Normalize(mean=imagenet_mean, std=imagenet_std),\n",
    "])"
   ]
  },
  {
   "cell_type": "markdown",
   "id": "ee408fa3",
   "metadata": {
    "id": "ee408fa3"
   },
   "source": [
    "### 1.2.3. Crear datasets: Train / Validación / Test"
   ]
  },
  {
   "cell_type": "code",
   "execution_count": 20,
   "id": "a7d3ea75",
   "metadata": {
    "executionInfo": {
     "elapsed": 89,
     "status": "ok",
     "timestamp": 1758855586130,
     "user": {
      "displayName": "Emiliano Iparraguirre",
      "userId": "05882973458228467604"
     },
     "user_tz": 180
    },
    "id": "a7d3ea75"
   },
   "outputs": [],
   "source": [
    "# ==== 2.3) Dataset ====\n",
    "class TrashDataset(Dataset):\n",
    "    def __init__(self, paths, labels, transform=None, class_to_idx=None):\n",
    "        self.paths = list(paths)\n",
    "        self.labels = list(labels)\n",
    "        self.transform = transform\n",
    "        self.class_to_idx = class_to_idx\n",
    "\n",
    "    def __len__(self):\n",
    "        return len(self.paths)\n",
    "\n",
    "    def __getitem__(self, idx):\n",
    "        img = Image.open(self.paths[idx]).convert(\"RGB\")\n",
    "        if self.transform:\n",
    "            img = self.transform(img)\n",
    "        label_idx = self.class_to_idx[self.labels[idx]]\n",
    "        return img, label_idx\n",
    "\n",
    "train_ds = TrashDataset(train_paths, train_labels, transform=train_transform, class_to_idx=class_to_idx)\n",
    "val_ds   = TrashDataset(val_paths,   val_labels,   transform=eval_transform,  class_to_idx=class_to_idx)\n",
    "test_ds  = TrashDataset(test_paths,  test_labels,  transform=eval_transform,  class_to_idx=class_to_idx)"
   ]
  },
  {
   "cell_type": "markdown",
   "id": "afb31ba5",
   "metadata": {
    "id": "afb31ba5"
   },
   "source": [
    "### 1.3. Balanceo de clases"
   ]
  },
  {
   "cell_type": "code",
   "execution_count": 21,
   "id": "c37480ae",
   "metadata": {
    "colab": {
     "base_uri": "https://localhost:8080/"
    },
    "executionInfo": {
     "elapsed": 205,
     "status": "ok",
     "timestamp": 1758855590010,
     "user": {
      "displayName": "Emiliano Iparraguirre",
      "userId": "05882973458228467604"
     },
     "user_tz": 180
    },
    "id": "c37480ae",
    "outputId": "9cb3ea2f-b641-426b-e381-533e7715fe07"
   },
   "outputs": [
    {
     "name": "stdout",
     "output_type": "stream",
     "text": [
      "Class weights (loss): {'cardboard': 1.0437352657318115, 'glass': 0.8385565280914307, 'metal': 1.0291374921798706, 'paper': 0.7075320482254028, 'plastic': 0.8759920597076416, 'trash': 3.098245620727539}\n"
     ]
    }
   ],
   "source": [
    "# ==== 5) Balanceo: class weights y WeightedRandomSampler ====\n",
    "# weights para la LOSS (inverso a la frecuencia)\n",
    "cls_weights = compute_class_weight(class_weight=\"balanced\",\n",
    "                                   classes=np.array(classes),\n",
    "                                   y=np.array(train_labels))\n",
    "cls_weights = torch.tensor(cls_weights, dtype=torch.float32).to(device)\n",
    "print(\"Class weights (loss):\", {c: float(w) for c,w in zip(classes, cls_weights)})\n",
    "\n",
    "# weights por muestra para sampler\n",
    "train_class_counts = pd.Series(train_labels).value_counts().to_dict()\n",
    "sample_weights = [1.0 / train_class_counts[lbl] for lbl in train_labels]\n",
    "train_sampler = WeightedRandomSampler(weights=sample_weights,\n",
    "                                      num_samples=len(sample_weights),\n",
    "                                      replacement=True)"
   ]
  },
  {
   "cell_type": "markdown",
   "id": "053e2e00",
   "metadata": {
    "id": "053e2e00"
   },
   "source": [
    "### 1.4. Dataloaders"
   ]
  },
  {
   "cell_type": "code",
   "execution_count": 22,
   "id": "aed585fc",
   "metadata": {
    "colab": {
     "base_uri": "https://localhost:8080/"
    },
    "executionInfo": {
     "elapsed": 186,
     "status": "ok",
     "timestamp": 1758855596043,
     "user": {
      "displayName": "Emiliano Iparraguirre",
      "userId": "05882973458228467604"
     },
     "user_tz": 180
    },
    "id": "aed585fc",
    "outputId": "11e991d1-13d1-46c3-e207-20361ca22ec9"
   },
   "outputs": [
    {
     "name": "stdout",
     "output_type": "stream",
     "text": [
      "Loaders OK → listo para entrenar baseline CNN.\n"
     ]
    }
   ],
   "source": [
    "# ==== 6) DataLoaders ====\n",
    "train_loader = DataLoader(train_ds, batch_size=BATCH_SIZE, sampler=train_sampler, num_workers=2, pin_memory=True)\n",
    "val_loader   = DataLoader(val_ds,   batch_size=BATCH_SIZE, shuffle=False, num_workers=2, pin_memory=True)\n",
    "test_loader  = DataLoader(test_ds,  batch_size=BATCH_SIZE, shuffle=False, num_workers=2, pin_memory=True)\n",
    "\n",
    "print(\"Loaders OK → listo para entrenar baseline CNN.\")"
   ]
  },
  {
   "cell_type": "markdown",
   "id": "23ff76a6",
   "metadata": {
    "id": "23ff76a6"
   },
   "source": [
    "## Conclusiones de la preparación del dataset\n",
    "\n",
    "- **Deduplicación de imágenes**:  \n",
    "  Se aplicó un análisis de *perceptual hash (pHash)* para detectar y eliminar imágenes duplicadas.  \n",
    "  - Se identificaron varios grupos de duplicados exactos, de los cuales se conservó una sola imagen representativa.  \n",
    "  - También se listaron posibles *casi-duplicados* (Hamming ≤ 2) para futura revisión manual.  \n",
    "  Esto permite reducir el riesgo de sobreajuste y sesgo en el entrenamiento.\n",
    "\n",
    "- **Sesgo del fondo**:  \n",
    "  El EDA previo había mostrado un predominio de fondos blancos y baja saturación en varias clases (*glass*, *metal*, *plastic*).  \n",
    "  Por eso, en la definición de *augmentations* se incorporaron recortes, rotaciones y jitter de color para reducir esta dependencia.\n",
    "\n",
    "- **Splits estratificados**:  \n",
    "  El dataset se dividió en **70% entrenamiento, 15% validación y 15% test**, preservando la proporción de clases.  \n",
    "  De esta forma aseguramos comparabilidad entre etapas y evitamos fugas de información.\n",
    "\n",
    "- **Balanceo de clases**:  \n",
    "  Se calcularon **class weights** (para la función de pérdida) y se implementó un **WeightedRandomSampler** en el *DataLoader* de entrenamiento.  \n",
    "  Esto busca compensar el desbalance identificado en clases minoritarias como *trash*.\n",
    "\n",
    "### Conclusión general\n",
    "El dataset ya está **depurado, balanceado y preparado** con un esquema de *augmentations* que ataca los principales sesgos detectados en el EDA.  \n",
    "Con esta base, estamos en condiciones de avanzar hacia el **entrenamiento del modelo baseline CNN** (ResNet18 con backbone congelado), que servirá como punto de comparación con modelos más complejos en la entrega final."
   ]
  },
  {
   "cell_type": "markdown",
   "id": "a9d16170",
   "metadata": {
    "id": "a9d16170"
   },
   "source": [
    "## 2. Baseline CNN (ResNet18 congelada)\n",
    "\n",
    "Con el dataset ya preparado y balanceado, el siguiente paso es entrenar un **modelo baseline de red convolucional**.  \n",
    "\n",
    "### Objetivo\n",
    "- Establecer un punto de referencia inicial con una arquitectura conocida (ResNet18 preentrenada en ImageNet).  \n",
    "- Comparar su desempeño frente al baseline de color + regresión logística desarrollado previamente.  \n",
    "- Validar si el modelo logra mejorar la separación entre clases más conflictivas (*glass, metal, plastic*).  \n",
    "\n",
    "### Estrategia\n",
    "1. **Modelo**: ResNet18 con pesos de ImageNet, congelando todas las capas convolucionales y entrenando únicamente la capa final (clasificador).  \n",
    "2. **Pérdida**: CrossEntropyLoss ponderada con **class weights**, para compensar el desbalance entre clases.  \n",
    "3. **Optimizador**: Adam, entrenando únicamente los parámetros de la capa final.  \n",
    "4. **Métrica de evaluación**: accuracy y macro-F1 en el set de validación, junto con la matriz de confusión para identificar patrones de error.  \n",
    "5. **Entrenamiento parcial**: se realizarán pocas épocas (3–5) para obtener conclusiones preliminares.  \n",
    "\n",
    "### Conclusiones parciales esperadas\n",
    "Este baseline debería superar el desempeño del modelo de color + LR, especialmente en clases donde las diferencias de textura y forma son relevantes (*cardboard, paper, plastic*). Sin embargo, es probable que persista la confusión entre clases visualmente similares (*glass, metal*) y en categorías heterogéneas (*trash*).  "
   ]
  },
  {
   "cell_type": "code",
   "execution_count": 23,
   "id": "3762bb07",
   "metadata": {
    "executionInfo": {
     "elapsed": 681,
     "status": "ok",
     "timestamp": 1758855603560,
     "user": {
      "displayName": "Emiliano Iparraguirre",
      "userId": "05882973458228467604"
     },
     "user_tz": 180
    },
    "id": "3762bb07"
   },
   "outputs": [],
   "source": [
    "# ==== Paso 2: Baseline CNN (ResNet18 congelada) ====\n",
    "import torchvision.models as models\n",
    "import torch.nn as nn\n",
    "import torch.optim as optim\n",
    "import seaborn as sns\n",
    "\n",
    "from sklearn.metrics import accuracy_score, f1_score, classification_report, confusion_matrix\n",
    "\n",
    "num_classes = len(classes)"
   ]
  },
  {
   "cell_type": "code",
   "execution_count": 24,
   "id": "d49d8bf0",
   "metadata": {
    "colab": {
     "base_uri": "https://localhost:8080/"
    },
    "executionInfo": {
     "elapsed": 1080,
     "status": "ok",
     "timestamp": 1758855609493,
     "user": {
      "displayName": "Emiliano Iparraguirre",
      "userId": "05882973458228467604"
     },
     "user_tz": 180
    },
    "id": "d49d8bf0",
    "outputId": "91efb9fd-5fac-48f9-e866-ee8a5bdfe535"
   },
   "outputs": [],
   "source": [
    "# 1) Modelo con pesos de ImageNet y backbone congelado\n",
    "weights = models.ResNet18_Weights.IMAGENET1K_V1\n",
    "model = models.resnet18(weights=weights)\n",
    "for p in model.parameters():\n",
    "    p.requires_grad = False  # congelamos todo\n",
    "# reemplazamos la capa final\n",
    "model.fc = nn.Linear(model.fc.in_features, num_classes)\n",
    "model = model.to(device)"
   ]
  },
  {
   "cell_type": "code",
   "execution_count": 25,
   "id": "479452aa",
   "metadata": {
    "executionInfo": {
     "elapsed": 4,
     "status": "ok",
     "timestamp": 1758855613876,
     "user": {
      "displayName": "Emiliano Iparraguirre",
      "userId": "05882973458228467604"
     },
     "user_tz": 180
    },
    "id": "479452aa"
   },
   "outputs": [],
   "source": [
    "# 2) Loss con class weights (del Paso 1) y optimizador solo del clasificador\n",
    "criterion = nn.CrossEntropyLoss(weight=cls_weights)  # cls_weights ya en device\n",
    "optimizer = optim.Adam(model.fc.parameters(), lr=1e-3, weight_decay=1e-4)"
   ]
  },
  {
   "cell_type": "code",
   "execution_count": 26,
   "id": "157892d9",
   "metadata": {
    "executionInfo": {
     "elapsed": 73,
     "status": "ok",
     "timestamp": 1758855616574,
     "user": {
      "displayName": "Emiliano Iparraguirre",
      "userId": "05882973458228467604"
     },
     "user_tz": 180
    },
    "id": "157892d9"
   },
   "outputs": [],
   "source": [
    "# 3) Utilidades de entrenamiento/validación\n",
    "def run_epoch(model, loader, optimizer=None):\n",
    "    is_train = optimizer is not None\n",
    "    model.train(is_train)\n",
    "\n",
    "    all_preds, all_labels = [], []\n",
    "    running_loss = 0.0\n",
    "\n",
    "    for imgs, labels in tqdm(loader, leave=False):\n",
    "        imgs, labels = imgs.to(device), labels.to(device)\n",
    "\n",
    "        if is_train:\n",
    "            optimizer.zero_grad()\n",
    "\n",
    "        logits = model(imgs)\n",
    "        loss = criterion(logits, labels)\n",
    "\n",
    "        if is_train:\n",
    "            loss.backward()\n",
    "            optimizer.step()\n",
    "\n",
    "        running_loss += loss.item() * imgs.size(0)\n",
    "        preds = logits.argmax(dim=1)\n",
    "        all_preds.append(preds.detach().cpu().numpy())\n",
    "        all_labels.append(labels.detach().cpu().numpy())\n",
    "\n",
    "    all_preds = np.concatenate(all_preds)\n",
    "    all_labels = np.concatenate(all_labels)\n",
    "    avg_loss = running_loss / len(loader.dataset)\n",
    "    acc = accuracy_score(all_labels, all_preds)\n",
    "    macro_f1 = f1_score(all_labels, all_preds, average=\"macro\")\n",
    "\n",
    "    return avg_loss, acc, macro_f1, all_labels, all_preds\n",
    "\n",
    "def plot_conf_mat(y_true, y_pred, classes, title):\n",
    "    cm = confusion_matrix(y_true, y_pred, labels=list(range(len(classes))))\n",
    "    plt.figure(figsize=(6.5,5.5))\n",
    "    sns.heatmap(cm, annot=True, fmt=\"d\",\n",
    "                xticklabels=classes, yticklabels=classes)\n",
    "    plt.title(title)\n",
    "    plt.xlabel(\"Predicho\"); plt.ylabel(\"Real\")\n",
    "    plt.tight_layout(); plt.show()"
   ]
  },
  {
   "cell_type": "code",
   "execution_count": 27,
   "id": "37edfda5",
   "metadata": {
    "colab": {
     "base_uri": "https://localhost:8080/"
    },
    "executionInfo": {
     "elapsed": 110736,
     "status": "ok",
     "timestamp": 1758855731905,
     "user": {
      "displayName": "Emiliano Iparraguirre",
      "userId": "05882973458228467604"
     },
     "user_tz": 180
    },
    "id": "37edfda5",
    "outputId": "14978e31-7805-4f41-e8e5-a63eb5d7cfc5"
   },
   "outputs": [
    {
     "name": "stdout",
     "output_type": "stream",
     "text": [
      "\n",
      "Epoch 1/5\n"
     ]
    },
    {
     "name": "stderr",
     "output_type": "stream",
     "text": [
      "                                               \r"
     ]
    },
    {
     "name": "stdout",
     "output_type": "stream",
     "text": [
      "  Train   | loss=1.3625  acc=0.328  macroF1=0.299\n",
      "  Val     | loss=1.2332  acc=0.544  macroF1=0.547\n",
      "\n",
      "Epoch 2/5\n"
     ]
    },
    {
     "name": "stderr",
     "output_type": "stream",
     "text": [
      "                                               \r"
     ]
    },
    {
     "name": "stdout",
     "output_type": "stream",
     "text": [
      "  Train   | loss=0.9551  acc=0.561  macroF1=0.557\n",
      "  Val     | loss=1.1451  acc=0.515  macroF1=0.518\n",
      "\n",
      "Epoch 3/5\n"
     ]
    },
    {
     "name": "stderr",
     "output_type": "stream",
     "text": [
      "                                               \r"
     ]
    },
    {
     "name": "stdout",
     "output_type": "stream",
     "text": [
      "  Train   | loss=0.8560  acc=0.633  macroF1=0.633\n",
      "  Val     | loss=0.9416  acc=0.641  macroF1=0.638\n",
      "\n",
      "Epoch 4/5\n"
     ]
    },
    {
     "name": "stderr",
     "output_type": "stream",
     "text": [
      "                                               \r"
     ]
    },
    {
     "name": "stdout",
     "output_type": "stream",
     "text": [
      "  Train   | loss=0.7336  acc=0.688  macroF1=0.688\n",
      "  Val     | loss=0.9868  acc=0.607  macroF1=0.607\n",
      "\n",
      "Epoch 5/5\n"
     ]
    },
    {
     "name": "stderr",
     "output_type": "stream",
     "text": [
      "                                               "
     ]
    },
    {
     "name": "stdout",
     "output_type": "stream",
     "text": [
      "  Train   | loss=0.7294  acc=0.680  macroF1=0.679\n",
      "  Val     | loss=0.8743  acc=0.670  macroF1=0.657\n"
     ]
    },
    {
     "name": "stderr",
     "output_type": "stream",
     "text": [
      "\r"
     ]
    }
   ],
   "source": [
    "# 4) Entrenamiento corto con early stopping simple\n",
    "EPOCHS = 5\n",
    "best_val_f1 = -1.0\n",
    "best_state = None\n",
    "\n",
    "for epoch in range(1, EPOCHS+1):\n",
    "    print(f\"\\nEpoch {epoch}/{EPOCHS}\")\n",
    "\n",
    "    tr_loss, tr_acc, tr_f1, _, _ = run_epoch(model, train_loader, optimizer)\n",
    "    vl_loss, vl_acc, vl_f1, vl_y, vl_p = run_epoch(model, val_loader, optimizer=None)\n",
    "\n",
    "    print(f\"  Train   | loss={tr_loss:.4f}  acc={tr_acc:.3f}  macroF1={tr_f1:.3f}\")\n",
    "    print(f\"  Val     | loss={vl_loss:.4f}  acc={vl_acc:.3f}  macroF1={vl_f1:.3f}\")\n",
    "\n",
    "    # guardamos el mejor por macro-F1 de validación\n",
    "    if vl_f1 > best_val_f1:\n",
    "        best_val_f1 = vl_f1\n",
    "        best_state = {k: v.cpu() for k, v in model.state_dict().items()}"
   ]
  },
  {
   "cell_type": "code",
   "execution_count": 24,
   "id": "721b9d6d",
   "metadata": {
    "colab": {
     "base_uri": "https://localhost:8080/",
     "height": 869
    },
    "executionInfo": {
     "elapsed": 5806,
     "status": "ok",
     "timestamp": 1758855745859,
     "user": {
      "displayName": "Emiliano Iparraguirre",
      "userId": "05882973458228467604"
     },
     "user_tz": 180
    },
    "id": "721b9d6d",
    "outputId": "30a59119-b424-4e6f-b698-ab2375ad588f"
   },
   "outputs": [
    {
     "name": "stderr",
     "output_type": "stream",
     "text": []
    },
    {
     "name": "stdout",
     "output_type": "stream",
     "text": [
      "\n",
      "=== Resultados en TEST (checkpoint con mejor macro-F1 en val) ===\n",
      "Test | loss=0.8107  acc=0.673  macroF1=0.657\n",
      "\n",
      "Classification report (test):\n",
      "              precision    recall  f1-score   support\n",
      "\n",
      "   cardboard      0.971     0.541     0.695        61\n",
      "       glass      0.790     0.653     0.715        75\n",
      "       metal      0.667     0.852     0.748        61\n",
      "       paper      0.855     0.596     0.702        89\n",
      "     plastic      0.761     0.708     0.734        72\n",
      "       trash      0.224     0.810     0.351        21\n",
      "\n",
      "    accuracy                          0.673       379\n",
      "   macro avg      0.711     0.693     0.657       379\n",
      "weighted avg      0.778     0.673     0.697       379\n",
      "\n"
     ]
    },
    {
     "data": {
      "image/png": "[encoded data removed]",
      "text/plain": [
       "<Figure size 650x550 with 2 Axes>"
      ]
     },
     "metadata": {},
     "output_type": "display_data"
    }
   ],
   "source": [
    "# 5) Evaluación en test con el mejor checkpoint\n",
    "if best_state is not None:\n",
    "    model.load_state_dict({k: v.to(device) for k, v in best_state.items()})\n",
    "\n",
    "ts_loss, ts_acc, ts_f1, ts_y, ts_p = run_epoch(model, test_loader, optimizer=None)\n",
    "print(\"\\n=== Resultados en TEST (checkpoint con mejor macro-F1 en val) ===\")\n",
    "print(f\"Test | loss={ts_loss:.4f}  acc={ts_acc:.3f}  macroF1={ts_f1:.3f}\")\n",
    "print(\"\\nClassification report (test):\")\n",
    "print(classification_report(ts_y, ts_p, target_names=classes, digits=3))\n",
    "\n",
    "plot_conf_mat(ts_y, ts_p, classes, title=\"Matriz de confusión - Baseline ResNet18 (congelada)\")"
   ]
  },
  {
   "cell_type": "markdown",
   "id": "av4-TGob-jPQ",
   "metadata": {
    "id": "av4-TGob-jPQ"
   },
   "source": [
    "### Conclusiones del Baseline con ResNet18 (congelada)\n",
    "\n",
    "- **Mejora frente al baseline simple (ColorHist + LR):**  \n",
    "  La ResNet18 preentrenada (congelando el backbone) alcanzó un **accuracy del 67% y un Macro-F1 de 0.657** en el conjunto de test, lo que representa una mejora clara sobre el baseline inicial basado en histogramas de color (~53%). Esto confirma que el modelo logra capturar características visuales más ricas.\n",
    "\n",
    "- **Desempeño por clase:**  \n",
    "  - **Muy bueno en *glass*, *metal* y *plastic*** (F1 ≈ 0.71–0.74).  \n",
    "  - **Rendimiento moderado en *cardboard* y *paper***, con confusiones frecuentes con *trash*.  \n",
    "  - **Problema en *trash***: aunque el recall fue alto (0.81), la precisión fue muy baja (0.22), mostrando que el modelo clasifica erróneamente muchas imágenes de otras clases como *trash*.\n",
    "\n",
    "- **Confusiones principales (según matriz):**  \n",
    "  - *Cardboard* ↔ *trash*  \n",
    "  - *Paper* ↔ *trash*  \n",
    "  - *Glass* ↔ *plastic*  \n",
    "  Estas confusiones coinciden con lo observado en el EDA y en los embeddings (clases con características visuales similares).\n",
    "\n",
    "- **Tendencias de entrenamiento:**  \n",
    "  - El modelo mejora progresivamente en *train* y *val*, alcanzando el mejor desempeño en **epoch 3** (macro-F1 val = 0.638).  \n",
    "  - Luego se observa cierta oscilación en validación, señal de que podría beneficiarse de un mayor ajuste (fine-tuning parcial, regularización o más datos augmentados).\n",
    "\n",
    "- **Conclusión general:**  \n",
    "  La ResNet18 congelada es un baseline sólido que demuestra la utilidad de usar representaciones preentrenadas en ImageNet. El siguiente paso lógico será **descongelar parcialmente capas superiores** (fine-tuning) y/o **reforzar las técnicas de data augmentation** para reducir las confusiones, especialmente en la clase *trash*."
   ]
  },
  {
   "cell_type": "markdown",
   "id": "gji_fLm8_qx-",
   "metadata": {
    "id": "gji_fLm8_qx-"
   },
   "source": [
    "### Fine tuning de hiper parametros mediante Optuna"
   ]
  },
  {
   "cell_type": "code",
   "execution_count": 29,
   "id": "92b8043b",
   "metadata": {},
   "outputs": [
    {
     "name": "stderr",
     "output_type": "stream",
     "text": [
      "[I 2025-09-26 16:57:49,009] A new study created in memory with name: no-name-5e40d6da-9617-4776-9f2d-0483c3ef9168\n",
      "/home/martin/Documents/CEIA/CEIA-vpc2/.venv/lib/python3.11/site-packages/torchvision/models/_utils.py:208: UserWarning: The parameter 'pretrained' is deprecated since 0.13 and may be removed in the future, please use 'weights' instead.\n",
      "  warnings.warn(\n",
      "/home/martin/Documents/CEIA/CEIA-vpc2/.venv/lib/python3.11/site-packages/torchvision/models/_utils.py:223: UserWarning: Arguments other than a weight enum or `None` for 'weights' are deprecated since 0.13 and may be removed in the future. The current behavior is equivalent to passing `weights=ResNet18_Weights.IMAGENET1K_V1`. You can also use `weights=ResNet18_Weights.DEFAULT` to get the most up-to-date weights.\n",
      "  warnings.warn(msg)\n",
      "[I 2025-09-26 16:58:02,248] Trial 0 finished with value: 0.39841688654353563 and parameters: {'lr': 0.002149148418532321, 'weight_decay': 0.002529963496880373, 'optimizer': 'Adam', 'batch_size': 32}. Best is trial 0 with value: 0.39841688654353563.\n",
      "[I 2025-09-26 16:58:15,516] Trial 1 finished with value: 0.6754617414248021 and parameters: {'lr': 0.0009720897039721775, 'weight_decay': 6.071644071973602e-06, 'optimizer': 'Adam', 'batch_size': 32}. Best is trial 1 with value: 0.6754617414248021.\n",
      "[I 2025-09-26 16:58:28,805] Trial 2 finished with value: 0.40369393139841686 and parameters: {'lr': 0.003598474903600107, 'weight_decay': 3.1080538614454226e-05, 'optimizer': 'Adam', 'batch_size': 32}. Best is trial 1 with value: 0.6754617414248021.\n",
      "[I 2025-09-26 16:58:42,330] Trial 3 finished with value: 0.5013192612137203 and parameters: {'lr': 6.516802016280091e-05, 'weight_decay': 0.0033402743782521005, 'optimizer': 'SGD', 'batch_size': 64}. Best is trial 1 with value: 0.6754617414248021.\n",
      "[I 2025-09-26 16:58:55,486] Trial 4 finished with value: 0.8258575197889182 and parameters: {'lr': 0.0024643113043938984, 'weight_decay': 0.0001225000303083835, 'optimizer': 'SGD', 'batch_size': 16}. Best is trial 4 with value: 0.8258575197889182.\n",
      "[I 2025-09-26 16:59:08,641] Trial 5 finished with value: 0.6253298153034301 and parameters: {'lr': 0.0005256489678797737, 'weight_decay': 5.5173035005851986e-05, 'optimizer': 'Adam', 'batch_size': 16}. Best is trial 4 with value: 0.8258575197889182.\n",
      "[I 2025-09-26 16:59:21,827] Trial 6 finished with value: 0.8469656992084432 and parameters: {'lr': 1.4923736750669796e-05, 'weight_decay': 0.008626533323026367, 'optimizer': 'Adam', 'batch_size': 16}. Best is trial 6 with value: 0.8469656992084432.\n",
      "[I 2025-09-26 16:59:35,262] Trial 7 finished with value: 0.42480211081794195 and parameters: {'lr': 0.004676374312195258, 'weight_decay': 8.715120574897651e-05, 'optimizer': 'Adam', 'batch_size': 64}. Best is trial 6 with value: 0.8469656992084432.\n",
      "[I 2025-09-26 16:59:48,748] Trial 8 finished with value: 0.862796833773087 and parameters: {'lr': 0.0019361502812057314, 'weight_decay': 0.00010309722008746917, 'optimizer': 'SGD', 'batch_size': 64}. Best is trial 8 with value: 0.862796833773087.\n",
      "[I 2025-09-26 17:00:02,093] Trial 9 finished with value: 0.8733509234828496 and parameters: {'lr': 0.0009243117802620462, 'weight_decay': 0.0012564601390221992, 'optimizer': 'SGD', 'batch_size': 32}. Best is trial 9 with value: 0.8733509234828496.\n",
      "[I 2025-09-26 17:00:15,330] Trial 10 finished with value: 0.7757255936675461 and parameters: {'lr': 0.00020871566551550625, 'weight_decay': 0.0004246642413192061, 'optimizer': 'SGD', 'batch_size': 32}. Best is trial 9 with value: 0.8733509234828496.\n",
      "[I 2025-09-26 17:00:28,829] Trial 11 finished with value: 0.6385224274406333 and parameters: {'lr': 0.00019744054718248135, 'weight_decay': 0.0007319061524326822, 'optimizer': 'SGD', 'batch_size': 64}. Best is trial 9 with value: 0.8733509234828496.\n",
      "[I 2025-09-26 17:00:42,385] Trial 12 finished with value: 0.8232189973614775 and parameters: {'lr': 0.009789852160671419, 'weight_decay': 4.76305233196951e-06, 'optimizer': 'SGD', 'batch_size': 64}. Best is trial 9 with value: 0.8733509234828496.\n",
      "[I 2025-09-26 17:00:55,693] Trial 13 finished with value: 0.8311345646437994 and parameters: {'lr': 0.0007191043262526378, 'weight_decay': 0.0005333999041801577, 'optimizer': 'SGD', 'batch_size': 32}. Best is trial 9 with value: 0.8733509234828496.\n",
      "[I 2025-09-26 17:01:09,228] Trial 14 finished with value: 0.8601583113456465 and parameters: {'lr': 0.0011623668011095142, 'weight_decay': 0.00023078343497728428, 'optimizer': 'SGD', 'batch_size': 64}. Best is trial 9 with value: 0.8733509234828496.\n",
      "[I 2025-09-26 17:01:22,540] Trial 15 finished with value: 0.6226912928759895 and parameters: {'lr': 8.006298032610517e-05, 'weight_decay': 0.0015570062285943597, 'optimizer': 'SGD', 'batch_size': 32}. Best is trial 9 with value: 0.8733509234828496.\n",
      "[I 2025-09-26 17:01:36,182] Trial 16 finished with value: 0.7176781002638523 and parameters: {'lr': 0.00039675420663999117, 'weight_decay': 1.1624494126659623e-06, 'optimizer': 'SGD', 'batch_size': 64}. Best is trial 9 with value: 0.8733509234828496.\n",
      "[I 2025-09-26 17:01:49,573] Trial 17 finished with value: 0.7203166226912929 and parameters: {'lr': 0.00969922459505208, 'weight_decay': 2.8566881340855166e-05, 'optimizer': 'SGD', 'batch_size': 32}. Best is trial 9 with value: 0.8733509234828496.\n",
      "[I 2025-09-26 17:02:03,016] Trial 18 finished with value: 0.841688654353562 and parameters: {'lr': 0.0015230649222765067, 'weight_decay': 7.790969643313376e-06, 'optimizer': 'SGD', 'batch_size': 64}. Best is trial 9 with value: 0.8733509234828496.\n",
      "[I 2025-09-26 17:02:16,154] Trial 19 finished with value: 0.7440633245382586 and parameters: {'lr': 8.668629873450415e-05, 'weight_decay': 0.00018490717368448752, 'optimizer': 'SGD', 'batch_size': 16}. Best is trial 9 with value: 0.8733509234828496.\n"
     ]
    },
    {
     "name": "stdout",
     "output_type": "stream",
     "text": [
      "Best trial:\n",
      "  Accuracy: 0.8734\n",
      "  Params: {'lr': 0.0009243117802620462, 'weight_decay': 0.0012564601390221992, 'optimizer': 'SGD', 'batch_size': 32}\n"
     ]
    }
   ],
   "source": [
    "import optuna\n",
    "import torch.nn as nn\n",
    "import torch.optim as optim\n",
    "from torchvision import models\n",
    "from torch.utils.data import DataLoader\n",
    "\n",
    "def objective(trial):\n",
    "    # --- Hyperparameters to tune ---\n",
    "    lr = trial.suggest_float(\"lr\", 1e-5, 1e-2, log=True)\n",
    "    weight_decay = trial.suggest_float(\"weight_decay\", 1e-6, 1e-2, log=True)\n",
    "    optimizer_name = trial.suggest_categorical(\"optimizer\", [\"Adam\", \"SGD\"])\n",
    "    batch_size = trial.suggest_categorical(\"batch_size\", [16, 32, 64])\n",
    "\n",
    "    # --- Data loaders with trial batch_size ---\n",
    "    train_loader = DataLoader(train_ds, batch_size=batch_size, shuffle=True, num_workers=2, pin_memory=True)\n",
    "    val_loader   = DataLoader(val_ds,   batch_size=batch_size, shuffle=False, num_workers=2, pin_memory=True)\n",
    "\n",
    "    # --- Model ---\n",
    "    model = models.resnet18(pretrained=True)\n",
    "    num_ftrs = model.fc.in_features\n",
    "    model.fc = nn.Linear(num_ftrs, num_classes)\n",
    "    model = model.to(device)\n",
    "\n",
    "    # --- Loss & Optimizer ---\n",
    "    criterion = nn.CrossEntropyLoss()\n",
    "    if optimizer_name == \"Adam\":\n",
    "        optimizer = optim.Adam(model.parameters(), lr=lr, weight_decay=weight_decay)\n",
    "    else:\n",
    "        optimizer = optim.SGD(model.parameters(), lr=lr, momentum=0.9, weight_decay=weight_decay)\n",
    "\n",
    "    # --- Training loop (shortened for Optuna speed) ---\n",
    "    trial_epochs = 5\n",
    "    for epoch in range(trial_epochs):\n",
    "        model.train()\n",
    "        for images, labels in train_loader:\n",
    "            images, labels = images.to(device), labels.to(device)\n",
    "            optimizer.zero_grad()\n",
    "            outputs = model(images)\n",
    "            loss = criterion(outputs, labels)\n",
    "            loss.backward()\n",
    "            optimizer.step()\n",
    "\n",
    "    # --- Validation ---\n",
    "    model.eval()\n",
    "    correct, total = 0, 0\n",
    "    with torch.no_grad():\n",
    "        for images, labels in val_loader:\n",
    "            images, labels = images.to(device), labels.to(device)\n",
    "            outputs = model(images)\n",
    "            _, predicted = torch.max(outputs.data, 1)\n",
    "            total += labels.size(0)\n",
    "            correct += (predicted == labels).sum().item()\n",
    "\n",
    "    accuracy = correct / total\n",
    "    return accuracy\n",
    "\n",
    "\n",
    "# --- Run Optuna study ---\n",
    "study = optuna.create_study(direction=\"maximize\")\n",
    "study.optimize(objective, n_trials=20)\n",
    "\n",
    "print(\"Best trial:\")\n",
    "trial = study.best_trial\n",
    "print(f\"  Accuracy: {trial.value:.4f}\")\n",
    "print(\"  Params:\", trial.params)\n"
   ]
  },
  {
   "cell_type": "markdown",
   "id": "e7d39515",
   "metadata": {},
   "source": [
    "## 3. Fine-tuning ligero (descongelar `layer4` de ResNet18)\n",
    "\n",
    "### Objetivo\n",
    "- Mejorar el baseline congelado capturando **patrones más específicos del dominio TrashNet** (formas/texturas finas).\n",
    "- Reducir confusiones clave (*glass ↔ plastic*, *paper/cardboard ↔ trash*).\n",
    "- Mantener entrenamiento **estable y rápido** sin sobreajuste."
   ]
  }
 ],
 "metadata": {
  "accelerator": "GPU",
  "colab": {
   "gpuType": "T4",
   "provenance": []
  },
  "kernelspec": {
   "display_name": "ceia-vpc2",
   "language": "python",
   "name": "python3"
  },
  "language_info": {
   "codemirror_mode": {
    "name": "ipython",
    "version": 3
   },
   "file_extension": ".py",
   "mimetype": "text/x-python",
   "name": "python",
   "nbconvert_exporter": "python",
   "pygments_lexer": "ipython3",
   "version": "3.11.13"
  }
 },
 "nbformat": 4,
 "nbformat_minor": 5
}
